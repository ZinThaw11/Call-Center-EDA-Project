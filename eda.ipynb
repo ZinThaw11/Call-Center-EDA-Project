{
 "cells": [
  {
   "cell_type": "code",
   "execution_count": 73,
   "metadata": {},
   "outputs": [],
   "source": [
    "import pandas as pd\n",
    "import numpy as np \n",
    "from dateutil import parser\n",
    "import isodate\n",
    "from datetime import datetime\n",
    "import plotly.graph_objects as go\n",
    "import plotly.express as px"
   ]
  },
  {
   "cell_type": "code",
   "execution_count": 7,
   "metadata": {},
   "outputs": [
    {
     "data": {
      "text/html": [
       "<div>\n",
       "<style scoped>\n",
       "    .dataframe tbody tr th:only-of-type {\n",
       "        vertical-align: middle;\n",
       "    }\n",
       "\n",
       "    .dataframe tbody tr th {\n",
       "        vertical-align: top;\n",
       "    }\n",
       "\n",
       "    .dataframe thead th {\n",
       "        text-align: right;\n",
       "    }\n",
       "</style>\n",
       "<table border=\"1\" class=\"dataframe\">\n",
       "  <thead>\n",
       "    <tr style=\"text-align: right;\">\n",
       "      <th></th>\n",
       "      <th>Time</th>\n",
       "      <th>Caller Name</th>\n",
       "      <th>Caller Number</th>\n",
       "      <th>Callee Name</th>\n",
       "      <th>Callee Number</th>\n",
       "      <th>DOD</th>\n",
       "      <th>DID</th>\n",
       "      <th>Call Duration</th>\n",
       "      <th>Talk Duration</th>\n",
       "      <th>Status</th>\n",
       "      <th>Source Trunk</th>\n",
       "      <th>Destination Trunk</th>\n",
       "      <th>Communication Type</th>\n",
       "      <th>PIN Code</th>\n",
       "      <th>Caller IP Address</th>\n",
       "      <th>Recordfile</th>\n",
       "    </tr>\n",
       "  </thead>\n",
       "  <tbody>\n",
       "    <tr>\n",
       "      <th>0</th>\n",
       "      <td>31/12/2023 23:28</td>\n",
       "      <td>9.59402E+11</td>\n",
       "      <td>9.594020e+11</td>\n",
       "      <td>1018</td>\n",
       "      <td>6700(1018)</td>\n",
       "      <td>NaN</td>\n",
       "      <td>NaN</td>\n",
       "      <td>00:02:27</td>\n",
       "      <td>00:02:23</td>\n",
       "      <td>ANSWERED</td>\n",
       "      <td>Telenor_SIP</td>\n",
       "      <td>NaN</td>\n",
       "      <td>Inbound</td>\n",
       "      <td>NaN</td>\n",
       "      <td>NaN</td>\n",
       "      <td>20231231232816-1704041884.1734712-+95940155386...</td>\n",
       "    </tr>\n",
       "    <tr>\n",
       "      <th>1</th>\n",
       "      <td>31/12/2023 23:11</td>\n",
       "      <td>9783003653</td>\n",
       "      <td>9.783004e+09</td>\n",
       "      <td>1018</td>\n",
       "      <td>6700(1018)</td>\n",
       "      <td>NaN</td>\n",
       "      <td>NaN</td>\n",
       "      <td>00:00:47</td>\n",
       "      <td>00:00:40</td>\n",
       "      <td>ANSWERED</td>\n",
       "      <td>Telenor_SIP</td>\n",
       "      <td>NaN</td>\n",
       "      <td>Inbound</td>\n",
       "      <td>NaN</td>\n",
       "      <td>NaN</td>\n",
       "      <td>20231231231117-1704040862.1734665-9783003653-1...</td>\n",
       "    </tr>\n",
       "    <tr>\n",
       "      <th>2</th>\n",
       "      <td>31/12/2023 21:44</td>\n",
       "      <td>9.59259E+11</td>\n",
       "      <td>9.592590e+11</td>\n",
       "      <td>1018</td>\n",
       "      <td>6700(1018)</td>\n",
       "      <td>NaN</td>\n",
       "      <td>NaN</td>\n",
       "      <td>00:02:21</td>\n",
       "      <td>00:02:12</td>\n",
       "      <td>ANSWERED</td>\n",
       "      <td>Telenor_SIP</td>\n",
       "      <td>NaN</td>\n",
       "      <td>Inbound</td>\n",
       "      <td>NaN</td>\n",
       "      <td>NaN</td>\n",
       "      <td>20231231214409-1704035632.1734650-+95925930090...</td>\n",
       "    </tr>\n",
       "    <tr>\n",
       "      <th>3</th>\n",
       "      <td>31/12/2023 21:37</td>\n",
       "      <td>9.59798E+11</td>\n",
       "      <td>9.597980e+11</td>\n",
       "      <td>1011</td>\n",
       "      <td>6700(1011)</td>\n",
       "      <td>NaN</td>\n",
       "      <td>NaN</td>\n",
       "      <td>00:01:19</td>\n",
       "      <td>00:01:07</td>\n",
       "      <td>ANSWERED</td>\n",
       "      <td>Telenor_SIP</td>\n",
       "      <td>NaN</td>\n",
       "      <td>Inbound</td>\n",
       "      <td>NaN</td>\n",
       "      <td>NaN</td>\n",
       "      <td>20231231213714-1704035214.1734615-+95979841849...</td>\n",
       "    </tr>\n",
       "    <tr>\n",
       "      <th>4</th>\n",
       "      <td>31/12/2023 21:25</td>\n",
       "      <td>9.59421E+11</td>\n",
       "      <td>9.594210e+11</td>\n",
       "      <td>1018</td>\n",
       "      <td>6700(1018)</td>\n",
       "      <td>NaN</td>\n",
       "      <td>NaN</td>\n",
       "      <td>00:01:16</td>\n",
       "      <td>00:00:52</td>\n",
       "      <td>ANSWERED</td>\n",
       "      <td>Telenor_SIP</td>\n",
       "      <td>NaN</td>\n",
       "      <td>Inbound</td>\n",
       "      <td>NaN</td>\n",
       "      <td>NaN</td>\n",
       "      <td>20231231212551-1704034519.1734567-+95942070710...</td>\n",
       "    </tr>\n",
       "  </tbody>\n",
       "</table>\n",
       "</div>"
      ],
      "text/plain": [
       "               Time  Caller Name  Caller Number Callee Name Callee Number  \\\n",
       "0  31/12/2023 23:28  9.59402E+11   9.594020e+11        1018    6700(1018)   \n",
       "1  31/12/2023 23:11   9783003653   9.783004e+09        1018    6700(1018)   \n",
       "2  31/12/2023 21:44  9.59259E+11   9.592590e+11        1018    6700(1018)   \n",
       "3  31/12/2023 21:37  9.59798E+11   9.597980e+11        1011    6700(1011)   \n",
       "4  31/12/2023 21:25  9.59421E+11   9.594210e+11        1018    6700(1018)   \n",
       "\n",
       "   DOD  DID Call Duration Talk Duration    Status Source Trunk  \\\n",
       "0  NaN  NaN      00:02:27      00:02:23  ANSWERED  Telenor_SIP   \n",
       "1  NaN  NaN      00:00:47      00:00:40  ANSWERED  Telenor_SIP   \n",
       "2  NaN  NaN      00:02:21      00:02:12  ANSWERED  Telenor_SIP   \n",
       "3  NaN  NaN      00:01:19      00:01:07  ANSWERED  Telenor_SIP   \n",
       "4  NaN  NaN      00:01:16      00:00:52  ANSWERED  Telenor_SIP   \n",
       "\n",
       "  Destination Trunk Communication Type  PIN Code Caller IP Address  \\\n",
       "0               NaN            Inbound       NaN               NaN   \n",
       "1               NaN            Inbound       NaN               NaN   \n",
       "2               NaN            Inbound       NaN               NaN   \n",
       "3               NaN            Inbound       NaN               NaN   \n",
       "4               NaN            Inbound       NaN               NaN   \n",
       "\n",
       "                                          Recordfile  \n",
       "0  20231231232816-1704041884.1734712-+95940155386...  \n",
       "1  20231231231117-1704040862.1734665-9783003653-1...  \n",
       "2  20231231214409-1704035632.1734650-+95925930090...  \n",
       "3  20231231213714-1704035214.1734615-+95979841849...  \n",
       "4  20231231212551-1704034519.1734567-+95942070710...  "
      ]
     },
     "execution_count": 7,
     "metadata": {},
     "output_type": "execute_result"
    }
   ],
   "source": [
    "df = pd.read_csv('Call log (2023).csv')\n",
    "df.head()"
   ]
  },
  {
   "cell_type": "code",
   "execution_count": 8,
   "metadata": {},
   "outputs": [],
   "source": [
    "cols = ['Caller Number','Callee Number','DOD','DID','Source Trunk','Destination Trunk','PIN Code','Recordfile']\n",
    "df.drop(columns=cols, inplace=True)"
   ]
  },
  {
   "cell_type": "code",
   "execution_count": 11,
   "metadata": {},
   "outputs": [
    {
     "data": {
      "text/html": [
       "<div>\n",
       "<style scoped>\n",
       "    .dataframe tbody tr th:only-of-type {\n",
       "        vertical-align: middle;\n",
       "    }\n",
       "\n",
       "    .dataframe tbody tr th {\n",
       "        vertical-align: top;\n",
       "    }\n",
       "\n",
       "    .dataframe thead th {\n",
       "        text-align: right;\n",
       "    }\n",
       "</style>\n",
       "<table border=\"1\" class=\"dataframe\">\n",
       "  <thead>\n",
       "    <tr style=\"text-align: right;\">\n",
       "      <th></th>\n",
       "      <th>Time</th>\n",
       "      <th>Caller Name</th>\n",
       "      <th>Callee Name</th>\n",
       "      <th>Call Duration</th>\n",
       "      <th>Talk Duration</th>\n",
       "      <th>Status</th>\n",
       "      <th>Communication Type</th>\n",
       "      <th>Caller IP Address</th>\n",
       "    </tr>\n",
       "  </thead>\n",
       "  <tbody>\n",
       "    <tr>\n",
       "      <th>0</th>\n",
       "      <td>31/12/2023 23:28</td>\n",
       "      <td>9.59402E+11</td>\n",
       "      <td>1018</td>\n",
       "      <td>00:02:27</td>\n",
       "      <td>00:02:23</td>\n",
       "      <td>ANSWERED</td>\n",
       "      <td>Inbound</td>\n",
       "      <td>NaN</td>\n",
       "    </tr>\n",
       "    <tr>\n",
       "      <th>1</th>\n",
       "      <td>31/12/2023 23:11</td>\n",
       "      <td>9783003653</td>\n",
       "      <td>1018</td>\n",
       "      <td>00:00:47</td>\n",
       "      <td>00:00:40</td>\n",
       "      <td>ANSWERED</td>\n",
       "      <td>Inbound</td>\n",
       "      <td>NaN</td>\n",
       "    </tr>\n",
       "    <tr>\n",
       "      <th>2</th>\n",
       "      <td>31/12/2023 21:44</td>\n",
       "      <td>9.59259E+11</td>\n",
       "      <td>1018</td>\n",
       "      <td>00:02:21</td>\n",
       "      <td>00:02:12</td>\n",
       "      <td>ANSWERED</td>\n",
       "      <td>Inbound</td>\n",
       "      <td>NaN</td>\n",
       "    </tr>\n",
       "    <tr>\n",
       "      <th>3</th>\n",
       "      <td>31/12/2023 21:37</td>\n",
       "      <td>9.59798E+11</td>\n",
       "      <td>1011</td>\n",
       "      <td>00:01:19</td>\n",
       "      <td>00:01:07</td>\n",
       "      <td>ANSWERED</td>\n",
       "      <td>Inbound</td>\n",
       "      <td>NaN</td>\n",
       "    </tr>\n",
       "    <tr>\n",
       "      <th>4</th>\n",
       "      <td>31/12/2023 21:25</td>\n",
       "      <td>9.59421E+11</td>\n",
       "      <td>1018</td>\n",
       "      <td>00:01:16</td>\n",
       "      <td>00:00:52</td>\n",
       "      <td>ANSWERED</td>\n",
       "      <td>Inbound</td>\n",
       "      <td>NaN</td>\n",
       "    </tr>\n",
       "  </tbody>\n",
       "</table>\n",
       "</div>"
      ],
      "text/plain": [
       "               Time  Caller Name Callee Name Call Duration Talk Duration  \\\n",
       "0  31/12/2023 23:28  9.59402E+11        1018      00:02:27      00:02:23   \n",
       "1  31/12/2023 23:11   9783003653        1018      00:00:47      00:00:40   \n",
       "2  31/12/2023 21:44  9.59259E+11        1018      00:02:21      00:02:12   \n",
       "3  31/12/2023 21:37  9.59798E+11        1011      00:01:19      00:01:07   \n",
       "4  31/12/2023 21:25  9.59421E+11        1018      00:01:16      00:00:52   \n",
       "\n",
       "     Status Communication Type Caller IP Address  \n",
       "0  ANSWERED            Inbound               NaN  \n",
       "1  ANSWERED            Inbound               NaN  \n",
       "2  ANSWERED            Inbound               NaN  \n",
       "3  ANSWERED            Inbound               NaN  \n",
       "4  ANSWERED            Inbound               NaN  "
      ]
     },
     "execution_count": 11,
     "metadata": {},
     "output_type": "execute_result"
    }
   ],
   "source": [
    "df.head()"
   ]
  },
  {
   "cell_type": "code",
   "execution_count": 10,
   "metadata": {},
   "outputs": [
    {
     "data": {
      "text/plain": [
       "Time                  object\n",
       "Caller Name           object\n",
       "Callee Name           object\n",
       "Call Duration         object\n",
       "Talk Duration         object\n",
       "Status                object\n",
       "Communication Type    object\n",
       "Caller IP Address     object\n",
       "dtype: object"
      ]
     },
     "execution_count": 10,
     "metadata": {},
     "output_type": "execute_result"
    }
   ],
   "source": [
    "df.dtypes"
   ]
  },
  {
   "cell_type": "code",
   "execution_count": 33,
   "metadata": {},
   "outputs": [],
   "source": [
    "df1 = df.copy()"
   ]
  },
  {
   "cell_type": "code",
   "execution_count": 34,
   "metadata": {},
   "outputs": [],
   "source": [
    "df1['Time'] =  df1['Time'].apply(lambda x: parser.parse(x)) \n",
    "df1['DayName'] = df1['Time'].apply(lambda x: x.strftime(\"%A\")) "
   ]
  },
  {
   "cell_type": "code",
   "execution_count": 35,
   "metadata": {},
   "outputs": [
    {
     "data": {
      "text/html": [
       "<div>\n",
       "<style scoped>\n",
       "    .dataframe tbody tr th:only-of-type {\n",
       "        vertical-align: middle;\n",
       "    }\n",
       "\n",
       "    .dataframe tbody tr th {\n",
       "        vertical-align: top;\n",
       "    }\n",
       "\n",
       "    .dataframe thead th {\n",
       "        text-align: right;\n",
       "    }\n",
       "</style>\n",
       "<table border=\"1\" class=\"dataframe\">\n",
       "  <thead>\n",
       "    <tr style=\"text-align: right;\">\n",
       "      <th></th>\n",
       "      <th>Time</th>\n",
       "      <th>Caller Name</th>\n",
       "      <th>Callee Name</th>\n",
       "      <th>Call Duration</th>\n",
       "      <th>Talk Duration</th>\n",
       "      <th>Status</th>\n",
       "      <th>Communication Type</th>\n",
       "      <th>Caller IP Address</th>\n",
       "      <th>DayName</th>\n",
       "    </tr>\n",
       "  </thead>\n",
       "  <tbody>\n",
       "    <tr>\n",
       "      <th>0</th>\n",
       "      <td>2023-12-31 23:28:00</td>\n",
       "      <td>9.59402E+11</td>\n",
       "      <td>1018</td>\n",
       "      <td>00:02:27</td>\n",
       "      <td>00:02:23</td>\n",
       "      <td>ANSWERED</td>\n",
       "      <td>Inbound</td>\n",
       "      <td>NaN</td>\n",
       "      <td>Sunday</td>\n",
       "    </tr>\n",
       "    <tr>\n",
       "      <th>1</th>\n",
       "      <td>2023-12-31 23:11:00</td>\n",
       "      <td>9783003653</td>\n",
       "      <td>1018</td>\n",
       "      <td>00:00:47</td>\n",
       "      <td>00:00:40</td>\n",
       "      <td>ANSWERED</td>\n",
       "      <td>Inbound</td>\n",
       "      <td>NaN</td>\n",
       "      <td>Sunday</td>\n",
       "    </tr>\n",
       "    <tr>\n",
       "      <th>2</th>\n",
       "      <td>2023-12-31 21:44:00</td>\n",
       "      <td>9.59259E+11</td>\n",
       "      <td>1018</td>\n",
       "      <td>00:02:21</td>\n",
       "      <td>00:02:12</td>\n",
       "      <td>ANSWERED</td>\n",
       "      <td>Inbound</td>\n",
       "      <td>NaN</td>\n",
       "      <td>Sunday</td>\n",
       "    </tr>\n",
       "    <tr>\n",
       "      <th>3</th>\n",
       "      <td>2023-12-31 21:37:00</td>\n",
       "      <td>9.59798E+11</td>\n",
       "      <td>1011</td>\n",
       "      <td>00:01:19</td>\n",
       "      <td>00:01:07</td>\n",
       "      <td>ANSWERED</td>\n",
       "      <td>Inbound</td>\n",
       "      <td>NaN</td>\n",
       "      <td>Sunday</td>\n",
       "    </tr>\n",
       "    <tr>\n",
       "      <th>4</th>\n",
       "      <td>2023-12-31 21:25:00</td>\n",
       "      <td>9.59421E+11</td>\n",
       "      <td>1018</td>\n",
       "      <td>00:01:16</td>\n",
       "      <td>00:00:52</td>\n",
       "      <td>ANSWERED</td>\n",
       "      <td>Inbound</td>\n",
       "      <td>NaN</td>\n",
       "      <td>Sunday</td>\n",
       "    </tr>\n",
       "  </tbody>\n",
       "</table>\n",
       "</div>"
      ],
      "text/plain": [
       "                 Time  Caller Name Callee Name Call Duration Talk Duration  \\\n",
       "0 2023-12-31 23:28:00  9.59402E+11        1018      00:02:27      00:02:23   \n",
       "1 2023-12-31 23:11:00   9783003653        1018      00:00:47      00:00:40   \n",
       "2 2023-12-31 21:44:00  9.59259E+11        1018      00:02:21      00:02:12   \n",
       "3 2023-12-31 21:37:00  9.59798E+11        1011      00:01:19      00:01:07   \n",
       "4 2023-12-31 21:25:00  9.59421E+11        1018      00:01:16      00:00:52   \n",
       "\n",
       "     Status Communication Type Caller IP Address DayName  \n",
       "0  ANSWERED            Inbound               NaN  Sunday  \n",
       "1  ANSWERED            Inbound               NaN  Sunday  \n",
       "2  ANSWERED            Inbound               NaN  Sunday  \n",
       "3  ANSWERED            Inbound               NaN  Sunday  \n",
       "4  ANSWERED            Inbound               NaN  Sunday  "
      ]
     },
     "execution_count": 35,
     "metadata": {},
     "output_type": "execute_result"
    }
   ],
   "source": [
    "df1.head()"
   ]
  },
  {
   "cell_type": "code",
   "execution_count": 36,
   "metadata": {},
   "outputs": [],
   "source": [
    "# Assuming 'duration' column contains strings in the format '00:02:27'\n",
    "df1['durationSecs'] = df1['Call Duration'].apply(lambda x: datetime.strptime(x, \"%H:%M:%S\").time())\n",
    "df1['CallonMinutes'] = df1['durationSecs'].apply(lambda x: x.minute + x.second / 60)\n"
   ]
  },
  {
   "cell_type": "code",
   "execution_count": 37,
   "metadata": {},
   "outputs": [],
   "source": [
    "# Assuming 'duration' column contains strings in the format '00:02:27'\n",
    "df1['TalkonSecs'] = df1['Talk Duration'].apply(lambda x: datetime.strptime(x, \"%H:%M:%S\").time())\n",
    "df1['TalkonMinutes'] = df1['TalkonSecs'].apply(lambda x: x.minute + x.second / 60)\n"
   ]
  },
  {
   "cell_type": "code",
   "execution_count": 38,
   "metadata": {},
   "outputs": [
    {
     "data": {
      "text/html": [
       "<div>\n",
       "<style scoped>\n",
       "    .dataframe tbody tr th:only-of-type {\n",
       "        vertical-align: middle;\n",
       "    }\n",
       "\n",
       "    .dataframe tbody tr th {\n",
       "        vertical-align: top;\n",
       "    }\n",
       "\n",
       "    .dataframe thead th {\n",
       "        text-align: right;\n",
       "    }\n",
       "</style>\n",
       "<table border=\"1\" class=\"dataframe\">\n",
       "  <thead>\n",
       "    <tr style=\"text-align: right;\">\n",
       "      <th></th>\n",
       "      <th>Time</th>\n",
       "      <th>Caller Name</th>\n",
       "      <th>Callee Name</th>\n",
       "      <th>Call Duration</th>\n",
       "      <th>Talk Duration</th>\n",
       "      <th>Status</th>\n",
       "      <th>Communication Type</th>\n",
       "      <th>Caller IP Address</th>\n",
       "      <th>DayName</th>\n",
       "      <th>durationSecs</th>\n",
       "      <th>CallonMinutes</th>\n",
       "      <th>TalkonSecs</th>\n",
       "      <th>TalkonMinutes</th>\n",
       "    </tr>\n",
       "  </thead>\n",
       "  <tbody>\n",
       "    <tr>\n",
       "      <th>0</th>\n",
       "      <td>2023-12-31 23:28:00</td>\n",
       "      <td>9.59402E+11</td>\n",
       "      <td>1018</td>\n",
       "      <td>00:02:27</td>\n",
       "      <td>00:02:23</td>\n",
       "      <td>ANSWERED</td>\n",
       "      <td>Inbound</td>\n",
       "      <td>NaN</td>\n",
       "      <td>Sunday</td>\n",
       "      <td>00:02:27</td>\n",
       "      <td>2.450000</td>\n",
       "      <td>00:02:23</td>\n",
       "      <td>2.383333</td>\n",
       "    </tr>\n",
       "    <tr>\n",
       "      <th>1</th>\n",
       "      <td>2023-12-31 23:11:00</td>\n",
       "      <td>9783003653</td>\n",
       "      <td>1018</td>\n",
       "      <td>00:00:47</td>\n",
       "      <td>00:00:40</td>\n",
       "      <td>ANSWERED</td>\n",
       "      <td>Inbound</td>\n",
       "      <td>NaN</td>\n",
       "      <td>Sunday</td>\n",
       "      <td>00:00:47</td>\n",
       "      <td>0.783333</td>\n",
       "      <td>00:00:40</td>\n",
       "      <td>0.666667</td>\n",
       "    </tr>\n",
       "    <tr>\n",
       "      <th>2</th>\n",
       "      <td>2023-12-31 21:44:00</td>\n",
       "      <td>9.59259E+11</td>\n",
       "      <td>1018</td>\n",
       "      <td>00:02:21</td>\n",
       "      <td>00:02:12</td>\n",
       "      <td>ANSWERED</td>\n",
       "      <td>Inbound</td>\n",
       "      <td>NaN</td>\n",
       "      <td>Sunday</td>\n",
       "      <td>00:02:21</td>\n",
       "      <td>2.350000</td>\n",
       "      <td>00:02:12</td>\n",
       "      <td>2.200000</td>\n",
       "    </tr>\n",
       "    <tr>\n",
       "      <th>3</th>\n",
       "      <td>2023-12-31 21:37:00</td>\n",
       "      <td>9.59798E+11</td>\n",
       "      <td>1011</td>\n",
       "      <td>00:01:19</td>\n",
       "      <td>00:01:07</td>\n",
       "      <td>ANSWERED</td>\n",
       "      <td>Inbound</td>\n",
       "      <td>NaN</td>\n",
       "      <td>Sunday</td>\n",
       "      <td>00:01:19</td>\n",
       "      <td>1.316667</td>\n",
       "      <td>00:01:07</td>\n",
       "      <td>1.116667</td>\n",
       "    </tr>\n",
       "    <tr>\n",
       "      <th>4</th>\n",
       "      <td>2023-12-31 21:25:00</td>\n",
       "      <td>9.59421E+11</td>\n",
       "      <td>1018</td>\n",
       "      <td>00:01:16</td>\n",
       "      <td>00:00:52</td>\n",
       "      <td>ANSWERED</td>\n",
       "      <td>Inbound</td>\n",
       "      <td>NaN</td>\n",
       "      <td>Sunday</td>\n",
       "      <td>00:01:16</td>\n",
       "      <td>1.266667</td>\n",
       "      <td>00:00:52</td>\n",
       "      <td>0.866667</td>\n",
       "    </tr>\n",
       "  </tbody>\n",
       "</table>\n",
       "</div>"
      ],
      "text/plain": [
       "                 Time  Caller Name Callee Name Call Duration Talk Duration  \\\n",
       "0 2023-12-31 23:28:00  9.59402E+11        1018      00:02:27      00:02:23   \n",
       "1 2023-12-31 23:11:00   9783003653        1018      00:00:47      00:00:40   \n",
       "2 2023-12-31 21:44:00  9.59259E+11        1018      00:02:21      00:02:12   \n",
       "3 2023-12-31 21:37:00  9.59798E+11        1011      00:01:19      00:01:07   \n",
       "4 2023-12-31 21:25:00  9.59421E+11        1018      00:01:16      00:00:52   \n",
       "\n",
       "     Status Communication Type Caller IP Address DayName durationSecs  \\\n",
       "0  ANSWERED            Inbound               NaN  Sunday     00:02:27   \n",
       "1  ANSWERED            Inbound               NaN  Sunday     00:00:47   \n",
       "2  ANSWERED            Inbound               NaN  Sunday     00:02:21   \n",
       "3  ANSWERED            Inbound               NaN  Sunday     00:01:19   \n",
       "4  ANSWERED            Inbound               NaN  Sunday     00:01:16   \n",
       "\n",
       "   CallonMinutes TalkonSecs  TalkonMinutes  \n",
       "0       2.450000   00:02:23       2.383333  \n",
       "1       0.783333   00:00:40       0.666667  \n",
       "2       2.350000   00:02:12       2.200000  \n",
       "3       1.316667   00:01:07       1.116667  \n",
       "4       1.266667   00:00:52       0.866667  "
      ]
     },
     "execution_count": 38,
     "metadata": {},
     "output_type": "execute_result"
    }
   ],
   "source": [
    "df1.head()"
   ]
  },
  {
   "cell_type": "code",
   "execution_count": 39,
   "metadata": {},
   "outputs": [
    {
     "data": {
      "text/plain": [
       "Time                      0\n",
       "Caller Name              46\n",
       "Callee Name           63789\n",
       "Call Duration             0\n",
       "Talk Duration             0\n",
       "Status                    0\n",
       "Communication Type        0\n",
       "Caller IP Address     60754\n",
       "DayName                   0\n",
       "durationSecs              0\n",
       "CallonMinutes             0\n",
       "TalkonSecs                0\n",
       "TalkonMinutes             0\n",
       "dtype: int64"
      ]
     },
     "execution_count": 39,
     "metadata": {},
     "output_type": "execute_result"
    }
   ],
   "source": [
    "df1.isnull().sum()"
   ]
  },
  {
   "cell_type": "code",
   "execution_count": 40,
   "metadata": {},
   "outputs": [],
   "source": [
    "#fill none value in 1\n",
    "df1['Caller Name'].fillna(1, inplace=True)\n",
    "df1['Callee Name'].fillna(1, inplace=True)"
   ]
  },
  {
   "cell_type": "code",
   "execution_count": 44,
   "metadata": {},
   "outputs": [],
   "source": [
    "#drop column\n",
    "df1.drop(columns='Caller IP Address', inplace=True)"
   ]
  },
  {
   "cell_type": "code",
   "execution_count": 46,
   "metadata": {},
   "outputs": [],
   "source": [
    "#create date column\n",
    "df1['Date'] = df1['Time'].dt.date"
   ]
  },
  {
   "cell_type": "code",
   "execution_count": 48,
   "metadata": {},
   "outputs": [
    {
     "data": {
      "text/html": [
       "<div>\n",
       "<style scoped>\n",
       "    .dataframe tbody tr th:only-of-type {\n",
       "        vertical-align: middle;\n",
       "    }\n",
       "\n",
       "    .dataframe tbody tr th {\n",
       "        vertical-align: top;\n",
       "    }\n",
       "\n",
       "    .dataframe thead th {\n",
       "        text-align: right;\n",
       "    }\n",
       "</style>\n",
       "<table border=\"1\" class=\"dataframe\">\n",
       "  <thead>\n",
       "    <tr style=\"text-align: right;\">\n",
       "      <th></th>\n",
       "      <th>Time</th>\n",
       "      <th>Caller Name</th>\n",
       "      <th>Callee Name</th>\n",
       "      <th>Call Duration</th>\n",
       "      <th>Talk Duration</th>\n",
       "      <th>Status</th>\n",
       "      <th>Communication Type</th>\n",
       "      <th>DayName</th>\n",
       "      <th>durationSecs</th>\n",
       "      <th>CallonMinutes</th>\n",
       "      <th>TalkonSecs</th>\n",
       "      <th>TalkonMinutes</th>\n",
       "      <th>Date</th>\n",
       "    </tr>\n",
       "  </thead>\n",
       "  <tbody>\n",
       "    <tr>\n",
       "      <th>0</th>\n",
       "      <td>2023-12-31 23:28:00</td>\n",
       "      <td>9.59402E+11</td>\n",
       "      <td>1018</td>\n",
       "      <td>00:02:27</td>\n",
       "      <td>00:02:23</td>\n",
       "      <td>ANSWERED</td>\n",
       "      <td>Inbound</td>\n",
       "      <td>Sunday</td>\n",
       "      <td>00:02:27</td>\n",
       "      <td>2.450000</td>\n",
       "      <td>00:02:23</td>\n",
       "      <td>2.383333</td>\n",
       "      <td>2023-12-31</td>\n",
       "    </tr>\n",
       "    <tr>\n",
       "      <th>1</th>\n",
       "      <td>2023-12-31 23:11:00</td>\n",
       "      <td>9783003653</td>\n",
       "      <td>1018</td>\n",
       "      <td>00:00:47</td>\n",
       "      <td>00:00:40</td>\n",
       "      <td>ANSWERED</td>\n",
       "      <td>Inbound</td>\n",
       "      <td>Sunday</td>\n",
       "      <td>00:00:47</td>\n",
       "      <td>0.783333</td>\n",
       "      <td>00:00:40</td>\n",
       "      <td>0.666667</td>\n",
       "      <td>2023-12-31</td>\n",
       "    </tr>\n",
       "    <tr>\n",
       "      <th>2</th>\n",
       "      <td>2023-12-31 21:44:00</td>\n",
       "      <td>9.59259E+11</td>\n",
       "      <td>1018</td>\n",
       "      <td>00:02:21</td>\n",
       "      <td>00:02:12</td>\n",
       "      <td>ANSWERED</td>\n",
       "      <td>Inbound</td>\n",
       "      <td>Sunday</td>\n",
       "      <td>00:02:21</td>\n",
       "      <td>2.350000</td>\n",
       "      <td>00:02:12</td>\n",
       "      <td>2.200000</td>\n",
       "      <td>2023-12-31</td>\n",
       "    </tr>\n",
       "    <tr>\n",
       "      <th>3</th>\n",
       "      <td>2023-12-31 21:37:00</td>\n",
       "      <td>9.59798E+11</td>\n",
       "      <td>1011</td>\n",
       "      <td>00:01:19</td>\n",
       "      <td>00:01:07</td>\n",
       "      <td>ANSWERED</td>\n",
       "      <td>Inbound</td>\n",
       "      <td>Sunday</td>\n",
       "      <td>00:01:19</td>\n",
       "      <td>1.316667</td>\n",
       "      <td>00:01:07</td>\n",
       "      <td>1.116667</td>\n",
       "      <td>2023-12-31</td>\n",
       "    </tr>\n",
       "    <tr>\n",
       "      <th>4</th>\n",
       "      <td>2023-12-31 21:25:00</td>\n",
       "      <td>9.59421E+11</td>\n",
       "      <td>1018</td>\n",
       "      <td>00:01:16</td>\n",
       "      <td>00:00:52</td>\n",
       "      <td>ANSWERED</td>\n",
       "      <td>Inbound</td>\n",
       "      <td>Sunday</td>\n",
       "      <td>00:01:16</td>\n",
       "      <td>1.266667</td>\n",
       "      <td>00:00:52</td>\n",
       "      <td>0.866667</td>\n",
       "      <td>2023-12-31</td>\n",
       "    </tr>\n",
       "  </tbody>\n",
       "</table>\n",
       "</div>"
      ],
      "text/plain": [
       "                 Time  Caller Name Callee Name Call Duration Talk Duration  \\\n",
       "0 2023-12-31 23:28:00  9.59402E+11        1018      00:02:27      00:02:23   \n",
       "1 2023-12-31 23:11:00   9783003653        1018      00:00:47      00:00:40   \n",
       "2 2023-12-31 21:44:00  9.59259E+11        1018      00:02:21      00:02:12   \n",
       "3 2023-12-31 21:37:00  9.59798E+11        1011      00:01:19      00:01:07   \n",
       "4 2023-12-31 21:25:00  9.59421E+11        1018      00:01:16      00:00:52   \n",
       "\n",
       "     Status Communication Type DayName durationSecs  CallonMinutes TalkonSecs  \\\n",
       "0  ANSWERED            Inbound  Sunday     00:02:27       2.450000   00:02:23   \n",
       "1  ANSWERED            Inbound  Sunday     00:00:47       0.783333   00:00:40   \n",
       "2  ANSWERED            Inbound  Sunday     00:02:21       2.350000   00:02:12   \n",
       "3  ANSWERED            Inbound  Sunday     00:01:19       1.316667   00:01:07   \n",
       "4  ANSWERED            Inbound  Sunday     00:01:16       1.266667   00:00:52   \n",
       "\n",
       "   TalkonMinutes        Date  \n",
       "0       2.383333  2023-12-31  \n",
       "1       0.666667  2023-12-31  \n",
       "2       2.200000  2023-12-31  \n",
       "3       1.116667  2023-12-31  \n",
       "4       0.866667  2023-12-31  "
      ]
     },
     "execution_count": 48,
     "metadata": {},
     "output_type": "execute_result"
    }
   ],
   "source": [
    "df1.head()"
   ]
  },
  {
   "cell_type": "code",
   "execution_count": 49,
   "metadata": {},
   "outputs": [
    {
     "data": {
      "text/plain": [
       "array(['Inbound', 'Outbound', 'Transfer', 'Internal'], dtype=object)"
      ]
     },
     "execution_count": 49,
     "metadata": {},
     "output_type": "execute_result"
    }
   ],
   "source": [
    "df1['Communication Type'].unique()"
   ]
  },
  {
   "cell_type": "code",
   "execution_count": 50,
   "metadata": {},
   "outputs": [],
   "source": [
    "df1['MonthName'] = df1['Time'].dt.strftime(\"%B\")"
   ]
  },
  {
   "cell_type": "code",
   "execution_count": 51,
   "metadata": {},
   "outputs": [
    {
     "data": {
      "text/html": [
       "<div>\n",
       "<style scoped>\n",
       "    .dataframe tbody tr th:only-of-type {\n",
       "        vertical-align: middle;\n",
       "    }\n",
       "\n",
       "    .dataframe tbody tr th {\n",
       "        vertical-align: top;\n",
       "    }\n",
       "\n",
       "    .dataframe thead th {\n",
       "        text-align: right;\n",
       "    }\n",
       "</style>\n",
       "<table border=\"1\" class=\"dataframe\">\n",
       "  <thead>\n",
       "    <tr style=\"text-align: right;\">\n",
       "      <th></th>\n",
       "      <th>Time</th>\n",
       "      <th>Caller Name</th>\n",
       "      <th>Callee Name</th>\n",
       "      <th>Call Duration</th>\n",
       "      <th>Talk Duration</th>\n",
       "      <th>Status</th>\n",
       "      <th>Communication Type</th>\n",
       "      <th>DayName</th>\n",
       "      <th>durationSecs</th>\n",
       "      <th>CallonMinutes</th>\n",
       "      <th>TalkonSecs</th>\n",
       "      <th>TalkonMinutes</th>\n",
       "      <th>Date</th>\n",
       "      <th>MonthName</th>\n",
       "    </tr>\n",
       "  </thead>\n",
       "  <tbody>\n",
       "    <tr>\n",
       "      <th>0</th>\n",
       "      <td>2023-12-31 23:28:00</td>\n",
       "      <td>9.59402E+11</td>\n",
       "      <td>1018</td>\n",
       "      <td>00:02:27</td>\n",
       "      <td>00:02:23</td>\n",
       "      <td>ANSWERED</td>\n",
       "      <td>Inbound</td>\n",
       "      <td>Sunday</td>\n",
       "      <td>00:02:27</td>\n",
       "      <td>2.450000</td>\n",
       "      <td>00:02:23</td>\n",
       "      <td>2.383333</td>\n",
       "      <td>2023-12-31</td>\n",
       "      <td>December</td>\n",
       "    </tr>\n",
       "    <tr>\n",
       "      <th>1</th>\n",
       "      <td>2023-12-31 23:11:00</td>\n",
       "      <td>9783003653</td>\n",
       "      <td>1018</td>\n",
       "      <td>00:00:47</td>\n",
       "      <td>00:00:40</td>\n",
       "      <td>ANSWERED</td>\n",
       "      <td>Inbound</td>\n",
       "      <td>Sunday</td>\n",
       "      <td>00:00:47</td>\n",
       "      <td>0.783333</td>\n",
       "      <td>00:00:40</td>\n",
       "      <td>0.666667</td>\n",
       "      <td>2023-12-31</td>\n",
       "      <td>December</td>\n",
       "    </tr>\n",
       "    <tr>\n",
       "      <th>2</th>\n",
       "      <td>2023-12-31 21:44:00</td>\n",
       "      <td>9.59259E+11</td>\n",
       "      <td>1018</td>\n",
       "      <td>00:02:21</td>\n",
       "      <td>00:02:12</td>\n",
       "      <td>ANSWERED</td>\n",
       "      <td>Inbound</td>\n",
       "      <td>Sunday</td>\n",
       "      <td>00:02:21</td>\n",
       "      <td>2.350000</td>\n",
       "      <td>00:02:12</td>\n",
       "      <td>2.200000</td>\n",
       "      <td>2023-12-31</td>\n",
       "      <td>December</td>\n",
       "    </tr>\n",
       "    <tr>\n",
       "      <th>3</th>\n",
       "      <td>2023-12-31 21:37:00</td>\n",
       "      <td>9.59798E+11</td>\n",
       "      <td>1011</td>\n",
       "      <td>00:01:19</td>\n",
       "      <td>00:01:07</td>\n",
       "      <td>ANSWERED</td>\n",
       "      <td>Inbound</td>\n",
       "      <td>Sunday</td>\n",
       "      <td>00:01:19</td>\n",
       "      <td>1.316667</td>\n",
       "      <td>00:01:07</td>\n",
       "      <td>1.116667</td>\n",
       "      <td>2023-12-31</td>\n",
       "      <td>December</td>\n",
       "    </tr>\n",
       "    <tr>\n",
       "      <th>4</th>\n",
       "      <td>2023-12-31 21:25:00</td>\n",
       "      <td>9.59421E+11</td>\n",
       "      <td>1018</td>\n",
       "      <td>00:01:16</td>\n",
       "      <td>00:00:52</td>\n",
       "      <td>ANSWERED</td>\n",
       "      <td>Inbound</td>\n",
       "      <td>Sunday</td>\n",
       "      <td>00:01:16</td>\n",
       "      <td>1.266667</td>\n",
       "      <td>00:00:52</td>\n",
       "      <td>0.866667</td>\n",
       "      <td>2023-12-31</td>\n",
       "      <td>December</td>\n",
       "    </tr>\n",
       "  </tbody>\n",
       "</table>\n",
       "</div>"
      ],
      "text/plain": [
       "                 Time  Caller Name Callee Name Call Duration Talk Duration  \\\n",
       "0 2023-12-31 23:28:00  9.59402E+11        1018      00:02:27      00:02:23   \n",
       "1 2023-12-31 23:11:00   9783003653        1018      00:00:47      00:00:40   \n",
       "2 2023-12-31 21:44:00  9.59259E+11        1018      00:02:21      00:02:12   \n",
       "3 2023-12-31 21:37:00  9.59798E+11        1011      00:01:19      00:01:07   \n",
       "4 2023-12-31 21:25:00  9.59421E+11        1018      00:01:16      00:00:52   \n",
       "\n",
       "     Status Communication Type DayName durationSecs  CallonMinutes TalkonSecs  \\\n",
       "0  ANSWERED            Inbound  Sunday     00:02:27       2.450000   00:02:23   \n",
       "1  ANSWERED            Inbound  Sunday     00:00:47       0.783333   00:00:40   \n",
       "2  ANSWERED            Inbound  Sunday     00:02:21       2.350000   00:02:12   \n",
       "3  ANSWERED            Inbound  Sunday     00:01:19       1.316667   00:01:07   \n",
       "4  ANSWERED            Inbound  Sunday     00:01:16       1.266667   00:00:52   \n",
       "\n",
       "   TalkonMinutes        Date MonthName  \n",
       "0       2.383333  2023-12-31  December  \n",
       "1       0.666667  2023-12-31  December  \n",
       "2       2.200000  2023-12-31  December  \n",
       "3       1.116667  2023-12-31  December  \n",
       "4       0.866667  2023-12-31  December  "
      ]
     },
     "execution_count": 51,
     "metadata": {},
     "output_type": "execute_result"
    }
   ],
   "source": [
    "df1.head()"
   ]
  },
  {
   "cell_type": "code",
   "execution_count": 53,
   "metadata": {},
   "outputs": [
    {
     "data": {
      "text/plain": [
       "Communication Type\n",
       "Inbound     60642\n",
       "Internal      281\n",
       "Outbound    58216\n",
       "Transfer      999\n",
       "Name: Caller Name, dtype: int64"
      ]
     },
     "execution_count": 53,
     "metadata": {},
     "output_type": "execute_result"
    }
   ],
   "source": [
    "df1.groupby('Communication Type')['Caller Name'].count()"
   ]
  },
  {
   "cell_type": "code",
   "execution_count": 54,
   "metadata": {},
   "outputs": [],
   "source": [
    "category_mapping = {'Inbound': 'Inbound', 'Internal': 'Internal', 'Outbound': 'Outbound','Transfer':'Inbound'}\n",
    "\n",
    "# Apply the mapping to the 'Category' column\n",
    "df1['Communication Type'] = df1['Communication Type'].map(category_mapping)"
   ]
  },
  {
   "cell_type": "code",
   "execution_count": 55,
   "metadata": {},
   "outputs": [
    {
     "data": {
      "text/plain": [
       "Communication Type\n",
       "Inbound     61641\n",
       "Internal      281\n",
       "Outbound    58216\n",
       "Name: Caller Name, dtype: int64"
      ]
     },
     "execution_count": 55,
     "metadata": {},
     "output_type": "execute_result"
    }
   ],
   "source": [
    "df1.groupby('Communication Type')['Caller Name'].count()"
   ]
  },
  {
   "cell_type": "code",
   "execution_count": 56,
   "metadata": {},
   "outputs": [],
   "source": [
    "# Replace 'to_be_dropped' with the specific value you want to drop\n",
    "value_to_drop = 'Internal'\n",
    "\n",
    "# Create a boolean mask for rows where the 'Category' column is not equal to the value to drop\n",
    "mask = df1['Communication Type'] != value_to_drop\n",
    "\n",
    "# Use the boolean mask to filter the DataFrame and keep only rows where 'Category' is not equal to the value to drop\n",
    "df1 = df1[mask]"
   ]
  },
  {
   "cell_type": "code",
   "execution_count": 57,
   "metadata": {},
   "outputs": [
    {
     "data": {
      "text/plain": [
       "Communication Type\n",
       "Inbound     61641\n",
       "Outbound    58216\n",
       "Name: Caller Name, dtype: int64"
      ]
     },
     "execution_count": 57,
     "metadata": {},
     "output_type": "execute_result"
    }
   ],
   "source": [
    "df1.groupby('Communication Type')['Caller Name'].count()"
   ]
  },
  {
   "cell_type": "code",
   "execution_count": 58,
   "metadata": {},
   "outputs": [
    {
     "data": {
      "text/plain": [
       "Communication Type\n",
       "Inbound     61641\n",
       "Outbound    58216\n",
       "Name: Caller Name, dtype: int64"
      ]
     },
     "execution_count": 58,
     "metadata": {},
     "output_type": "execute_result"
    }
   ],
   "source": [
    "df1.groupby('Communication Type')['Caller Name'].count()"
   ]
  },
  {
   "cell_type": "code",
   "execution_count": 59,
   "metadata": {},
   "outputs": [
    {
     "data": {
      "text/html": [
       "<div>\n",
       "<style scoped>\n",
       "    .dataframe tbody tr th:only-of-type {\n",
       "        vertical-align: middle;\n",
       "    }\n",
       "\n",
       "    .dataframe tbody tr th {\n",
       "        vertical-align: top;\n",
       "    }\n",
       "\n",
       "    .dataframe thead th {\n",
       "        text-align: right;\n",
       "    }\n",
       "</style>\n",
       "<table border=\"1\" class=\"dataframe\">\n",
       "  <thead>\n",
       "    <tr style=\"text-align: right;\">\n",
       "      <th></th>\n",
       "      <th>Time</th>\n",
       "      <th>Caller Name</th>\n",
       "      <th>Callee Name</th>\n",
       "      <th>Call Duration</th>\n",
       "      <th>Talk Duration</th>\n",
       "      <th>Status</th>\n",
       "      <th>Communication Type</th>\n",
       "      <th>DayName</th>\n",
       "      <th>durationSecs</th>\n",
       "      <th>CallonMinutes</th>\n",
       "      <th>TalkonSecs</th>\n",
       "      <th>TalkonMinutes</th>\n",
       "      <th>Date</th>\n",
       "      <th>MonthName</th>\n",
       "    </tr>\n",
       "  </thead>\n",
       "  <tbody>\n",
       "    <tr>\n",
       "      <th>0</th>\n",
       "      <td>2023-12-31 23:28:00</td>\n",
       "      <td>9.59402E+11</td>\n",
       "      <td>1018</td>\n",
       "      <td>00:02:27</td>\n",
       "      <td>00:02:23</td>\n",
       "      <td>ANSWERED</td>\n",
       "      <td>Inbound</td>\n",
       "      <td>Sunday</td>\n",
       "      <td>00:02:27</td>\n",
       "      <td>2.450000</td>\n",
       "      <td>00:02:23</td>\n",
       "      <td>2.383333</td>\n",
       "      <td>2023-12-31</td>\n",
       "      <td>December</td>\n",
       "    </tr>\n",
       "    <tr>\n",
       "      <th>1</th>\n",
       "      <td>2023-12-31 23:11:00</td>\n",
       "      <td>9783003653</td>\n",
       "      <td>1018</td>\n",
       "      <td>00:00:47</td>\n",
       "      <td>00:00:40</td>\n",
       "      <td>ANSWERED</td>\n",
       "      <td>Inbound</td>\n",
       "      <td>Sunday</td>\n",
       "      <td>00:00:47</td>\n",
       "      <td>0.783333</td>\n",
       "      <td>00:00:40</td>\n",
       "      <td>0.666667</td>\n",
       "      <td>2023-12-31</td>\n",
       "      <td>December</td>\n",
       "    </tr>\n",
       "    <tr>\n",
       "      <th>2</th>\n",
       "      <td>2023-12-31 21:44:00</td>\n",
       "      <td>9.59259E+11</td>\n",
       "      <td>1018</td>\n",
       "      <td>00:02:21</td>\n",
       "      <td>00:02:12</td>\n",
       "      <td>ANSWERED</td>\n",
       "      <td>Inbound</td>\n",
       "      <td>Sunday</td>\n",
       "      <td>00:02:21</td>\n",
       "      <td>2.350000</td>\n",
       "      <td>00:02:12</td>\n",
       "      <td>2.200000</td>\n",
       "      <td>2023-12-31</td>\n",
       "      <td>December</td>\n",
       "    </tr>\n",
       "    <tr>\n",
       "      <th>3</th>\n",
       "      <td>2023-12-31 21:37:00</td>\n",
       "      <td>9.59798E+11</td>\n",
       "      <td>1011</td>\n",
       "      <td>00:01:19</td>\n",
       "      <td>00:01:07</td>\n",
       "      <td>ANSWERED</td>\n",
       "      <td>Inbound</td>\n",
       "      <td>Sunday</td>\n",
       "      <td>00:01:19</td>\n",
       "      <td>1.316667</td>\n",
       "      <td>00:01:07</td>\n",
       "      <td>1.116667</td>\n",
       "      <td>2023-12-31</td>\n",
       "      <td>December</td>\n",
       "    </tr>\n",
       "    <tr>\n",
       "      <th>4</th>\n",
       "      <td>2023-12-31 21:25:00</td>\n",
       "      <td>9.59421E+11</td>\n",
       "      <td>1018</td>\n",
       "      <td>00:01:16</td>\n",
       "      <td>00:00:52</td>\n",
       "      <td>ANSWERED</td>\n",
       "      <td>Inbound</td>\n",
       "      <td>Sunday</td>\n",
       "      <td>00:01:16</td>\n",
       "      <td>1.266667</td>\n",
       "      <td>00:00:52</td>\n",
       "      <td>0.866667</td>\n",
       "      <td>2023-12-31</td>\n",
       "      <td>December</td>\n",
       "    </tr>\n",
       "  </tbody>\n",
       "</table>\n",
       "</div>"
      ],
      "text/plain": [
       "                 Time  Caller Name Callee Name Call Duration Talk Duration  \\\n",
       "0 2023-12-31 23:28:00  9.59402E+11        1018      00:02:27      00:02:23   \n",
       "1 2023-12-31 23:11:00   9783003653        1018      00:00:47      00:00:40   \n",
       "2 2023-12-31 21:44:00  9.59259E+11        1018      00:02:21      00:02:12   \n",
       "3 2023-12-31 21:37:00  9.59798E+11        1011      00:01:19      00:01:07   \n",
       "4 2023-12-31 21:25:00  9.59421E+11        1018      00:01:16      00:00:52   \n",
       "\n",
       "     Status Communication Type DayName durationSecs  CallonMinutes TalkonSecs  \\\n",
       "0  ANSWERED            Inbound  Sunday     00:02:27       2.450000   00:02:23   \n",
       "1  ANSWERED            Inbound  Sunday     00:00:47       0.783333   00:00:40   \n",
       "2  ANSWERED            Inbound  Sunday     00:02:21       2.350000   00:02:12   \n",
       "3  ANSWERED            Inbound  Sunday     00:01:19       1.316667   00:01:07   \n",
       "4  ANSWERED            Inbound  Sunday     00:01:16       1.266667   00:00:52   \n",
       "\n",
       "   TalkonMinutes        Date MonthName  \n",
       "0       2.383333  2023-12-31  December  \n",
       "1       0.666667  2023-12-31  December  \n",
       "2       2.200000  2023-12-31  December  \n",
       "3       1.116667  2023-12-31  December  \n",
       "4       0.866667  2023-12-31  December  "
      ]
     },
     "execution_count": 59,
     "metadata": {},
     "output_type": "execute_result"
    }
   ],
   "source": [
    "df1.head()"
   ]
  },
  {
   "cell_type": "code",
   "execution_count": 83,
   "metadata": {},
   "outputs": [
    {
     "data": {
      "text/plain": [
       "array(['December', 'November', 'October', 'September', 'August', 'July',\n",
       "       'June', 'May', 'April', 'March', 'February', 'January'],\n",
       "      dtype=object)"
      ]
     },
     "execution_count": 83,
     "metadata": {},
     "output_type": "execute_result"
    }
   ],
   "source": [
    "df1['MonthName'].unique()"
   ]
  },
  {
   "cell_type": "code",
   "execution_count": 85,
   "metadata": {},
   "outputs": [
    {
     "data": {
      "application/vnd.plotly.v1+json": {
       "config": {
        "plotlyServerURL": "https://plot.ly"
       },
       "data": [
        {
         "alignmentgroup": "True",
         "hovertemplate": "Communication Type=Inbound<br>MonthName=%{x}<br>Count=%{y}<extra></extra>",
         "legendgroup": "Inbound",
         "marker": {
          "color": "#636efa",
          "pattern": {
           "shape": ""
          }
         },
         "name": "Inbound",
         "offsetgroup": "Inbound",
         "orientation": "v",
         "showlegend": true,
         "textposition": "auto",
         "type": "bar",
         "x": [
          "April",
          "August",
          "December",
          "February",
          "January",
          "July",
          "June",
          "March",
          "May",
          "November",
          "October",
          "September"
         ],
         "xaxis": "x",
         "y": [
          4859,
          6162,
          4385,
          4472,
          5048,
          6675,
          6364,
          4632,
          4250,
          4693,
          4931,
          5170
         ],
         "yaxis": "y"
        },
        {
         "alignmentgroup": "True",
         "hovertemplate": "Communication Type=Outbound<br>MonthName=%{x}<br>Count=%{y}<extra></extra>",
         "legendgroup": "Outbound",
         "marker": {
          "color": "#EF553B",
          "pattern": {
           "shape": ""
          }
         },
         "name": "Outbound",
         "offsetgroup": "Outbound",
         "orientation": "v",
         "showlegend": true,
         "textposition": "auto",
         "type": "bar",
         "x": [
          "April",
          "August",
          "December",
          "February",
          "January",
          "July",
          "June",
          "March",
          "May",
          "November",
          "October",
          "September"
         ],
         "xaxis": "x",
         "y": [
          4044,
          5953,
          4402,
          3761,
          3717,
          5659,
          5761,
          4375,
          4208,
          5539,
          5171,
          5626
         ],
         "yaxis": "y"
        }
       ],
       "layout": {
        "barmode": "relative",
        "legend": {
         "title": {
          "text": "Communication Type"
         },
         "tracegroupgap": 0
        },
        "template": {
         "data": {
          "bar": [
           {
            "error_x": {
             "color": "#2a3f5f"
            },
            "error_y": {
             "color": "#2a3f5f"
            },
            "marker": {
             "line": {
              "color": "#E5ECF6",
              "width": 0.5
             },
             "pattern": {
              "fillmode": "overlay",
              "size": 10,
              "solidity": 0.2
             }
            },
            "type": "bar"
           }
          ],
          "barpolar": [
           {
            "marker": {
             "line": {
              "color": "#E5ECF6",
              "width": 0.5
             },
             "pattern": {
              "fillmode": "overlay",
              "size": 10,
              "solidity": 0.2
             }
            },
            "type": "barpolar"
           }
          ],
          "carpet": [
           {
            "aaxis": {
             "endlinecolor": "#2a3f5f",
             "gridcolor": "white",
             "linecolor": "white",
             "minorgridcolor": "white",
             "startlinecolor": "#2a3f5f"
            },
            "baxis": {
             "endlinecolor": "#2a3f5f",
             "gridcolor": "white",
             "linecolor": "white",
             "minorgridcolor": "white",
             "startlinecolor": "#2a3f5f"
            },
            "type": "carpet"
           }
          ],
          "choropleth": [
           {
            "colorbar": {
             "outlinewidth": 0,
             "ticks": ""
            },
            "type": "choropleth"
           }
          ],
          "contour": [
           {
            "colorbar": {
             "outlinewidth": 0,
             "ticks": ""
            },
            "colorscale": [
             [
              0,
              "#0d0887"
             ],
             [
              0.1111111111111111,
              "#46039f"
             ],
             [
              0.2222222222222222,
              "#7201a8"
             ],
             [
              0.3333333333333333,
              "#9c179e"
             ],
             [
              0.4444444444444444,
              "#bd3786"
             ],
             [
              0.5555555555555556,
              "#d8576b"
             ],
             [
              0.6666666666666666,
              "#ed7953"
             ],
             [
              0.7777777777777778,
              "#fb9f3a"
             ],
             [
              0.8888888888888888,
              "#fdca26"
             ],
             [
              1,
              "#f0f921"
             ]
            ],
            "type": "contour"
           }
          ],
          "contourcarpet": [
           {
            "colorbar": {
             "outlinewidth": 0,
             "ticks": ""
            },
            "type": "contourcarpet"
           }
          ],
          "heatmap": [
           {
            "colorbar": {
             "outlinewidth": 0,
             "ticks": ""
            },
            "colorscale": [
             [
              0,
              "#0d0887"
             ],
             [
              0.1111111111111111,
              "#46039f"
             ],
             [
              0.2222222222222222,
              "#7201a8"
             ],
             [
              0.3333333333333333,
              "#9c179e"
             ],
             [
              0.4444444444444444,
              "#bd3786"
             ],
             [
              0.5555555555555556,
              "#d8576b"
             ],
             [
              0.6666666666666666,
              "#ed7953"
             ],
             [
              0.7777777777777778,
              "#fb9f3a"
             ],
             [
              0.8888888888888888,
              "#fdca26"
             ],
             [
              1,
              "#f0f921"
             ]
            ],
            "type": "heatmap"
           }
          ],
          "heatmapgl": [
           {
            "colorbar": {
             "outlinewidth": 0,
             "ticks": ""
            },
            "colorscale": [
             [
              0,
              "#0d0887"
             ],
             [
              0.1111111111111111,
              "#46039f"
             ],
             [
              0.2222222222222222,
              "#7201a8"
             ],
             [
              0.3333333333333333,
              "#9c179e"
             ],
             [
              0.4444444444444444,
              "#bd3786"
             ],
             [
              0.5555555555555556,
              "#d8576b"
             ],
             [
              0.6666666666666666,
              "#ed7953"
             ],
             [
              0.7777777777777778,
              "#fb9f3a"
             ],
             [
              0.8888888888888888,
              "#fdca26"
             ],
             [
              1,
              "#f0f921"
             ]
            ],
            "type": "heatmapgl"
           }
          ],
          "histogram": [
           {
            "marker": {
             "pattern": {
              "fillmode": "overlay",
              "size": 10,
              "solidity": 0.2
             }
            },
            "type": "histogram"
           }
          ],
          "histogram2d": [
           {
            "colorbar": {
             "outlinewidth": 0,
             "ticks": ""
            },
            "colorscale": [
             [
              0,
              "#0d0887"
             ],
             [
              0.1111111111111111,
              "#46039f"
             ],
             [
              0.2222222222222222,
              "#7201a8"
             ],
             [
              0.3333333333333333,
              "#9c179e"
             ],
             [
              0.4444444444444444,
              "#bd3786"
             ],
             [
              0.5555555555555556,
              "#d8576b"
             ],
             [
              0.6666666666666666,
              "#ed7953"
             ],
             [
              0.7777777777777778,
              "#fb9f3a"
             ],
             [
              0.8888888888888888,
              "#fdca26"
             ],
             [
              1,
              "#f0f921"
             ]
            ],
            "type": "histogram2d"
           }
          ],
          "histogram2dcontour": [
           {
            "colorbar": {
             "outlinewidth": 0,
             "ticks": ""
            },
            "colorscale": [
             [
              0,
              "#0d0887"
             ],
             [
              0.1111111111111111,
              "#46039f"
             ],
             [
              0.2222222222222222,
              "#7201a8"
             ],
             [
              0.3333333333333333,
              "#9c179e"
             ],
             [
              0.4444444444444444,
              "#bd3786"
             ],
             [
              0.5555555555555556,
              "#d8576b"
             ],
             [
              0.6666666666666666,
              "#ed7953"
             ],
             [
              0.7777777777777778,
              "#fb9f3a"
             ],
             [
              0.8888888888888888,
              "#fdca26"
             ],
             [
              1,
              "#f0f921"
             ]
            ],
            "type": "histogram2dcontour"
           }
          ],
          "mesh3d": [
           {
            "colorbar": {
             "outlinewidth": 0,
             "ticks": ""
            },
            "type": "mesh3d"
           }
          ],
          "parcoords": [
           {
            "line": {
             "colorbar": {
              "outlinewidth": 0,
              "ticks": ""
             }
            },
            "type": "parcoords"
           }
          ],
          "pie": [
           {
            "automargin": true,
            "type": "pie"
           }
          ],
          "scatter": [
           {
            "fillpattern": {
             "fillmode": "overlay",
             "size": 10,
             "solidity": 0.2
            },
            "type": "scatter"
           }
          ],
          "scatter3d": [
           {
            "line": {
             "colorbar": {
              "outlinewidth": 0,
              "ticks": ""
             }
            },
            "marker": {
             "colorbar": {
              "outlinewidth": 0,
              "ticks": ""
             }
            },
            "type": "scatter3d"
           }
          ],
          "scattercarpet": [
           {
            "marker": {
             "colorbar": {
              "outlinewidth": 0,
              "ticks": ""
             }
            },
            "type": "scattercarpet"
           }
          ],
          "scattergeo": [
           {
            "marker": {
             "colorbar": {
              "outlinewidth": 0,
              "ticks": ""
             }
            },
            "type": "scattergeo"
           }
          ],
          "scattergl": [
           {
            "marker": {
             "colorbar": {
              "outlinewidth": 0,
              "ticks": ""
             }
            },
            "type": "scattergl"
           }
          ],
          "scattermapbox": [
           {
            "marker": {
             "colorbar": {
              "outlinewidth": 0,
              "ticks": ""
             }
            },
            "type": "scattermapbox"
           }
          ],
          "scatterpolar": [
           {
            "marker": {
             "colorbar": {
              "outlinewidth": 0,
              "ticks": ""
             }
            },
            "type": "scatterpolar"
           }
          ],
          "scatterpolargl": [
           {
            "marker": {
             "colorbar": {
              "outlinewidth": 0,
              "ticks": ""
             }
            },
            "type": "scatterpolargl"
           }
          ],
          "scatterternary": [
           {
            "marker": {
             "colorbar": {
              "outlinewidth": 0,
              "ticks": ""
             }
            },
            "type": "scatterternary"
           }
          ],
          "surface": [
           {
            "colorbar": {
             "outlinewidth": 0,
             "ticks": ""
            },
            "colorscale": [
             [
              0,
              "#0d0887"
             ],
             [
              0.1111111111111111,
              "#46039f"
             ],
             [
              0.2222222222222222,
              "#7201a8"
             ],
             [
              0.3333333333333333,
              "#9c179e"
             ],
             [
              0.4444444444444444,
              "#bd3786"
             ],
             [
              0.5555555555555556,
              "#d8576b"
             ],
             [
              0.6666666666666666,
              "#ed7953"
             ],
             [
              0.7777777777777778,
              "#fb9f3a"
             ],
             [
              0.8888888888888888,
              "#fdca26"
             ],
             [
              1,
              "#f0f921"
             ]
            ],
            "type": "surface"
           }
          ],
          "table": [
           {
            "cells": {
             "fill": {
              "color": "#EBF0F8"
             },
             "line": {
              "color": "white"
             }
            },
            "header": {
             "fill": {
              "color": "#C8D4E3"
             },
             "line": {
              "color": "white"
             }
            },
            "type": "table"
           }
          ]
         },
         "layout": {
          "annotationdefaults": {
           "arrowcolor": "#2a3f5f",
           "arrowhead": 0,
           "arrowwidth": 1
          },
          "autotypenumbers": "strict",
          "coloraxis": {
           "colorbar": {
            "outlinewidth": 0,
            "ticks": ""
           }
          },
          "colorscale": {
           "diverging": [
            [
             0,
             "#8e0152"
            ],
            [
             0.1,
             "#c51b7d"
            ],
            [
             0.2,
             "#de77ae"
            ],
            [
             0.3,
             "#f1b6da"
            ],
            [
             0.4,
             "#fde0ef"
            ],
            [
             0.5,
             "#f7f7f7"
            ],
            [
             0.6,
             "#e6f5d0"
            ],
            [
             0.7,
             "#b8e186"
            ],
            [
             0.8,
             "#7fbc41"
            ],
            [
             0.9,
             "#4d9221"
            ],
            [
             1,
             "#276419"
            ]
           ],
           "sequential": [
            [
             0,
             "#0d0887"
            ],
            [
             0.1111111111111111,
             "#46039f"
            ],
            [
             0.2222222222222222,
             "#7201a8"
            ],
            [
             0.3333333333333333,
             "#9c179e"
            ],
            [
             0.4444444444444444,
             "#bd3786"
            ],
            [
             0.5555555555555556,
             "#d8576b"
            ],
            [
             0.6666666666666666,
             "#ed7953"
            ],
            [
             0.7777777777777778,
             "#fb9f3a"
            ],
            [
             0.8888888888888888,
             "#fdca26"
            ],
            [
             1,
             "#f0f921"
            ]
           ],
           "sequentialminus": [
            [
             0,
             "#0d0887"
            ],
            [
             0.1111111111111111,
             "#46039f"
            ],
            [
             0.2222222222222222,
             "#7201a8"
            ],
            [
             0.3333333333333333,
             "#9c179e"
            ],
            [
             0.4444444444444444,
             "#bd3786"
            ],
            [
             0.5555555555555556,
             "#d8576b"
            ],
            [
             0.6666666666666666,
             "#ed7953"
            ],
            [
             0.7777777777777778,
             "#fb9f3a"
            ],
            [
             0.8888888888888888,
             "#fdca26"
            ],
            [
             1,
             "#f0f921"
            ]
           ]
          },
          "colorway": [
           "#636efa",
           "#EF553B",
           "#00cc96",
           "#ab63fa",
           "#FFA15A",
           "#19d3f3",
           "#FF6692",
           "#B6E880",
           "#FF97FF",
           "#FECB52"
          ],
          "font": {
           "color": "#2a3f5f"
          },
          "geo": {
           "bgcolor": "white",
           "lakecolor": "white",
           "landcolor": "#E5ECF6",
           "showlakes": true,
           "showland": true,
           "subunitcolor": "white"
          },
          "hoverlabel": {
           "align": "left"
          },
          "hovermode": "closest",
          "mapbox": {
           "style": "light"
          },
          "paper_bgcolor": "white",
          "plot_bgcolor": "#E5ECF6",
          "polar": {
           "angularaxis": {
            "gridcolor": "white",
            "linecolor": "white",
            "ticks": ""
           },
           "bgcolor": "#E5ECF6",
           "radialaxis": {
            "gridcolor": "white",
            "linecolor": "white",
            "ticks": ""
           }
          },
          "scene": {
           "xaxis": {
            "backgroundcolor": "#E5ECF6",
            "gridcolor": "white",
            "gridwidth": 2,
            "linecolor": "white",
            "showbackground": true,
            "ticks": "",
            "zerolinecolor": "white"
           },
           "yaxis": {
            "backgroundcolor": "#E5ECF6",
            "gridcolor": "white",
            "gridwidth": 2,
            "linecolor": "white",
            "showbackground": true,
            "ticks": "",
            "zerolinecolor": "white"
           },
           "zaxis": {
            "backgroundcolor": "#E5ECF6",
            "gridcolor": "white",
            "gridwidth": 2,
            "linecolor": "white",
            "showbackground": true,
            "ticks": "",
            "zerolinecolor": "white"
           }
          },
          "shapedefaults": {
           "line": {
            "color": "#2a3f5f"
           }
          },
          "ternary": {
           "aaxis": {
            "gridcolor": "white",
            "linecolor": "white",
            "ticks": ""
           },
           "baxis": {
            "gridcolor": "white",
            "linecolor": "white",
            "ticks": ""
           },
           "bgcolor": "#E5ECF6",
           "caxis": {
            "gridcolor": "white",
            "linecolor": "white",
            "ticks": ""
           }
          },
          "title": {
           "x": 0.05
          },
          "xaxis": {
           "automargin": true,
           "gridcolor": "white",
           "linecolor": "white",
           "ticks": "",
           "title": {
            "standoff": 15
           },
           "zerolinecolor": "white",
           "zerolinewidth": 2
          },
          "yaxis": {
           "automargin": true,
           "gridcolor": "white",
           "linecolor": "white",
           "ticks": "",
           "title": {
            "standoff": 15
           },
           "zerolinecolor": "white",
           "zerolinewidth": 2
          }
         }
        },
        "title": {
         "text": "Communication Type Count by Month"
        },
        "xaxis": {
         "anchor": "y",
         "domain": [
          0,
          1
         ],
         "title": {
          "text": "MonthName"
         }
        },
        "yaxis": {
         "anchor": "x",
         "domain": [
          0,
          1
         ],
         "title": {
          "text": "Count"
         }
        }
       }
      }
     },
     "metadata": {},
     "output_type": "display_data"
    }
   ],
   "source": [
    "fig = px.bar(df1.groupby(['MonthName', 'Communication Type'])['Caller Name'].count().reset_index(),\n",
    "             x='MonthName',\n",
    "             y='Caller Name',\n",
    "             color='Communication Type',\n",
    "             labels={'Caller Name': 'Count'},\n",
    "             title='Communication Type Count by Month',\n",
    "             )\n",
    "\n",
    "fig.show()"
   ]
  },
  {
   "cell_type": "code",
   "execution_count": 99,
   "metadata": {},
   "outputs": [
    {
     "data": {
      "application/vnd.plotly.v1+json": {
       "config": {
        "plotlyServerURL": "https://plot.ly"
       },
       "data": [
        {
         "domain": {
          "x": [
           0,
           1
          ],
          "y": [
           0,
           1
          ]
         },
         "hovertemplate": "Status=%{label}<br>Caller Name=%{value}<extra></extra>",
         "labels": [
          "ANSWERED",
          "BUSY",
          "FAILED",
          "NO ANSWER",
          "VOICEMAIL"
         ],
         "legendgroup": "",
         "name": "",
         "showlegend": true,
         "type": "pie",
         "values": [
          91161,
          2918,
          465,
          25130,
          183
         ]
        }
       ],
       "layout": {
        "legend": {
         "tracegroupgap": 0
        },
        "template": {
         "data": {
          "bar": [
           {
            "error_x": {
             "color": "#2a3f5f"
            },
            "error_y": {
             "color": "#2a3f5f"
            },
            "marker": {
             "line": {
              "color": "#E5ECF6",
              "width": 0.5
             },
             "pattern": {
              "fillmode": "overlay",
              "size": 10,
              "solidity": 0.2
             }
            },
            "type": "bar"
           }
          ],
          "barpolar": [
           {
            "marker": {
             "line": {
              "color": "#E5ECF6",
              "width": 0.5
             },
             "pattern": {
              "fillmode": "overlay",
              "size": 10,
              "solidity": 0.2
             }
            },
            "type": "barpolar"
           }
          ],
          "carpet": [
           {
            "aaxis": {
             "endlinecolor": "#2a3f5f",
             "gridcolor": "white",
             "linecolor": "white",
             "minorgridcolor": "white",
             "startlinecolor": "#2a3f5f"
            },
            "baxis": {
             "endlinecolor": "#2a3f5f",
             "gridcolor": "white",
             "linecolor": "white",
             "minorgridcolor": "white",
             "startlinecolor": "#2a3f5f"
            },
            "type": "carpet"
           }
          ],
          "choropleth": [
           {
            "colorbar": {
             "outlinewidth": 0,
             "ticks": ""
            },
            "type": "choropleth"
           }
          ],
          "contour": [
           {
            "colorbar": {
             "outlinewidth": 0,
             "ticks": ""
            },
            "colorscale": [
             [
              0,
              "#0d0887"
             ],
             [
              0.1111111111111111,
              "#46039f"
             ],
             [
              0.2222222222222222,
              "#7201a8"
             ],
             [
              0.3333333333333333,
              "#9c179e"
             ],
             [
              0.4444444444444444,
              "#bd3786"
             ],
             [
              0.5555555555555556,
              "#d8576b"
             ],
             [
              0.6666666666666666,
              "#ed7953"
             ],
             [
              0.7777777777777778,
              "#fb9f3a"
             ],
             [
              0.8888888888888888,
              "#fdca26"
             ],
             [
              1,
              "#f0f921"
             ]
            ],
            "type": "contour"
           }
          ],
          "contourcarpet": [
           {
            "colorbar": {
             "outlinewidth": 0,
             "ticks": ""
            },
            "type": "contourcarpet"
           }
          ],
          "heatmap": [
           {
            "colorbar": {
             "outlinewidth": 0,
             "ticks": ""
            },
            "colorscale": [
             [
              0,
              "#0d0887"
             ],
             [
              0.1111111111111111,
              "#46039f"
             ],
             [
              0.2222222222222222,
              "#7201a8"
             ],
             [
              0.3333333333333333,
              "#9c179e"
             ],
             [
              0.4444444444444444,
              "#bd3786"
             ],
             [
              0.5555555555555556,
              "#d8576b"
             ],
             [
              0.6666666666666666,
              "#ed7953"
             ],
             [
              0.7777777777777778,
              "#fb9f3a"
             ],
             [
              0.8888888888888888,
              "#fdca26"
             ],
             [
              1,
              "#f0f921"
             ]
            ],
            "type": "heatmap"
           }
          ],
          "heatmapgl": [
           {
            "colorbar": {
             "outlinewidth": 0,
             "ticks": ""
            },
            "colorscale": [
             [
              0,
              "#0d0887"
             ],
             [
              0.1111111111111111,
              "#46039f"
             ],
             [
              0.2222222222222222,
              "#7201a8"
             ],
             [
              0.3333333333333333,
              "#9c179e"
             ],
             [
              0.4444444444444444,
              "#bd3786"
             ],
             [
              0.5555555555555556,
              "#d8576b"
             ],
             [
              0.6666666666666666,
              "#ed7953"
             ],
             [
              0.7777777777777778,
              "#fb9f3a"
             ],
             [
              0.8888888888888888,
              "#fdca26"
             ],
             [
              1,
              "#f0f921"
             ]
            ],
            "type": "heatmapgl"
           }
          ],
          "histogram": [
           {
            "marker": {
             "pattern": {
              "fillmode": "overlay",
              "size": 10,
              "solidity": 0.2
             }
            },
            "type": "histogram"
           }
          ],
          "histogram2d": [
           {
            "colorbar": {
             "outlinewidth": 0,
             "ticks": ""
            },
            "colorscale": [
             [
              0,
              "#0d0887"
             ],
             [
              0.1111111111111111,
              "#46039f"
             ],
             [
              0.2222222222222222,
              "#7201a8"
             ],
             [
              0.3333333333333333,
              "#9c179e"
             ],
             [
              0.4444444444444444,
              "#bd3786"
             ],
             [
              0.5555555555555556,
              "#d8576b"
             ],
             [
              0.6666666666666666,
              "#ed7953"
             ],
             [
              0.7777777777777778,
              "#fb9f3a"
             ],
             [
              0.8888888888888888,
              "#fdca26"
             ],
             [
              1,
              "#f0f921"
             ]
            ],
            "type": "histogram2d"
           }
          ],
          "histogram2dcontour": [
           {
            "colorbar": {
             "outlinewidth": 0,
             "ticks": ""
            },
            "colorscale": [
             [
              0,
              "#0d0887"
             ],
             [
              0.1111111111111111,
              "#46039f"
             ],
             [
              0.2222222222222222,
              "#7201a8"
             ],
             [
              0.3333333333333333,
              "#9c179e"
             ],
             [
              0.4444444444444444,
              "#bd3786"
             ],
             [
              0.5555555555555556,
              "#d8576b"
             ],
             [
              0.6666666666666666,
              "#ed7953"
             ],
             [
              0.7777777777777778,
              "#fb9f3a"
             ],
             [
              0.8888888888888888,
              "#fdca26"
             ],
             [
              1,
              "#f0f921"
             ]
            ],
            "type": "histogram2dcontour"
           }
          ],
          "mesh3d": [
           {
            "colorbar": {
             "outlinewidth": 0,
             "ticks": ""
            },
            "type": "mesh3d"
           }
          ],
          "parcoords": [
           {
            "line": {
             "colorbar": {
              "outlinewidth": 0,
              "ticks": ""
             }
            },
            "type": "parcoords"
           }
          ],
          "pie": [
           {
            "automargin": true,
            "type": "pie"
           }
          ],
          "scatter": [
           {
            "fillpattern": {
             "fillmode": "overlay",
             "size": 10,
             "solidity": 0.2
            },
            "type": "scatter"
           }
          ],
          "scatter3d": [
           {
            "line": {
             "colorbar": {
              "outlinewidth": 0,
              "ticks": ""
             }
            },
            "marker": {
             "colorbar": {
              "outlinewidth": 0,
              "ticks": ""
             }
            },
            "type": "scatter3d"
           }
          ],
          "scattercarpet": [
           {
            "marker": {
             "colorbar": {
              "outlinewidth": 0,
              "ticks": ""
             }
            },
            "type": "scattercarpet"
           }
          ],
          "scattergeo": [
           {
            "marker": {
             "colorbar": {
              "outlinewidth": 0,
              "ticks": ""
             }
            },
            "type": "scattergeo"
           }
          ],
          "scattergl": [
           {
            "marker": {
             "colorbar": {
              "outlinewidth": 0,
              "ticks": ""
             }
            },
            "type": "scattergl"
           }
          ],
          "scattermapbox": [
           {
            "marker": {
             "colorbar": {
              "outlinewidth": 0,
              "ticks": ""
             }
            },
            "type": "scattermapbox"
           }
          ],
          "scatterpolar": [
           {
            "marker": {
             "colorbar": {
              "outlinewidth": 0,
              "ticks": ""
             }
            },
            "type": "scatterpolar"
           }
          ],
          "scatterpolargl": [
           {
            "marker": {
             "colorbar": {
              "outlinewidth": 0,
              "ticks": ""
             }
            },
            "type": "scatterpolargl"
           }
          ],
          "scatterternary": [
           {
            "marker": {
             "colorbar": {
              "outlinewidth": 0,
              "ticks": ""
             }
            },
            "type": "scatterternary"
           }
          ],
          "surface": [
           {
            "colorbar": {
             "outlinewidth": 0,
             "ticks": ""
            },
            "colorscale": [
             [
              0,
              "#0d0887"
             ],
             [
              0.1111111111111111,
              "#46039f"
             ],
             [
              0.2222222222222222,
              "#7201a8"
             ],
             [
              0.3333333333333333,
              "#9c179e"
             ],
             [
              0.4444444444444444,
              "#bd3786"
             ],
             [
              0.5555555555555556,
              "#d8576b"
             ],
             [
              0.6666666666666666,
              "#ed7953"
             ],
             [
              0.7777777777777778,
              "#fb9f3a"
             ],
             [
              0.8888888888888888,
              "#fdca26"
             ],
             [
              1,
              "#f0f921"
             ]
            ],
            "type": "surface"
           }
          ],
          "table": [
           {
            "cells": {
             "fill": {
              "color": "#EBF0F8"
             },
             "line": {
              "color": "white"
             }
            },
            "header": {
             "fill": {
              "color": "#C8D4E3"
             },
             "line": {
              "color": "white"
             }
            },
            "type": "table"
           }
          ]
         },
         "layout": {
          "annotationdefaults": {
           "arrowcolor": "#2a3f5f",
           "arrowhead": 0,
           "arrowwidth": 1
          },
          "autotypenumbers": "strict",
          "coloraxis": {
           "colorbar": {
            "outlinewidth": 0,
            "ticks": ""
           }
          },
          "colorscale": {
           "diverging": [
            [
             0,
             "#8e0152"
            ],
            [
             0.1,
             "#c51b7d"
            ],
            [
             0.2,
             "#de77ae"
            ],
            [
             0.3,
             "#f1b6da"
            ],
            [
             0.4,
             "#fde0ef"
            ],
            [
             0.5,
             "#f7f7f7"
            ],
            [
             0.6,
             "#e6f5d0"
            ],
            [
             0.7,
             "#b8e186"
            ],
            [
             0.8,
             "#7fbc41"
            ],
            [
             0.9,
             "#4d9221"
            ],
            [
             1,
             "#276419"
            ]
           ],
           "sequential": [
            [
             0,
             "#0d0887"
            ],
            [
             0.1111111111111111,
             "#46039f"
            ],
            [
             0.2222222222222222,
             "#7201a8"
            ],
            [
             0.3333333333333333,
             "#9c179e"
            ],
            [
             0.4444444444444444,
             "#bd3786"
            ],
            [
             0.5555555555555556,
             "#d8576b"
            ],
            [
             0.6666666666666666,
             "#ed7953"
            ],
            [
             0.7777777777777778,
             "#fb9f3a"
            ],
            [
             0.8888888888888888,
             "#fdca26"
            ],
            [
             1,
             "#f0f921"
            ]
           ],
           "sequentialminus": [
            [
             0,
             "#0d0887"
            ],
            [
             0.1111111111111111,
             "#46039f"
            ],
            [
             0.2222222222222222,
             "#7201a8"
            ],
            [
             0.3333333333333333,
             "#9c179e"
            ],
            [
             0.4444444444444444,
             "#bd3786"
            ],
            [
             0.5555555555555556,
             "#d8576b"
            ],
            [
             0.6666666666666666,
             "#ed7953"
            ],
            [
             0.7777777777777778,
             "#fb9f3a"
            ],
            [
             0.8888888888888888,
             "#fdca26"
            ],
            [
             1,
             "#f0f921"
            ]
           ]
          },
          "colorway": [
           "#636efa",
           "#EF553B",
           "#00cc96",
           "#ab63fa",
           "#FFA15A",
           "#19d3f3",
           "#FF6692",
           "#B6E880",
           "#FF97FF",
           "#FECB52"
          ],
          "font": {
           "color": "#2a3f5f"
          },
          "geo": {
           "bgcolor": "white",
           "lakecolor": "white",
           "landcolor": "#E5ECF6",
           "showlakes": true,
           "showland": true,
           "subunitcolor": "white"
          },
          "hoverlabel": {
           "align": "left"
          },
          "hovermode": "closest",
          "mapbox": {
           "style": "light"
          },
          "paper_bgcolor": "white",
          "plot_bgcolor": "#E5ECF6",
          "polar": {
           "angularaxis": {
            "gridcolor": "white",
            "linecolor": "white",
            "ticks": ""
           },
           "bgcolor": "#E5ECF6",
           "radialaxis": {
            "gridcolor": "white",
            "linecolor": "white",
            "ticks": ""
           }
          },
          "scene": {
           "xaxis": {
            "backgroundcolor": "#E5ECF6",
            "gridcolor": "white",
            "gridwidth": 2,
            "linecolor": "white",
            "showbackground": true,
            "ticks": "",
            "zerolinecolor": "white"
           },
           "yaxis": {
            "backgroundcolor": "#E5ECF6",
            "gridcolor": "white",
            "gridwidth": 2,
            "linecolor": "white",
            "showbackground": true,
            "ticks": "",
            "zerolinecolor": "white"
           },
           "zaxis": {
            "backgroundcolor": "#E5ECF6",
            "gridcolor": "white",
            "gridwidth": 2,
            "linecolor": "white",
            "showbackground": true,
            "ticks": "",
            "zerolinecolor": "white"
           }
          },
          "shapedefaults": {
           "line": {
            "color": "#2a3f5f"
           }
          },
          "ternary": {
           "aaxis": {
            "gridcolor": "white",
            "linecolor": "white",
            "ticks": ""
           },
           "baxis": {
            "gridcolor": "white",
            "linecolor": "white",
            "ticks": ""
           },
           "bgcolor": "#E5ECF6",
           "caxis": {
            "gridcolor": "white",
            "linecolor": "white",
            "ticks": ""
           }
          },
          "title": {
           "x": 0.05
          },
          "xaxis": {
           "automargin": true,
           "gridcolor": "white",
           "linecolor": "white",
           "ticks": "",
           "title": {
            "standoff": 15
           },
           "zerolinecolor": "white",
           "zerolinewidth": 2
          },
          "yaxis": {
           "automargin": true,
           "gridcolor": "white",
           "linecolor": "white",
           "ticks": "",
           "title": {
            "standoff": 15
           },
           "zerolinecolor": "white",
           "zerolinewidth": 2
          }
         }
        },
        "title": {
         "text": "Caller Status"
        }
       }
      }
     },
     "metadata": {},
     "output_type": "display_data"
    }
   ],
   "source": [
    "fig = px.pie(df1.groupby('Status')['Caller Name'].count().reset_index(),\n",
    "             names='Status',\n",
    "             values='Caller Name',\n",
    "             title='Caller Status',\n",
    "            )\n",
    "\n",
    "fig.show()\n"
   ]
  },
  {
   "cell_type": "code",
   "execution_count": 90,
   "metadata": {},
   "outputs": [
    {
     "data": {
      "application/vnd.plotly.v1+json": {
       "config": {
        "plotlyServerURL": "https://plot.ly"
       },
       "data": [
        {
         "domain": {
          "x": [
           0,
           1
          ],
          "y": [
           0,
           1
          ]
         },
         "hovertemplate": "Communication Type=%{label}<br>Caller Name=%{value}<extra></extra>",
         "labels": [
          "Inbound",
          "Outbound"
         ],
         "legendgroup": "",
         "name": "",
         "showlegend": true,
         "type": "pie",
         "values": [
          61641,
          58216
         ]
        }
       ],
       "layout": {
        "legend": {
         "tracegroupgap": 0
        },
        "template": {
         "data": {
          "bar": [
           {
            "error_x": {
             "color": "#2a3f5f"
            },
            "error_y": {
             "color": "#2a3f5f"
            },
            "marker": {
             "line": {
              "color": "#E5ECF6",
              "width": 0.5
             },
             "pattern": {
              "fillmode": "overlay",
              "size": 10,
              "solidity": 0.2
             }
            },
            "type": "bar"
           }
          ],
          "barpolar": [
           {
            "marker": {
             "line": {
              "color": "#E5ECF6",
              "width": 0.5
             },
             "pattern": {
              "fillmode": "overlay",
              "size": 10,
              "solidity": 0.2
             }
            },
            "type": "barpolar"
           }
          ],
          "carpet": [
           {
            "aaxis": {
             "endlinecolor": "#2a3f5f",
             "gridcolor": "white",
             "linecolor": "white",
             "minorgridcolor": "white",
             "startlinecolor": "#2a3f5f"
            },
            "baxis": {
             "endlinecolor": "#2a3f5f",
             "gridcolor": "white",
             "linecolor": "white",
             "minorgridcolor": "white",
             "startlinecolor": "#2a3f5f"
            },
            "type": "carpet"
           }
          ],
          "choropleth": [
           {
            "colorbar": {
             "outlinewidth": 0,
             "ticks": ""
            },
            "type": "choropleth"
           }
          ],
          "contour": [
           {
            "colorbar": {
             "outlinewidth": 0,
             "ticks": ""
            },
            "colorscale": [
             [
              0,
              "#0d0887"
             ],
             [
              0.1111111111111111,
              "#46039f"
             ],
             [
              0.2222222222222222,
              "#7201a8"
             ],
             [
              0.3333333333333333,
              "#9c179e"
             ],
             [
              0.4444444444444444,
              "#bd3786"
             ],
             [
              0.5555555555555556,
              "#d8576b"
             ],
             [
              0.6666666666666666,
              "#ed7953"
             ],
             [
              0.7777777777777778,
              "#fb9f3a"
             ],
             [
              0.8888888888888888,
              "#fdca26"
             ],
             [
              1,
              "#f0f921"
             ]
            ],
            "type": "contour"
           }
          ],
          "contourcarpet": [
           {
            "colorbar": {
             "outlinewidth": 0,
             "ticks": ""
            },
            "type": "contourcarpet"
           }
          ],
          "heatmap": [
           {
            "colorbar": {
             "outlinewidth": 0,
             "ticks": ""
            },
            "colorscale": [
             [
              0,
              "#0d0887"
             ],
             [
              0.1111111111111111,
              "#46039f"
             ],
             [
              0.2222222222222222,
              "#7201a8"
             ],
             [
              0.3333333333333333,
              "#9c179e"
             ],
             [
              0.4444444444444444,
              "#bd3786"
             ],
             [
              0.5555555555555556,
              "#d8576b"
             ],
             [
              0.6666666666666666,
              "#ed7953"
             ],
             [
              0.7777777777777778,
              "#fb9f3a"
             ],
             [
              0.8888888888888888,
              "#fdca26"
             ],
             [
              1,
              "#f0f921"
             ]
            ],
            "type": "heatmap"
           }
          ],
          "heatmapgl": [
           {
            "colorbar": {
             "outlinewidth": 0,
             "ticks": ""
            },
            "colorscale": [
             [
              0,
              "#0d0887"
             ],
             [
              0.1111111111111111,
              "#46039f"
             ],
             [
              0.2222222222222222,
              "#7201a8"
             ],
             [
              0.3333333333333333,
              "#9c179e"
             ],
             [
              0.4444444444444444,
              "#bd3786"
             ],
             [
              0.5555555555555556,
              "#d8576b"
             ],
             [
              0.6666666666666666,
              "#ed7953"
             ],
             [
              0.7777777777777778,
              "#fb9f3a"
             ],
             [
              0.8888888888888888,
              "#fdca26"
             ],
             [
              1,
              "#f0f921"
             ]
            ],
            "type": "heatmapgl"
           }
          ],
          "histogram": [
           {
            "marker": {
             "pattern": {
              "fillmode": "overlay",
              "size": 10,
              "solidity": 0.2
             }
            },
            "type": "histogram"
           }
          ],
          "histogram2d": [
           {
            "colorbar": {
             "outlinewidth": 0,
             "ticks": ""
            },
            "colorscale": [
             [
              0,
              "#0d0887"
             ],
             [
              0.1111111111111111,
              "#46039f"
             ],
             [
              0.2222222222222222,
              "#7201a8"
             ],
             [
              0.3333333333333333,
              "#9c179e"
             ],
             [
              0.4444444444444444,
              "#bd3786"
             ],
             [
              0.5555555555555556,
              "#d8576b"
             ],
             [
              0.6666666666666666,
              "#ed7953"
             ],
             [
              0.7777777777777778,
              "#fb9f3a"
             ],
             [
              0.8888888888888888,
              "#fdca26"
             ],
             [
              1,
              "#f0f921"
             ]
            ],
            "type": "histogram2d"
           }
          ],
          "histogram2dcontour": [
           {
            "colorbar": {
             "outlinewidth": 0,
             "ticks": ""
            },
            "colorscale": [
             [
              0,
              "#0d0887"
             ],
             [
              0.1111111111111111,
              "#46039f"
             ],
             [
              0.2222222222222222,
              "#7201a8"
             ],
             [
              0.3333333333333333,
              "#9c179e"
             ],
             [
              0.4444444444444444,
              "#bd3786"
             ],
             [
              0.5555555555555556,
              "#d8576b"
             ],
             [
              0.6666666666666666,
              "#ed7953"
             ],
             [
              0.7777777777777778,
              "#fb9f3a"
             ],
             [
              0.8888888888888888,
              "#fdca26"
             ],
             [
              1,
              "#f0f921"
             ]
            ],
            "type": "histogram2dcontour"
           }
          ],
          "mesh3d": [
           {
            "colorbar": {
             "outlinewidth": 0,
             "ticks": ""
            },
            "type": "mesh3d"
           }
          ],
          "parcoords": [
           {
            "line": {
             "colorbar": {
              "outlinewidth": 0,
              "ticks": ""
             }
            },
            "type": "parcoords"
           }
          ],
          "pie": [
           {
            "automargin": true,
            "type": "pie"
           }
          ],
          "scatter": [
           {
            "fillpattern": {
             "fillmode": "overlay",
             "size": 10,
             "solidity": 0.2
            },
            "type": "scatter"
           }
          ],
          "scatter3d": [
           {
            "line": {
             "colorbar": {
              "outlinewidth": 0,
              "ticks": ""
             }
            },
            "marker": {
             "colorbar": {
              "outlinewidth": 0,
              "ticks": ""
             }
            },
            "type": "scatter3d"
           }
          ],
          "scattercarpet": [
           {
            "marker": {
             "colorbar": {
              "outlinewidth": 0,
              "ticks": ""
             }
            },
            "type": "scattercarpet"
           }
          ],
          "scattergeo": [
           {
            "marker": {
             "colorbar": {
              "outlinewidth": 0,
              "ticks": ""
             }
            },
            "type": "scattergeo"
           }
          ],
          "scattergl": [
           {
            "marker": {
             "colorbar": {
              "outlinewidth": 0,
              "ticks": ""
             }
            },
            "type": "scattergl"
           }
          ],
          "scattermapbox": [
           {
            "marker": {
             "colorbar": {
              "outlinewidth": 0,
              "ticks": ""
             }
            },
            "type": "scattermapbox"
           }
          ],
          "scatterpolar": [
           {
            "marker": {
             "colorbar": {
              "outlinewidth": 0,
              "ticks": ""
             }
            },
            "type": "scatterpolar"
           }
          ],
          "scatterpolargl": [
           {
            "marker": {
             "colorbar": {
              "outlinewidth": 0,
              "ticks": ""
             }
            },
            "type": "scatterpolargl"
           }
          ],
          "scatterternary": [
           {
            "marker": {
             "colorbar": {
              "outlinewidth": 0,
              "ticks": ""
             }
            },
            "type": "scatterternary"
           }
          ],
          "surface": [
           {
            "colorbar": {
             "outlinewidth": 0,
             "ticks": ""
            },
            "colorscale": [
             [
              0,
              "#0d0887"
             ],
             [
              0.1111111111111111,
              "#46039f"
             ],
             [
              0.2222222222222222,
              "#7201a8"
             ],
             [
              0.3333333333333333,
              "#9c179e"
             ],
             [
              0.4444444444444444,
              "#bd3786"
             ],
             [
              0.5555555555555556,
              "#d8576b"
             ],
             [
              0.6666666666666666,
              "#ed7953"
             ],
             [
              0.7777777777777778,
              "#fb9f3a"
             ],
             [
              0.8888888888888888,
              "#fdca26"
             ],
             [
              1,
              "#f0f921"
             ]
            ],
            "type": "surface"
           }
          ],
          "table": [
           {
            "cells": {
             "fill": {
              "color": "#EBF0F8"
             },
             "line": {
              "color": "white"
             }
            },
            "header": {
             "fill": {
              "color": "#C8D4E3"
             },
             "line": {
              "color": "white"
             }
            },
            "type": "table"
           }
          ]
         },
         "layout": {
          "annotationdefaults": {
           "arrowcolor": "#2a3f5f",
           "arrowhead": 0,
           "arrowwidth": 1
          },
          "autotypenumbers": "strict",
          "coloraxis": {
           "colorbar": {
            "outlinewidth": 0,
            "ticks": ""
           }
          },
          "colorscale": {
           "diverging": [
            [
             0,
             "#8e0152"
            ],
            [
             0.1,
             "#c51b7d"
            ],
            [
             0.2,
             "#de77ae"
            ],
            [
             0.3,
             "#f1b6da"
            ],
            [
             0.4,
             "#fde0ef"
            ],
            [
             0.5,
             "#f7f7f7"
            ],
            [
             0.6,
             "#e6f5d0"
            ],
            [
             0.7,
             "#b8e186"
            ],
            [
             0.8,
             "#7fbc41"
            ],
            [
             0.9,
             "#4d9221"
            ],
            [
             1,
             "#276419"
            ]
           ],
           "sequential": [
            [
             0,
             "#0d0887"
            ],
            [
             0.1111111111111111,
             "#46039f"
            ],
            [
             0.2222222222222222,
             "#7201a8"
            ],
            [
             0.3333333333333333,
             "#9c179e"
            ],
            [
             0.4444444444444444,
             "#bd3786"
            ],
            [
             0.5555555555555556,
             "#d8576b"
            ],
            [
             0.6666666666666666,
             "#ed7953"
            ],
            [
             0.7777777777777778,
             "#fb9f3a"
            ],
            [
             0.8888888888888888,
             "#fdca26"
            ],
            [
             1,
             "#f0f921"
            ]
           ],
           "sequentialminus": [
            [
             0,
             "#0d0887"
            ],
            [
             0.1111111111111111,
             "#46039f"
            ],
            [
             0.2222222222222222,
             "#7201a8"
            ],
            [
             0.3333333333333333,
             "#9c179e"
            ],
            [
             0.4444444444444444,
             "#bd3786"
            ],
            [
             0.5555555555555556,
             "#d8576b"
            ],
            [
             0.6666666666666666,
             "#ed7953"
            ],
            [
             0.7777777777777778,
             "#fb9f3a"
            ],
            [
             0.8888888888888888,
             "#fdca26"
            ],
            [
             1,
             "#f0f921"
            ]
           ]
          },
          "colorway": [
           "#636efa",
           "#EF553B",
           "#00cc96",
           "#ab63fa",
           "#FFA15A",
           "#19d3f3",
           "#FF6692",
           "#B6E880",
           "#FF97FF",
           "#FECB52"
          ],
          "font": {
           "color": "#2a3f5f"
          },
          "geo": {
           "bgcolor": "white",
           "lakecolor": "white",
           "landcolor": "#E5ECF6",
           "showlakes": true,
           "showland": true,
           "subunitcolor": "white"
          },
          "hoverlabel": {
           "align": "left"
          },
          "hovermode": "closest",
          "mapbox": {
           "style": "light"
          },
          "paper_bgcolor": "white",
          "plot_bgcolor": "#E5ECF6",
          "polar": {
           "angularaxis": {
            "gridcolor": "white",
            "linecolor": "white",
            "ticks": ""
           },
           "bgcolor": "#E5ECF6",
           "radialaxis": {
            "gridcolor": "white",
            "linecolor": "white",
            "ticks": ""
           }
          },
          "scene": {
           "xaxis": {
            "backgroundcolor": "#E5ECF6",
            "gridcolor": "white",
            "gridwidth": 2,
            "linecolor": "white",
            "showbackground": true,
            "ticks": "",
            "zerolinecolor": "white"
           },
           "yaxis": {
            "backgroundcolor": "#E5ECF6",
            "gridcolor": "white",
            "gridwidth": 2,
            "linecolor": "white",
            "showbackground": true,
            "ticks": "",
            "zerolinecolor": "white"
           },
           "zaxis": {
            "backgroundcolor": "#E5ECF6",
            "gridcolor": "white",
            "gridwidth": 2,
            "linecolor": "white",
            "showbackground": true,
            "ticks": "",
            "zerolinecolor": "white"
           }
          },
          "shapedefaults": {
           "line": {
            "color": "#2a3f5f"
           }
          },
          "ternary": {
           "aaxis": {
            "gridcolor": "white",
            "linecolor": "white",
            "ticks": ""
           },
           "baxis": {
            "gridcolor": "white",
            "linecolor": "white",
            "ticks": ""
           },
           "bgcolor": "#E5ECF6",
           "caxis": {
            "gridcolor": "white",
            "linecolor": "white",
            "ticks": ""
           }
          },
          "title": {
           "x": 0.05
          },
          "xaxis": {
           "automargin": true,
           "gridcolor": "white",
           "linecolor": "white",
           "ticks": "",
           "title": {
            "standoff": 15
           },
           "zerolinecolor": "white",
           "zerolinewidth": 2
          },
          "yaxis": {
           "automargin": true,
           "gridcolor": "white",
           "linecolor": "white",
           "ticks": "",
           "title": {
            "standoff": 15
           },
           "zerolinecolor": "white",
           "zerolinewidth": 2
          }
         }
        },
        "title": {
         "text": "Communication Type Count"
        }
       }
      }
     },
     "metadata": {},
     "output_type": "display_data"
    }
   ],
   "source": [
    "fig = px.pie(df1.groupby('Communication Type')['Caller Name'].count().reset_index(),\n",
    "             names='Communication Type',\n",
    "             values='Caller Name',\n",
    "             title='Communication Type Count',\n",
    "            )\n",
    "\n",
    "fig.show()\n"
   ]
  },
  {
   "cell_type": "code",
   "execution_count": 81,
   "metadata": {},
   "outputs": [
    {
     "data": {
      "application/vnd.plotly.v1+json": {
       "config": {
        "plotlyServerURL": "https://plot.ly"
       },
       "data": [
        {
         "line": {
          "color": "green"
         },
         "marker": {
          "color": "green",
          "size": 8
         },
         "mode": "lines+markers",
         "text": [
          879,
          542,
          411,
          324,
          307,
          434,
          1390,
          2624,
          3821,
          8052,
          13128,
          12298,
          8264,
          10238,
          9646,
          9586,
          8756,
          5636,
          6026,
          5437,
          4889,
          3592,
          2211,
          1366
         ],
         "textposition": "top center",
         "type": "scatter",
         "x": [
          0,
          1,
          2,
          3,
          4,
          5,
          6,
          7,
          8,
          9,
          10,
          11,
          12,
          13,
          14,
          15,
          16,
          17,
          18,
          19,
          20,
          21,
          22,
          23
         ],
         "y": [
          879,
          542,
          411,
          324,
          307,
          434,
          1390,
          2624,
          3821,
          8052,
          13128,
          12298,
          8264,
          10238,
          9646,
          9586,
          8756,
          5636,
          6026,
          5437,
          4889,
          3592,
          2211,
          1366
         ]
        }
       ],
       "layout": {
        "template": {
         "data": {
          "bar": [
           {
            "error_x": {
             "color": "#2a3f5f"
            },
            "error_y": {
             "color": "#2a3f5f"
            },
            "marker": {
             "line": {
              "color": "#E5ECF6",
              "width": 0.5
             },
             "pattern": {
              "fillmode": "overlay",
              "size": 10,
              "solidity": 0.2
             }
            },
            "type": "bar"
           }
          ],
          "barpolar": [
           {
            "marker": {
             "line": {
              "color": "#E5ECF6",
              "width": 0.5
             },
             "pattern": {
              "fillmode": "overlay",
              "size": 10,
              "solidity": 0.2
             }
            },
            "type": "barpolar"
           }
          ],
          "carpet": [
           {
            "aaxis": {
             "endlinecolor": "#2a3f5f",
             "gridcolor": "white",
             "linecolor": "white",
             "minorgridcolor": "white",
             "startlinecolor": "#2a3f5f"
            },
            "baxis": {
             "endlinecolor": "#2a3f5f",
             "gridcolor": "white",
             "linecolor": "white",
             "minorgridcolor": "white",
             "startlinecolor": "#2a3f5f"
            },
            "type": "carpet"
           }
          ],
          "choropleth": [
           {
            "colorbar": {
             "outlinewidth": 0,
             "ticks": ""
            },
            "type": "choropleth"
           }
          ],
          "contour": [
           {
            "colorbar": {
             "outlinewidth": 0,
             "ticks": ""
            },
            "colorscale": [
             [
              0,
              "#0d0887"
             ],
             [
              0.1111111111111111,
              "#46039f"
             ],
             [
              0.2222222222222222,
              "#7201a8"
             ],
             [
              0.3333333333333333,
              "#9c179e"
             ],
             [
              0.4444444444444444,
              "#bd3786"
             ],
             [
              0.5555555555555556,
              "#d8576b"
             ],
             [
              0.6666666666666666,
              "#ed7953"
             ],
             [
              0.7777777777777778,
              "#fb9f3a"
             ],
             [
              0.8888888888888888,
              "#fdca26"
             ],
             [
              1,
              "#f0f921"
             ]
            ],
            "type": "contour"
           }
          ],
          "contourcarpet": [
           {
            "colorbar": {
             "outlinewidth": 0,
             "ticks": ""
            },
            "type": "contourcarpet"
           }
          ],
          "heatmap": [
           {
            "colorbar": {
             "outlinewidth": 0,
             "ticks": ""
            },
            "colorscale": [
             [
              0,
              "#0d0887"
             ],
             [
              0.1111111111111111,
              "#46039f"
             ],
             [
              0.2222222222222222,
              "#7201a8"
             ],
             [
              0.3333333333333333,
              "#9c179e"
             ],
             [
              0.4444444444444444,
              "#bd3786"
             ],
             [
              0.5555555555555556,
              "#d8576b"
             ],
             [
              0.6666666666666666,
              "#ed7953"
             ],
             [
              0.7777777777777778,
              "#fb9f3a"
             ],
             [
              0.8888888888888888,
              "#fdca26"
             ],
             [
              1,
              "#f0f921"
             ]
            ],
            "type": "heatmap"
           }
          ],
          "heatmapgl": [
           {
            "colorbar": {
             "outlinewidth": 0,
             "ticks": ""
            },
            "colorscale": [
             [
              0,
              "#0d0887"
             ],
             [
              0.1111111111111111,
              "#46039f"
             ],
             [
              0.2222222222222222,
              "#7201a8"
             ],
             [
              0.3333333333333333,
              "#9c179e"
             ],
             [
              0.4444444444444444,
              "#bd3786"
             ],
             [
              0.5555555555555556,
              "#d8576b"
             ],
             [
              0.6666666666666666,
              "#ed7953"
             ],
             [
              0.7777777777777778,
              "#fb9f3a"
             ],
             [
              0.8888888888888888,
              "#fdca26"
             ],
             [
              1,
              "#f0f921"
             ]
            ],
            "type": "heatmapgl"
           }
          ],
          "histogram": [
           {
            "marker": {
             "pattern": {
              "fillmode": "overlay",
              "size": 10,
              "solidity": 0.2
             }
            },
            "type": "histogram"
           }
          ],
          "histogram2d": [
           {
            "colorbar": {
             "outlinewidth": 0,
             "ticks": ""
            },
            "colorscale": [
             [
              0,
              "#0d0887"
             ],
             [
              0.1111111111111111,
              "#46039f"
             ],
             [
              0.2222222222222222,
              "#7201a8"
             ],
             [
              0.3333333333333333,
              "#9c179e"
             ],
             [
              0.4444444444444444,
              "#bd3786"
             ],
             [
              0.5555555555555556,
              "#d8576b"
             ],
             [
              0.6666666666666666,
              "#ed7953"
             ],
             [
              0.7777777777777778,
              "#fb9f3a"
             ],
             [
              0.8888888888888888,
              "#fdca26"
             ],
             [
              1,
              "#f0f921"
             ]
            ],
            "type": "histogram2d"
           }
          ],
          "histogram2dcontour": [
           {
            "colorbar": {
             "outlinewidth": 0,
             "ticks": ""
            },
            "colorscale": [
             [
              0,
              "#0d0887"
             ],
             [
              0.1111111111111111,
              "#46039f"
             ],
             [
              0.2222222222222222,
              "#7201a8"
             ],
             [
              0.3333333333333333,
              "#9c179e"
             ],
             [
              0.4444444444444444,
              "#bd3786"
             ],
             [
              0.5555555555555556,
              "#d8576b"
             ],
             [
              0.6666666666666666,
              "#ed7953"
             ],
             [
              0.7777777777777778,
              "#fb9f3a"
             ],
             [
              0.8888888888888888,
              "#fdca26"
             ],
             [
              1,
              "#f0f921"
             ]
            ],
            "type": "histogram2dcontour"
           }
          ],
          "mesh3d": [
           {
            "colorbar": {
             "outlinewidth": 0,
             "ticks": ""
            },
            "type": "mesh3d"
           }
          ],
          "parcoords": [
           {
            "line": {
             "colorbar": {
              "outlinewidth": 0,
              "ticks": ""
             }
            },
            "type": "parcoords"
           }
          ],
          "pie": [
           {
            "automargin": true,
            "type": "pie"
           }
          ],
          "scatter": [
           {
            "fillpattern": {
             "fillmode": "overlay",
             "size": 10,
             "solidity": 0.2
            },
            "type": "scatter"
           }
          ],
          "scatter3d": [
           {
            "line": {
             "colorbar": {
              "outlinewidth": 0,
              "ticks": ""
             }
            },
            "marker": {
             "colorbar": {
              "outlinewidth": 0,
              "ticks": ""
             }
            },
            "type": "scatter3d"
           }
          ],
          "scattercarpet": [
           {
            "marker": {
             "colorbar": {
              "outlinewidth": 0,
              "ticks": ""
             }
            },
            "type": "scattercarpet"
           }
          ],
          "scattergeo": [
           {
            "marker": {
             "colorbar": {
              "outlinewidth": 0,
              "ticks": ""
             }
            },
            "type": "scattergeo"
           }
          ],
          "scattergl": [
           {
            "marker": {
             "colorbar": {
              "outlinewidth": 0,
              "ticks": ""
             }
            },
            "type": "scattergl"
           }
          ],
          "scattermapbox": [
           {
            "marker": {
             "colorbar": {
              "outlinewidth": 0,
              "ticks": ""
             }
            },
            "type": "scattermapbox"
           }
          ],
          "scatterpolar": [
           {
            "marker": {
             "colorbar": {
              "outlinewidth": 0,
              "ticks": ""
             }
            },
            "type": "scatterpolar"
           }
          ],
          "scatterpolargl": [
           {
            "marker": {
             "colorbar": {
              "outlinewidth": 0,
              "ticks": ""
             }
            },
            "type": "scatterpolargl"
           }
          ],
          "scatterternary": [
           {
            "marker": {
             "colorbar": {
              "outlinewidth": 0,
              "ticks": ""
             }
            },
            "type": "scatterternary"
           }
          ],
          "surface": [
           {
            "colorbar": {
             "outlinewidth": 0,
             "ticks": ""
            },
            "colorscale": [
             [
              0,
              "#0d0887"
             ],
             [
              0.1111111111111111,
              "#46039f"
             ],
             [
              0.2222222222222222,
              "#7201a8"
             ],
             [
              0.3333333333333333,
              "#9c179e"
             ],
             [
              0.4444444444444444,
              "#bd3786"
             ],
             [
              0.5555555555555556,
              "#d8576b"
             ],
             [
              0.6666666666666666,
              "#ed7953"
             ],
             [
              0.7777777777777778,
              "#fb9f3a"
             ],
             [
              0.8888888888888888,
              "#fdca26"
             ],
             [
              1,
              "#f0f921"
             ]
            ],
            "type": "surface"
           }
          ],
          "table": [
           {
            "cells": {
             "fill": {
              "color": "#EBF0F8"
             },
             "line": {
              "color": "white"
             }
            },
            "header": {
             "fill": {
              "color": "#C8D4E3"
             },
             "line": {
              "color": "white"
             }
            },
            "type": "table"
           }
          ]
         },
         "layout": {
          "annotationdefaults": {
           "arrowcolor": "#2a3f5f",
           "arrowhead": 0,
           "arrowwidth": 1
          },
          "autotypenumbers": "strict",
          "coloraxis": {
           "colorbar": {
            "outlinewidth": 0,
            "ticks": ""
           }
          },
          "colorscale": {
           "diverging": [
            [
             0,
             "#8e0152"
            ],
            [
             0.1,
             "#c51b7d"
            ],
            [
             0.2,
             "#de77ae"
            ],
            [
             0.3,
             "#f1b6da"
            ],
            [
             0.4,
             "#fde0ef"
            ],
            [
             0.5,
             "#f7f7f7"
            ],
            [
             0.6,
             "#e6f5d0"
            ],
            [
             0.7,
             "#b8e186"
            ],
            [
             0.8,
             "#7fbc41"
            ],
            [
             0.9,
             "#4d9221"
            ],
            [
             1,
             "#276419"
            ]
           ],
           "sequential": [
            [
             0,
             "#0d0887"
            ],
            [
             0.1111111111111111,
             "#46039f"
            ],
            [
             0.2222222222222222,
             "#7201a8"
            ],
            [
             0.3333333333333333,
             "#9c179e"
            ],
            [
             0.4444444444444444,
             "#bd3786"
            ],
            [
             0.5555555555555556,
             "#d8576b"
            ],
            [
             0.6666666666666666,
             "#ed7953"
            ],
            [
             0.7777777777777778,
             "#fb9f3a"
            ],
            [
             0.8888888888888888,
             "#fdca26"
            ],
            [
             1,
             "#f0f921"
            ]
           ],
           "sequentialminus": [
            [
             0,
             "#0d0887"
            ],
            [
             0.1111111111111111,
             "#46039f"
            ],
            [
             0.2222222222222222,
             "#7201a8"
            ],
            [
             0.3333333333333333,
             "#9c179e"
            ],
            [
             0.4444444444444444,
             "#bd3786"
            ],
            [
             0.5555555555555556,
             "#d8576b"
            ],
            [
             0.6666666666666666,
             "#ed7953"
            ],
            [
             0.7777777777777778,
             "#fb9f3a"
            ],
            [
             0.8888888888888888,
             "#fdca26"
            ],
            [
             1,
             "#f0f921"
            ]
           ]
          },
          "colorway": [
           "#636efa",
           "#EF553B",
           "#00cc96",
           "#ab63fa",
           "#FFA15A",
           "#19d3f3",
           "#FF6692",
           "#B6E880",
           "#FF97FF",
           "#FECB52"
          ],
          "font": {
           "color": "#2a3f5f"
          },
          "geo": {
           "bgcolor": "white",
           "lakecolor": "white",
           "landcolor": "#E5ECF6",
           "showlakes": true,
           "showland": true,
           "subunitcolor": "white"
          },
          "hoverlabel": {
           "align": "left"
          },
          "hovermode": "closest",
          "mapbox": {
           "style": "light"
          },
          "paper_bgcolor": "white",
          "plot_bgcolor": "#E5ECF6",
          "polar": {
           "angularaxis": {
            "gridcolor": "white",
            "linecolor": "white",
            "ticks": ""
           },
           "bgcolor": "#E5ECF6",
           "radialaxis": {
            "gridcolor": "white",
            "linecolor": "white",
            "ticks": ""
           }
          },
          "scene": {
           "xaxis": {
            "backgroundcolor": "#E5ECF6",
            "gridcolor": "white",
            "gridwidth": 2,
            "linecolor": "white",
            "showbackground": true,
            "ticks": "",
            "zerolinecolor": "white"
           },
           "yaxis": {
            "backgroundcolor": "#E5ECF6",
            "gridcolor": "white",
            "gridwidth": 2,
            "linecolor": "white",
            "showbackground": true,
            "ticks": "",
            "zerolinecolor": "white"
           },
           "zaxis": {
            "backgroundcolor": "#E5ECF6",
            "gridcolor": "white",
            "gridwidth": 2,
            "linecolor": "white",
            "showbackground": true,
            "ticks": "",
            "zerolinecolor": "white"
           }
          },
          "shapedefaults": {
           "line": {
            "color": "#2a3f5f"
           }
          },
          "ternary": {
           "aaxis": {
            "gridcolor": "white",
            "linecolor": "white",
            "ticks": ""
           },
           "baxis": {
            "gridcolor": "white",
            "linecolor": "white",
            "ticks": ""
           },
           "bgcolor": "#E5ECF6",
           "caxis": {
            "gridcolor": "white",
            "linecolor": "white",
            "ticks": ""
           }
          },
          "title": {
           "x": 0.05
          },
          "xaxis": {
           "automargin": true,
           "gridcolor": "white",
           "linecolor": "white",
           "ticks": "",
           "title": {
            "standoff": 15
           },
           "zerolinecolor": "white",
           "zerolinewidth": 2
          },
          "yaxis": {
           "automargin": true,
           "gridcolor": "white",
           "linecolor": "white",
           "ticks": "",
           "title": {
            "standoff": 15
           },
           "zerolinecolor": "white",
           "zerolinewidth": 2
          }
         }
        },
        "title": {
         "text": "Call Hours Count"
        },
        "xaxis": {
         "tickvals": [
          0,
          1,
          2,
          3,
          4,
          5,
          6,
          7,
          8,
          9,
          10,
          11,
          12,
          13,
          14,
          15,
          16,
          17,
          18,
          19,
          20,
          21,
          22,
          23,
          24
         ],
         "title": {
          "text": "Hour of Day"
         }
        },
        "yaxis": {
         "title": {
          "text": "Count"
         }
        }
       }
      }
     },
     "metadata": {},
     "output_type": "display_data"
    }
   ],
   "source": [
    "# Assuming 'Time' is already in timestamp format\n",
    "df1['Hour'] = df1['Time'].dt.hour\n",
    "\n",
    "# Create a line chart with Plotly graph_objects\n",
    "fig = go.Figure()\n",
    "\n",
    "fig.add_trace(go.Scatter(\n",
    "    x=df1['Hour'].value_counts().sort_index().index,\n",
    "    y=df1['Hour'].value_counts().sort_index().values,\n",
    "    mode='lines+markers',\n",
    "    line=dict(color='green'),\n",
    "    marker=dict(color='green', size=8),\n",
    "    text=df1['Hour'].value_counts().sort_index().values,\n",
    "    textposition='top center',  # Adjust text position here\n",
    "))\n",
    "\n",
    "fig.update_layout(\n",
    "    title=\"Call Hours Count\",\n",
    "    xaxis_title=\"Hour of Day\",\n",
    "    yaxis_title=\"Count\",\n",
    "    xaxis=dict(tickvals=list(range(25))),\n",
    ")\n",
    "\n",
    "# Show the plot\n",
    "fig.show()\n"
   ]
  },
  {
   "cell_type": "code",
   "execution_count": 69,
   "metadata": {},
   "outputs": [
    {
     "data": {
      "text/html": [
       "<div>\n",
       "<style scoped>\n",
       "    .dataframe tbody tr th:only-of-type {\n",
       "        vertical-align: middle;\n",
       "    }\n",
       "\n",
       "    .dataframe tbody tr th {\n",
       "        vertical-align: top;\n",
       "    }\n",
       "\n",
       "    .dataframe thead th {\n",
       "        text-align: right;\n",
       "    }\n",
       "</style>\n",
       "<table border=\"1\" class=\"dataframe\">\n",
       "  <thead>\n",
       "    <tr style=\"text-align: right;\">\n",
       "      <th></th>\n",
       "      <th>Time</th>\n",
       "      <th>Caller Name</th>\n",
       "      <th>Callee Name</th>\n",
       "      <th>Call Duration</th>\n",
       "      <th>Talk Duration</th>\n",
       "      <th>Status</th>\n",
       "      <th>Communication Type</th>\n",
       "      <th>DayName</th>\n",
       "      <th>durationSecs</th>\n",
       "      <th>CallonMinutes</th>\n",
       "      <th>TalkonSecs</th>\n",
       "      <th>TalkonMinutes</th>\n",
       "      <th>Date</th>\n",
       "      <th>MonthName</th>\n",
       "      <th>Hour</th>\n",
       "    </tr>\n",
       "  </thead>\n",
       "  <tbody>\n",
       "    <tr>\n",
       "      <th>0</th>\n",
       "      <td>2023-12-31 23:28:00</td>\n",
       "      <td>9.59402E+11</td>\n",
       "      <td>1018</td>\n",
       "      <td>00:02:27</td>\n",
       "      <td>00:02:23</td>\n",
       "      <td>ANSWERED</td>\n",
       "      <td>Inbound</td>\n",
       "      <td>Sunday</td>\n",
       "      <td>00:02:27</td>\n",
       "      <td>2.450000</td>\n",
       "      <td>00:02:23</td>\n",
       "      <td>2.383333</td>\n",
       "      <td>2023-12-31</td>\n",
       "      <td>December</td>\n",
       "      <td>23</td>\n",
       "    </tr>\n",
       "    <tr>\n",
       "      <th>1</th>\n",
       "      <td>2023-12-31 23:11:00</td>\n",
       "      <td>9783003653</td>\n",
       "      <td>1018</td>\n",
       "      <td>00:00:47</td>\n",
       "      <td>00:00:40</td>\n",
       "      <td>ANSWERED</td>\n",
       "      <td>Inbound</td>\n",
       "      <td>Sunday</td>\n",
       "      <td>00:00:47</td>\n",
       "      <td>0.783333</td>\n",
       "      <td>00:00:40</td>\n",
       "      <td>0.666667</td>\n",
       "      <td>2023-12-31</td>\n",
       "      <td>December</td>\n",
       "      <td>23</td>\n",
       "    </tr>\n",
       "    <tr>\n",
       "      <th>2</th>\n",
       "      <td>2023-12-31 21:44:00</td>\n",
       "      <td>9.59259E+11</td>\n",
       "      <td>1018</td>\n",
       "      <td>00:02:21</td>\n",
       "      <td>00:02:12</td>\n",
       "      <td>ANSWERED</td>\n",
       "      <td>Inbound</td>\n",
       "      <td>Sunday</td>\n",
       "      <td>00:02:21</td>\n",
       "      <td>2.350000</td>\n",
       "      <td>00:02:12</td>\n",
       "      <td>2.200000</td>\n",
       "      <td>2023-12-31</td>\n",
       "      <td>December</td>\n",
       "      <td>21</td>\n",
       "    </tr>\n",
       "    <tr>\n",
       "      <th>3</th>\n",
       "      <td>2023-12-31 21:37:00</td>\n",
       "      <td>9.59798E+11</td>\n",
       "      <td>1011</td>\n",
       "      <td>00:01:19</td>\n",
       "      <td>00:01:07</td>\n",
       "      <td>ANSWERED</td>\n",
       "      <td>Inbound</td>\n",
       "      <td>Sunday</td>\n",
       "      <td>00:01:19</td>\n",
       "      <td>1.316667</td>\n",
       "      <td>00:01:07</td>\n",
       "      <td>1.116667</td>\n",
       "      <td>2023-12-31</td>\n",
       "      <td>December</td>\n",
       "      <td>21</td>\n",
       "    </tr>\n",
       "    <tr>\n",
       "      <th>4</th>\n",
       "      <td>2023-12-31 21:25:00</td>\n",
       "      <td>9.59421E+11</td>\n",
       "      <td>1018</td>\n",
       "      <td>00:01:16</td>\n",
       "      <td>00:00:52</td>\n",
       "      <td>ANSWERED</td>\n",
       "      <td>Inbound</td>\n",
       "      <td>Sunday</td>\n",
       "      <td>00:01:16</td>\n",
       "      <td>1.266667</td>\n",
       "      <td>00:00:52</td>\n",
       "      <td>0.866667</td>\n",
       "      <td>2023-12-31</td>\n",
       "      <td>December</td>\n",
       "      <td>21</td>\n",
       "    </tr>\n",
       "  </tbody>\n",
       "</table>\n",
       "</div>"
      ],
      "text/plain": [
       "                 Time  Caller Name Callee Name Call Duration Talk Duration  \\\n",
       "0 2023-12-31 23:28:00  9.59402E+11        1018      00:02:27      00:02:23   \n",
       "1 2023-12-31 23:11:00   9783003653        1018      00:00:47      00:00:40   \n",
       "2 2023-12-31 21:44:00  9.59259E+11        1018      00:02:21      00:02:12   \n",
       "3 2023-12-31 21:37:00  9.59798E+11        1011      00:01:19      00:01:07   \n",
       "4 2023-12-31 21:25:00  9.59421E+11        1018      00:01:16      00:00:52   \n",
       "\n",
       "     Status Communication Type DayName durationSecs  CallonMinutes TalkonSecs  \\\n",
       "0  ANSWERED            Inbound  Sunday     00:02:27       2.450000   00:02:23   \n",
       "1  ANSWERED            Inbound  Sunday     00:00:47       0.783333   00:00:40   \n",
       "2  ANSWERED            Inbound  Sunday     00:02:21       2.350000   00:02:12   \n",
       "3  ANSWERED            Inbound  Sunday     00:01:19       1.316667   00:01:07   \n",
       "4  ANSWERED            Inbound  Sunday     00:01:16       1.266667   00:00:52   \n",
       "\n",
       "   TalkonMinutes        Date MonthName  Hour  \n",
       "0       2.383333  2023-12-31  December    23  \n",
       "1       0.666667  2023-12-31  December    23  \n",
       "2       2.200000  2023-12-31  December    21  \n",
       "3       1.116667  2023-12-31  December    21  \n",
       "4       0.866667  2023-12-31  December    21  "
      ]
     },
     "execution_count": 69,
     "metadata": {},
     "output_type": "execute_result"
    }
   ],
   "source": [
    "df1.head()"
   ]
  },
  {
   "cell_type": "code",
   "execution_count": 98,
   "metadata": {},
   "outputs": [
    {
     "data": {
      "application/vnd.plotly.v1+json": {
       "config": {
        "plotlyServerURL": "https://plot.ly"
       },
       "data": [
        {
         "line": {
          "color": "green"
         },
         "marker": {
          "color": "green",
          "size": 8
         },
         "mode": "lines+markers",
         "text": [
          879,
          542,
          411,
          324,
          307,
          434,
          1390,
          2624,
          3821,
          8052,
          13128,
          12298,
          8264,
          10238,
          9646,
          9586,
          8756,
          5636,
          6026,
          5437,
          4889,
          3592,
          2211,
          1366
         ],
         "textposition": "top center",
         "type": "scatter",
         "x": [
          "Monday",
          "Tuesday",
          "Wednesday",
          "Thursday",
          "Friday",
          "Saturday",
          "Sunday"
         ],
         "y": [
          18160,
          17850,
          16826,
          17185,
          17245,
          16002,
          16589
         ]
        }
       ],
       "layout": {
        "template": {
         "data": {
          "bar": [
           {
            "error_x": {
             "color": "#2a3f5f"
            },
            "error_y": {
             "color": "#2a3f5f"
            },
            "marker": {
             "line": {
              "color": "#E5ECF6",
              "width": 0.5
             },
             "pattern": {
              "fillmode": "overlay",
              "size": 10,
              "solidity": 0.2
             }
            },
            "type": "bar"
           }
          ],
          "barpolar": [
           {
            "marker": {
             "line": {
              "color": "#E5ECF6",
              "width": 0.5
             },
             "pattern": {
              "fillmode": "overlay",
              "size": 10,
              "solidity": 0.2
             }
            },
            "type": "barpolar"
           }
          ],
          "carpet": [
           {
            "aaxis": {
             "endlinecolor": "#2a3f5f",
             "gridcolor": "white",
             "linecolor": "white",
             "minorgridcolor": "white",
             "startlinecolor": "#2a3f5f"
            },
            "baxis": {
             "endlinecolor": "#2a3f5f",
             "gridcolor": "white",
             "linecolor": "white",
             "minorgridcolor": "white",
             "startlinecolor": "#2a3f5f"
            },
            "type": "carpet"
           }
          ],
          "choropleth": [
           {
            "colorbar": {
             "outlinewidth": 0,
             "ticks": ""
            },
            "type": "choropleth"
           }
          ],
          "contour": [
           {
            "colorbar": {
             "outlinewidth": 0,
             "ticks": ""
            },
            "colorscale": [
             [
              0,
              "#0d0887"
             ],
             [
              0.1111111111111111,
              "#46039f"
             ],
             [
              0.2222222222222222,
              "#7201a8"
             ],
             [
              0.3333333333333333,
              "#9c179e"
             ],
             [
              0.4444444444444444,
              "#bd3786"
             ],
             [
              0.5555555555555556,
              "#d8576b"
             ],
             [
              0.6666666666666666,
              "#ed7953"
             ],
             [
              0.7777777777777778,
              "#fb9f3a"
             ],
             [
              0.8888888888888888,
              "#fdca26"
             ],
             [
              1,
              "#f0f921"
             ]
            ],
            "type": "contour"
           }
          ],
          "contourcarpet": [
           {
            "colorbar": {
             "outlinewidth": 0,
             "ticks": ""
            },
            "type": "contourcarpet"
           }
          ],
          "heatmap": [
           {
            "colorbar": {
             "outlinewidth": 0,
             "ticks": ""
            },
            "colorscale": [
             [
              0,
              "#0d0887"
             ],
             [
              0.1111111111111111,
              "#46039f"
             ],
             [
              0.2222222222222222,
              "#7201a8"
             ],
             [
              0.3333333333333333,
              "#9c179e"
             ],
             [
              0.4444444444444444,
              "#bd3786"
             ],
             [
              0.5555555555555556,
              "#d8576b"
             ],
             [
              0.6666666666666666,
              "#ed7953"
             ],
             [
              0.7777777777777778,
              "#fb9f3a"
             ],
             [
              0.8888888888888888,
              "#fdca26"
             ],
             [
              1,
              "#f0f921"
             ]
            ],
            "type": "heatmap"
           }
          ],
          "heatmapgl": [
           {
            "colorbar": {
             "outlinewidth": 0,
             "ticks": ""
            },
            "colorscale": [
             [
              0,
              "#0d0887"
             ],
             [
              0.1111111111111111,
              "#46039f"
             ],
             [
              0.2222222222222222,
              "#7201a8"
             ],
             [
              0.3333333333333333,
              "#9c179e"
             ],
             [
              0.4444444444444444,
              "#bd3786"
             ],
             [
              0.5555555555555556,
              "#d8576b"
             ],
             [
              0.6666666666666666,
              "#ed7953"
             ],
             [
              0.7777777777777778,
              "#fb9f3a"
             ],
             [
              0.8888888888888888,
              "#fdca26"
             ],
             [
              1,
              "#f0f921"
             ]
            ],
            "type": "heatmapgl"
           }
          ],
          "histogram": [
           {
            "marker": {
             "pattern": {
              "fillmode": "overlay",
              "size": 10,
              "solidity": 0.2
             }
            },
            "type": "histogram"
           }
          ],
          "histogram2d": [
           {
            "colorbar": {
             "outlinewidth": 0,
             "ticks": ""
            },
            "colorscale": [
             [
              0,
              "#0d0887"
             ],
             [
              0.1111111111111111,
              "#46039f"
             ],
             [
              0.2222222222222222,
              "#7201a8"
             ],
             [
              0.3333333333333333,
              "#9c179e"
             ],
             [
              0.4444444444444444,
              "#bd3786"
             ],
             [
              0.5555555555555556,
              "#d8576b"
             ],
             [
              0.6666666666666666,
              "#ed7953"
             ],
             [
              0.7777777777777778,
              "#fb9f3a"
             ],
             [
              0.8888888888888888,
              "#fdca26"
             ],
             [
              1,
              "#f0f921"
             ]
            ],
            "type": "histogram2d"
           }
          ],
          "histogram2dcontour": [
           {
            "colorbar": {
             "outlinewidth": 0,
             "ticks": ""
            },
            "colorscale": [
             [
              0,
              "#0d0887"
             ],
             [
              0.1111111111111111,
              "#46039f"
             ],
             [
              0.2222222222222222,
              "#7201a8"
             ],
             [
              0.3333333333333333,
              "#9c179e"
             ],
             [
              0.4444444444444444,
              "#bd3786"
             ],
             [
              0.5555555555555556,
              "#d8576b"
             ],
             [
              0.6666666666666666,
              "#ed7953"
             ],
             [
              0.7777777777777778,
              "#fb9f3a"
             ],
             [
              0.8888888888888888,
              "#fdca26"
             ],
             [
              1,
              "#f0f921"
             ]
            ],
            "type": "histogram2dcontour"
           }
          ],
          "mesh3d": [
           {
            "colorbar": {
             "outlinewidth": 0,
             "ticks": ""
            },
            "type": "mesh3d"
           }
          ],
          "parcoords": [
           {
            "line": {
             "colorbar": {
              "outlinewidth": 0,
              "ticks": ""
             }
            },
            "type": "parcoords"
           }
          ],
          "pie": [
           {
            "automargin": true,
            "type": "pie"
           }
          ],
          "scatter": [
           {
            "fillpattern": {
             "fillmode": "overlay",
             "size": 10,
             "solidity": 0.2
            },
            "type": "scatter"
           }
          ],
          "scatter3d": [
           {
            "line": {
             "colorbar": {
              "outlinewidth": 0,
              "ticks": ""
             }
            },
            "marker": {
             "colorbar": {
              "outlinewidth": 0,
              "ticks": ""
             }
            },
            "type": "scatter3d"
           }
          ],
          "scattercarpet": [
           {
            "marker": {
             "colorbar": {
              "outlinewidth": 0,
              "ticks": ""
             }
            },
            "type": "scattercarpet"
           }
          ],
          "scattergeo": [
           {
            "marker": {
             "colorbar": {
              "outlinewidth": 0,
              "ticks": ""
             }
            },
            "type": "scattergeo"
           }
          ],
          "scattergl": [
           {
            "marker": {
             "colorbar": {
              "outlinewidth": 0,
              "ticks": ""
             }
            },
            "type": "scattergl"
           }
          ],
          "scattermapbox": [
           {
            "marker": {
             "colorbar": {
              "outlinewidth": 0,
              "ticks": ""
             }
            },
            "type": "scattermapbox"
           }
          ],
          "scatterpolar": [
           {
            "marker": {
             "colorbar": {
              "outlinewidth": 0,
              "ticks": ""
             }
            },
            "type": "scatterpolar"
           }
          ],
          "scatterpolargl": [
           {
            "marker": {
             "colorbar": {
              "outlinewidth": 0,
              "ticks": ""
             }
            },
            "type": "scatterpolargl"
           }
          ],
          "scatterternary": [
           {
            "marker": {
             "colorbar": {
              "outlinewidth": 0,
              "ticks": ""
             }
            },
            "type": "scatterternary"
           }
          ],
          "surface": [
           {
            "colorbar": {
             "outlinewidth": 0,
             "ticks": ""
            },
            "colorscale": [
             [
              0,
              "#0d0887"
             ],
             [
              0.1111111111111111,
              "#46039f"
             ],
             [
              0.2222222222222222,
              "#7201a8"
             ],
             [
              0.3333333333333333,
              "#9c179e"
             ],
             [
              0.4444444444444444,
              "#bd3786"
             ],
             [
              0.5555555555555556,
              "#d8576b"
             ],
             [
              0.6666666666666666,
              "#ed7953"
             ],
             [
              0.7777777777777778,
              "#fb9f3a"
             ],
             [
              0.8888888888888888,
              "#fdca26"
             ],
             [
              1,
              "#f0f921"
             ]
            ],
            "type": "surface"
           }
          ],
          "table": [
           {
            "cells": {
             "fill": {
              "color": "#EBF0F8"
             },
             "line": {
              "color": "white"
             }
            },
            "header": {
             "fill": {
              "color": "#C8D4E3"
             },
             "line": {
              "color": "white"
             }
            },
            "type": "table"
           }
          ]
         },
         "layout": {
          "annotationdefaults": {
           "arrowcolor": "#2a3f5f",
           "arrowhead": 0,
           "arrowwidth": 1
          },
          "autotypenumbers": "strict",
          "coloraxis": {
           "colorbar": {
            "outlinewidth": 0,
            "ticks": ""
           }
          },
          "colorscale": {
           "diverging": [
            [
             0,
             "#8e0152"
            ],
            [
             0.1,
             "#c51b7d"
            ],
            [
             0.2,
             "#de77ae"
            ],
            [
             0.3,
             "#f1b6da"
            ],
            [
             0.4,
             "#fde0ef"
            ],
            [
             0.5,
             "#f7f7f7"
            ],
            [
             0.6,
             "#e6f5d0"
            ],
            [
             0.7,
             "#b8e186"
            ],
            [
             0.8,
             "#7fbc41"
            ],
            [
             0.9,
             "#4d9221"
            ],
            [
             1,
             "#276419"
            ]
           ],
           "sequential": [
            [
             0,
             "#0d0887"
            ],
            [
             0.1111111111111111,
             "#46039f"
            ],
            [
             0.2222222222222222,
             "#7201a8"
            ],
            [
             0.3333333333333333,
             "#9c179e"
            ],
            [
             0.4444444444444444,
             "#bd3786"
            ],
            [
             0.5555555555555556,
             "#d8576b"
            ],
            [
             0.6666666666666666,
             "#ed7953"
            ],
            [
             0.7777777777777778,
             "#fb9f3a"
            ],
            [
             0.8888888888888888,
             "#fdca26"
            ],
            [
             1,
             "#f0f921"
            ]
           ],
           "sequentialminus": [
            [
             0,
             "#0d0887"
            ],
            [
             0.1111111111111111,
             "#46039f"
            ],
            [
             0.2222222222222222,
             "#7201a8"
            ],
            [
             0.3333333333333333,
             "#9c179e"
            ],
            [
             0.4444444444444444,
             "#bd3786"
            ],
            [
             0.5555555555555556,
             "#d8576b"
            ],
            [
             0.6666666666666666,
             "#ed7953"
            ],
            [
             0.7777777777777778,
             "#fb9f3a"
            ],
            [
             0.8888888888888888,
             "#fdca26"
            ],
            [
             1,
             "#f0f921"
            ]
           ]
          },
          "colorway": [
           "#636efa",
           "#EF553B",
           "#00cc96",
           "#ab63fa",
           "#FFA15A",
           "#19d3f3",
           "#FF6692",
           "#B6E880",
           "#FF97FF",
           "#FECB52"
          ],
          "font": {
           "color": "#2a3f5f"
          },
          "geo": {
           "bgcolor": "white",
           "lakecolor": "white",
           "landcolor": "#E5ECF6",
           "showlakes": true,
           "showland": true,
           "subunitcolor": "white"
          },
          "hoverlabel": {
           "align": "left"
          },
          "hovermode": "closest",
          "mapbox": {
           "style": "light"
          },
          "paper_bgcolor": "white",
          "plot_bgcolor": "#E5ECF6",
          "polar": {
           "angularaxis": {
            "gridcolor": "white",
            "linecolor": "white",
            "ticks": ""
           },
           "bgcolor": "#E5ECF6",
           "radialaxis": {
            "gridcolor": "white",
            "linecolor": "white",
            "ticks": ""
           }
          },
          "scene": {
           "xaxis": {
            "backgroundcolor": "#E5ECF6",
            "gridcolor": "white",
            "gridwidth": 2,
            "linecolor": "white",
            "showbackground": true,
            "ticks": "",
            "zerolinecolor": "white"
           },
           "yaxis": {
            "backgroundcolor": "#E5ECF6",
            "gridcolor": "white",
            "gridwidth": 2,
            "linecolor": "white",
            "showbackground": true,
            "ticks": "",
            "zerolinecolor": "white"
           },
           "zaxis": {
            "backgroundcolor": "#E5ECF6",
            "gridcolor": "white",
            "gridwidth": 2,
            "linecolor": "white",
            "showbackground": true,
            "ticks": "",
            "zerolinecolor": "white"
           }
          },
          "shapedefaults": {
           "line": {
            "color": "#2a3f5f"
           }
          },
          "ternary": {
           "aaxis": {
            "gridcolor": "white",
            "linecolor": "white",
            "ticks": ""
           },
           "baxis": {
            "gridcolor": "white",
            "linecolor": "white",
            "ticks": ""
           },
           "bgcolor": "#E5ECF6",
           "caxis": {
            "gridcolor": "white",
            "linecolor": "white",
            "ticks": ""
           }
          },
          "title": {
           "x": 0.05
          },
          "xaxis": {
           "automargin": true,
           "gridcolor": "white",
           "linecolor": "white",
           "ticks": "",
           "title": {
            "standoff": 15
           },
           "zerolinecolor": "white",
           "zerolinewidth": 2
          },
          "yaxis": {
           "automargin": true,
           "gridcolor": "white",
           "linecolor": "white",
           "ticks": "",
           "title": {
            "standoff": 15
           },
           "zerolinecolor": "white",
           "zerolinewidth": 2
          }
         }
        },
        "title": {
         "text": "Call Days Count"
        },
        "xaxis": {
         "tickvals": [
          0,
          1,
          2,
          3,
          4,
          5,
          6
         ],
         "title": {
          "text": "Day"
         }
        },
        "yaxis": {
         "title": {
          "text": "Count"
         }
        }
       }
      }
     },
     "metadata": {},
     "output_type": "display_data"
    }
   ],
   "source": [
    "# Filter DataFrame to include all days\n",
    "df_all_days = df1[df1['DayName'].isin(['Monday', 'Tuesday', 'Wednesday', 'Thursday', 'Friday', 'Saturday', 'Sunday'])]\n",
    "\n",
    "# Set 'DayName' to a categorical type with custom order\n",
    "custom_order = ['Monday', 'Tuesday', 'Wednesday', 'Thursday', 'Friday', 'Saturday', 'Sunday']\n",
    "df_all_days['DayName'] = pd.Categorical(df_all_days['DayName'], categories=custom_order, ordered=True)\n",
    "\n",
    "# Create a line chart with Plotly graph_objects\n",
    "fig = go.Figure()\n",
    "\n",
    "fig.add_trace(go.Scatter(\n",
    "    x=df_all_days['DayName'].value_counts().sort_index().index,\n",
    "    y=df_all_days['DayName'].value_counts().sort_index().values,\n",
    "    mode='lines+markers',\n",
    "    line=dict(color='green'),\n",
    "    marker=dict(color='green', size=8),\n",
    "    text=df_all_days['Hour'].value_counts().sort_index().values,\n",
    "    textposition='top center',  # Adjust text position here\n",
    "))\n",
    "\n",
    "fig.update_layout(\n",
    "    title=\"Call Days Count\",\n",
    "    xaxis_title=\"Day\",\n",
    "    yaxis_title=\"Count\",\n",
    "    xaxis=dict(tickvals=list(range(7))),\n",
    ")\n",
    "\n",
    "# Show the plot\n",
    "fig.show()"
   ]
  },
  {
   "cell_type": "code",
   "execution_count": 100,
   "metadata": {},
   "outputs": [
    {
     "data": {
      "text/html": [
       "<div>\n",
       "<style scoped>\n",
       "    .dataframe tbody tr th:only-of-type {\n",
       "        vertical-align: middle;\n",
       "    }\n",
       "\n",
       "    .dataframe tbody tr th {\n",
       "        vertical-align: top;\n",
       "    }\n",
       "\n",
       "    .dataframe thead th {\n",
       "        text-align: right;\n",
       "    }\n",
       "</style>\n",
       "<table border=\"1\" class=\"dataframe\">\n",
       "  <thead>\n",
       "    <tr style=\"text-align: right;\">\n",
       "      <th></th>\n",
       "      <th>Time</th>\n",
       "      <th>Caller Name</th>\n",
       "      <th>Callee Name</th>\n",
       "      <th>Call Duration</th>\n",
       "      <th>Talk Duration</th>\n",
       "      <th>Status</th>\n",
       "      <th>Communication Type</th>\n",
       "      <th>DayName</th>\n",
       "      <th>durationSecs</th>\n",
       "      <th>CallonMinutes</th>\n",
       "      <th>TalkonSecs</th>\n",
       "      <th>TalkonMinutes</th>\n",
       "      <th>Date</th>\n",
       "      <th>MonthName</th>\n",
       "      <th>Hour</th>\n",
       "    </tr>\n",
       "  </thead>\n",
       "  <tbody>\n",
       "    <tr>\n",
       "      <th>0</th>\n",
       "      <td>2023-12-31 23:28:00</td>\n",
       "      <td>9.59402E+11</td>\n",
       "      <td>1018</td>\n",
       "      <td>00:02:27</td>\n",
       "      <td>00:02:23</td>\n",
       "      <td>ANSWERED</td>\n",
       "      <td>Inbound</td>\n",
       "      <td>Sunday</td>\n",
       "      <td>00:02:27</td>\n",
       "      <td>2.450000</td>\n",
       "      <td>00:02:23</td>\n",
       "      <td>2.383333</td>\n",
       "      <td>2023-12-31</td>\n",
       "      <td>December</td>\n",
       "      <td>23</td>\n",
       "    </tr>\n",
       "    <tr>\n",
       "      <th>1</th>\n",
       "      <td>2023-12-31 23:11:00</td>\n",
       "      <td>9783003653</td>\n",
       "      <td>1018</td>\n",
       "      <td>00:00:47</td>\n",
       "      <td>00:00:40</td>\n",
       "      <td>ANSWERED</td>\n",
       "      <td>Inbound</td>\n",
       "      <td>Sunday</td>\n",
       "      <td>00:00:47</td>\n",
       "      <td>0.783333</td>\n",
       "      <td>00:00:40</td>\n",
       "      <td>0.666667</td>\n",
       "      <td>2023-12-31</td>\n",
       "      <td>December</td>\n",
       "      <td>23</td>\n",
       "    </tr>\n",
       "    <tr>\n",
       "      <th>2</th>\n",
       "      <td>2023-12-31 21:44:00</td>\n",
       "      <td>9.59259E+11</td>\n",
       "      <td>1018</td>\n",
       "      <td>00:02:21</td>\n",
       "      <td>00:02:12</td>\n",
       "      <td>ANSWERED</td>\n",
       "      <td>Inbound</td>\n",
       "      <td>Sunday</td>\n",
       "      <td>00:02:21</td>\n",
       "      <td>2.350000</td>\n",
       "      <td>00:02:12</td>\n",
       "      <td>2.200000</td>\n",
       "      <td>2023-12-31</td>\n",
       "      <td>December</td>\n",
       "      <td>21</td>\n",
       "    </tr>\n",
       "    <tr>\n",
       "      <th>3</th>\n",
       "      <td>2023-12-31 21:37:00</td>\n",
       "      <td>9.59798E+11</td>\n",
       "      <td>1011</td>\n",
       "      <td>00:01:19</td>\n",
       "      <td>00:01:07</td>\n",
       "      <td>ANSWERED</td>\n",
       "      <td>Inbound</td>\n",
       "      <td>Sunday</td>\n",
       "      <td>00:01:19</td>\n",
       "      <td>1.316667</td>\n",
       "      <td>00:01:07</td>\n",
       "      <td>1.116667</td>\n",
       "      <td>2023-12-31</td>\n",
       "      <td>December</td>\n",
       "      <td>21</td>\n",
       "    </tr>\n",
       "    <tr>\n",
       "      <th>4</th>\n",
       "      <td>2023-12-31 21:25:00</td>\n",
       "      <td>9.59421E+11</td>\n",
       "      <td>1018</td>\n",
       "      <td>00:01:16</td>\n",
       "      <td>00:00:52</td>\n",
       "      <td>ANSWERED</td>\n",
       "      <td>Inbound</td>\n",
       "      <td>Sunday</td>\n",
       "      <td>00:01:16</td>\n",
       "      <td>1.266667</td>\n",
       "      <td>00:00:52</td>\n",
       "      <td>0.866667</td>\n",
       "      <td>2023-12-31</td>\n",
       "      <td>December</td>\n",
       "      <td>21</td>\n",
       "    </tr>\n",
       "  </tbody>\n",
       "</table>\n",
       "</div>"
      ],
      "text/plain": [
       "                 Time  Caller Name Callee Name Call Duration Talk Duration  \\\n",
       "0 2023-12-31 23:28:00  9.59402E+11        1018      00:02:27      00:02:23   \n",
       "1 2023-12-31 23:11:00   9783003653        1018      00:00:47      00:00:40   \n",
       "2 2023-12-31 21:44:00  9.59259E+11        1018      00:02:21      00:02:12   \n",
       "3 2023-12-31 21:37:00  9.59798E+11        1011      00:01:19      00:01:07   \n",
       "4 2023-12-31 21:25:00  9.59421E+11        1018      00:01:16      00:00:52   \n",
       "\n",
       "     Status Communication Type DayName durationSecs  CallonMinutes TalkonSecs  \\\n",
       "0  ANSWERED            Inbound  Sunday     00:02:27       2.450000   00:02:23   \n",
       "1  ANSWERED            Inbound  Sunday     00:00:47       0.783333   00:00:40   \n",
       "2  ANSWERED            Inbound  Sunday     00:02:21       2.350000   00:02:12   \n",
       "3  ANSWERED            Inbound  Sunday     00:01:19       1.316667   00:01:07   \n",
       "4  ANSWERED            Inbound  Sunday     00:01:16       1.266667   00:00:52   \n",
       "\n",
       "   TalkonMinutes        Date MonthName  Hour  \n",
       "0       2.383333  2023-12-31  December    23  \n",
       "1       0.666667  2023-12-31  December    23  \n",
       "2       2.200000  2023-12-31  December    21  \n",
       "3       1.116667  2023-12-31  December    21  \n",
       "4       0.866667  2023-12-31  December    21  "
      ]
     },
     "execution_count": 100,
     "metadata": {},
     "output_type": "execute_result"
    }
   ],
   "source": [
    "df1.head()"
   ]
  },
  {
   "cell_type": "code",
   "execution_count": 116,
   "metadata": {},
   "outputs": [
    {
     "data": {
      "text/plain": [
       "Index(['Time', 'Caller Name', 'Callee Name', 'Call Duration', 'Talk Duration',\n",
       "       'Status', 'Communication Type', 'DayName', 'durationSecs',\n",
       "       'CallonMinutes', 'TalkonSecs', 'TalkonMinutes', 'Date', 'MonthName',\n",
       "       'Hour'],\n",
       "      dtype='object')"
      ]
     },
     "execution_count": 116,
     "metadata": {},
     "output_type": "execute_result"
    }
   ],
   "source": [
    "df1.columns"
   ]
  },
  {
   "cell_type": "code",
   "execution_count": 131,
   "metadata": {},
   "outputs": [
    {
     "data": {
      "application/vnd.plotly.v1+json": {
       "config": {
        "plotlyServerURL": "https://plot.ly"
       },
       "data": [
        {
         "alignmentgroup": "True",
         "bingroup": "x",
         "hovertemplate": "TalkonMinutes=%{x}<br>count=%{y}<extra></extra>",
         "legendgroup": "",
         "marker": {
          "color": "#636efa",
          "pattern": {
           "shape": ""
          }
         },
         "name": "",
         "nbinsx": 100,
         "offsetgroup": "",
         "orientation": "v",
         "showlegend": false,
         "type": "histogram",
         "x": [
          0,
          0.016666666666666666,
          0.03333333333333333,
          0.05,
          0.06666666666666667,
          0.08333333333333333,
          0.1,
          0.11666666666666667,
          0.13333333333333333,
          0.15,
          0.16666666666666666,
          0.18333333333333332,
          0.2,
          0.21666666666666667,
          0.23333333333333334,
          0.25,
          0.26666666666666666,
          0.2833333333333333,
          0.3,
          0.31666666666666665,
          0.3333333333333333,
          0.35,
          0.36666666666666664,
          0.38333333333333336,
          0.4,
          0.4166666666666667,
          0.43333333333333335,
          0.45,
          0.4666666666666667,
          0.48333333333333334,
          0.5,
          0.5166666666666667,
          0.5333333333333333,
          0.55,
          0.5666666666666667,
          0.5833333333333334,
          0.6,
          0.6166666666666667,
          0.6333333333333333,
          0.65,
          0.6666666666666666,
          0.6833333333333333,
          0.7,
          0.7166666666666667,
          0.7333333333333333,
          0.75,
          0.7666666666666667,
          0.7833333333333333,
          0.8,
          0.8166666666666667,
          0.8333333333333334,
          0.85,
          0.8666666666666667,
          0.8833333333333333,
          0.9,
          0.9166666666666666,
          0.9333333333333333,
          0.95,
          0.9666666666666667,
          0.9833333333333333,
          1,
          1.0166666666666666,
          1.0333333333333334,
          1.05,
          1.0666666666666667,
          1.0833333333333333,
          1.1,
          1.1166666666666667,
          1.1333333333333333,
          1.15,
          1.1666666666666667,
          1.1833333333333333,
          1.2,
          1.2166666666666668,
          1.2333333333333334,
          1.25,
          1.2666666666666666,
          1.2833333333333332,
          1.3,
          1.3166666666666667,
          1.3333333333333333,
          1.35,
          1.3666666666666667,
          1.3833333333333333,
          1.4,
          1.4166666666666667,
          1.4333333333333333,
          1.45,
          1.4666666666666668,
          1.4833333333333334,
          1.5,
          1.5166666666666666,
          1.5333333333333332,
          1.55,
          1.5666666666666667,
          1.5833333333333335,
          1.6,
          1.6166666666666667,
          1.6333333333333333,
          1.65,
          1.6666666666666665,
          1.6833333333333333,
          1.7,
          1.7166666666666668,
          1.7333333333333334,
          1.75,
          1.7666666666666666,
          1.7833333333333332,
          1.8,
          1.8166666666666667,
          1.8333333333333335,
          1.85,
          1.8666666666666667,
          1.8833333333333333,
          1.9,
          1.9166666666666665,
          1.9333333333333333,
          1.95,
          1.9666666666666668,
          1.9833333333333334,
          2,
          2.0166666666666666,
          2.033333333333333,
          2.05,
          2.066666666666667,
          2.0833333333333335,
          2.1,
          2.1166666666666667,
          2.1333333333333333,
          2.15,
          2.1666666666666665,
          2.183333333333333,
          2.2,
          2.216666666666667,
          2.2333333333333334,
          2.25,
          2.2666666666666666,
          2.283333333333333,
          2.3,
          2.3166666666666664,
          2.3333333333333335,
          2.35,
          2.3666666666666667,
          2.3833333333333333,
          2.4,
          2.4166666666666665,
          2.4333333333333336,
          2.45,
          2.466666666666667,
          2.4833333333333334,
          2.5,
          2.5166666666666666,
          2.533333333333333,
          2.55,
          2.5666666666666664,
          2.5833333333333335,
          2.6,
          2.6166666666666667,
          2.6333333333333333,
          2.65,
          2.6666666666666665,
          2.6833333333333336,
          2.7,
          2.716666666666667,
          2.7333333333333334,
          2.75,
          2.7666666666666666,
          2.783333333333333,
          2.8,
          2.8166666666666664,
          2.8333333333333335,
          2.85,
          2.8666666666666667,
          2.8833333333333333,
          2.9,
          2.9166666666666665,
          2.9333333333333336,
          2.95,
          2.966666666666667,
          2.9833333333333334,
          3,
          3.0166666666666666,
          3.033333333333333,
          3.05,
          3.066666666666667,
          3.0833333333333335,
          3.1,
          3.1166666666666667,
          3.1333333333333333,
          3.15,
          3.1666666666666665,
          3.183333333333333,
          3.2,
          3.216666666666667,
          3.2333333333333334,
          3.25,
          3.2666666666666666,
          3.283333333333333,
          3.3,
          3.3166666666666664,
          3.3333333333333335,
          3.35,
          3.3666666666666667,
          3.3833333333333333,
          3.4,
          3.4166666666666665,
          3.4333333333333336,
          3.45,
          3.466666666666667,
          3.4833333333333334,
          3.5,
          3.5166666666666666,
          3.533333333333333,
          3.55,
          3.5666666666666664,
          3.5833333333333335,
          3.6,
          3.6166666666666667,
          3.6333333333333333,
          3.65,
          3.6666666666666665,
          3.6833333333333336,
          3.7,
          3.716666666666667,
          3.7333333333333334,
          3.75,
          3.7666666666666666,
          3.783333333333333,
          3.8,
          3.8166666666666664,
          3.8333333333333335,
          3.85,
          3.8666666666666667,
          3.8833333333333333,
          3.9,
          3.9166666666666665,
          3.9333333333333336,
          3.95,
          3.966666666666667,
          3.9833333333333334,
          4,
          4.016666666666667,
          4.033333333333333,
          4.05,
          4.066666666666666,
          4.083333333333333,
          4.1,
          4.116666666666666,
          4.133333333333334,
          4.15,
          4.166666666666667,
          4.183333333333334,
          4.2,
          4.216666666666667,
          4.233333333333333,
          4.25,
          4.266666666666667,
          4.283333333333333,
          4.3,
          4.316666666666666,
          4.333333333333333,
          4.35,
          4.366666666666666,
          4.383333333333334,
          4.4,
          4.416666666666667,
          4.433333333333334,
          4.45,
          4.466666666666667,
          4.483333333333333,
          4.5,
          4.516666666666667,
          4.533333333333333,
          4.55,
          4.566666666666666,
          4.583333333333333,
          4.6,
          4.616666666666667,
          4.633333333333333,
          4.65,
          4.666666666666667,
          4.683333333333334,
          4.7,
          4.716666666666667,
          4.733333333333333,
          4.75,
          4.766666666666667,
          4.783333333333333,
          4.8,
          4.816666666666666,
          4.833333333333333,
          4.85,
          4.866666666666667,
          4.883333333333333,
          4.9,
          4.916666666666667,
          4.933333333333334,
          4.95,
          4.966666666666667,
          4.983333333333333,
          5,
          5.016666666666667,
          5.033333333333333,
          5.05,
          5.066666666666666,
          5.083333333333333,
          5.1,
          5.116666666666666,
          5.133333333333334,
          5.15,
          5.166666666666667,
          5.183333333333334,
          5.2,
          5.216666666666667,
          5.233333333333333,
          5.25,
          5.266666666666667,
          5.283333333333333,
          5.3,
          5.316666666666666,
          5.333333333333333,
          5.35,
          5.366666666666666,
          5.383333333333334,
          5.4,
          5.416666666666667,
          5.433333333333334,
          5.45,
          5.466666666666667,
          5.483333333333333,
          5.5,
          5.516666666666667,
          5.533333333333333,
          5.55,
          5.566666666666666,
          5.583333333333333,
          5.6,
          5.616666666666667,
          5.633333333333333,
          5.65,
          5.666666666666667,
          5.683333333333334,
          5.7,
          5.716666666666667,
          5.733333333333333,
          5.75,
          5.766666666666667,
          5.783333333333333,
          5.8,
          5.816666666666666,
          5.833333333333333,
          5.85,
          5.866666666666667,
          5.883333333333333,
          5.9,
          5.916666666666667,
          5.933333333333334,
          5.95,
          5.966666666666667,
          5.983333333333333,
          6,
          6.016666666666667,
          6.033333333333333,
          6.05,
          6.066666666666666,
          6.083333333333333,
          6.1,
          6.116666666666666,
          6.133333333333334,
          6.15,
          6.166666666666667,
          6.183333333333334,
          6.2,
          6.216666666666667,
          6.233333333333333,
          6.25,
          6.266666666666667,
          6.283333333333333,
          6.3,
          6.316666666666666,
          6.333333333333333,
          6.35,
          6.366666666666666,
          6.383333333333334,
          6.4,
          6.416666666666667,
          6.433333333333334,
          6.45,
          6.466666666666667,
          6.483333333333333,
          6.5,
          6.516666666666667,
          6.533333333333333,
          6.55,
          6.566666666666666,
          6.583333333333333,
          6.6,
          6.616666666666667,
          6.633333333333333,
          6.65,
          6.666666666666667,
          6.683333333333334,
          6.7,
          6.716666666666667,
          6.733333333333333,
          6.75,
          6.766666666666667,
          6.783333333333333,
          6.8,
          6.816666666666666,
          6.833333333333333,
          6.85,
          6.866666666666667,
          6.883333333333333,
          6.9,
          6.916666666666667,
          6.933333333333334,
          6.95,
          6.966666666666667,
          6.983333333333333,
          7,
          7.016666666666667,
          7.033333333333333,
          7.05,
          7.066666666666666,
          7.083333333333333,
          7.1,
          7.116666666666666,
          7.133333333333334,
          7.15,
          7.166666666666667,
          7.183333333333334,
          7.2,
          7.216666666666667,
          7.233333333333333,
          7.25,
          7.266666666666667,
          7.283333333333333,
          7.3,
          7.316666666666666,
          7.333333333333333,
          7.35,
          7.366666666666666,
          7.383333333333334,
          7.4,
          7.416666666666667,
          7.433333333333334,
          7.45,
          7.466666666666667,
          7.483333333333333,
          7.5,
          7.516666666666667,
          7.533333333333333,
          7.55,
          7.566666666666666,
          7.583333333333333,
          7.6,
          7.616666666666667,
          7.633333333333333,
          7.65,
          7.666666666666667,
          7.683333333333334,
          7.7,
          7.716666666666667,
          7.733333333333333,
          7.75,
          7.766666666666667,
          7.783333333333333,
          7.8,
          7.816666666666666,
          7.833333333333333,
          7.85,
          7.866666666666667,
          7.883333333333333,
          7.9,
          7.916666666666667,
          7.933333333333334,
          7.95,
          7.966666666666667,
          7.983333333333333,
          8,
          8.016666666666667,
          8.033333333333333,
          8.05,
          8.066666666666666,
          8.083333333333334,
          8.1,
          8.116666666666667,
          8.133333333333333,
          8.15,
          8.166666666666666,
          8.183333333333334,
          8.2,
          8.216666666666667,
          8.233333333333333,
          8.25,
          8.266666666666667,
          8.283333333333333,
          8.3,
          8.316666666666666,
          8.333333333333334,
          8.35,
          8.366666666666667,
          8.383333333333333,
          8.4,
          8.416666666666666,
          8.433333333333334,
          8.45,
          8.466666666666667,
          8.483333333333333,
          8.5,
          8.516666666666667,
          8.533333333333333,
          8.55,
          8.566666666666666,
          8.583333333333334,
          8.6,
          8.616666666666667,
          8.633333333333333,
          8.65,
          8.666666666666666,
          8.683333333333334,
          8.7,
          8.716666666666667,
          8.733333333333333,
          8.75,
          8.766666666666667,
          8.783333333333333,
          8.8,
          8.816666666666666,
          8.833333333333334,
          8.85,
          8.866666666666667,
          8.883333333333333,
          8.9,
          8.916666666666666,
          8.933333333333334,
          8.95,
          8.966666666666667,
          8.983333333333333,
          9,
          9.016666666666667,
          9.033333333333333,
          9.05,
          9.066666666666666,
          9.083333333333334,
          9.1,
          9.116666666666667,
          9.133333333333333,
          9.15,
          9.166666666666666,
          9.183333333333334,
          9.2,
          9.216666666666667,
          9.233333333333333,
          9.25,
          9.266666666666667,
          9.283333333333333,
          9.3,
          9.316666666666666,
          9.333333333333334,
          9.35,
          9.366666666666667,
          9.383333333333333,
          9.4,
          9.416666666666666,
          9.433333333333334,
          9.45,
          9.466666666666667,
          9.483333333333333,
          9.5,
          9.516666666666667,
          9.533333333333333,
          9.55,
          9.566666666666666,
          9.583333333333334,
          9.6,
          9.616666666666667,
          9.633333333333333,
          9.65,
          9.666666666666666,
          9.683333333333334,
          9.7,
          9.716666666666667,
          9.733333333333333,
          9.75,
          9.766666666666667,
          9.783333333333333,
          9.8,
          9.816666666666666,
          9.833333333333334,
          9.85,
          9.866666666666667,
          9.883333333333333,
          9.9,
          9.916666666666666,
          9.933333333333334,
          9.95,
          9.966666666666667,
          10,
          10.016666666666667,
          10.033333333333333,
          10.05,
          10.066666666666666,
          10.083333333333334,
          10.1,
          10.116666666666667,
          10.133333333333333,
          10.15,
          10.166666666666666,
          10.183333333333334,
          10.2,
          10.216666666666667,
          10.233333333333333,
          10.25,
          10.266666666666667,
          10.283333333333333,
          10.3,
          10.316666666666666,
          10.333333333333334,
          10.35,
          10.366666666666667,
          10.383333333333333,
          10.4,
          10.416666666666666,
          10.433333333333334,
          10.45,
          10.466666666666667,
          10.483333333333333,
          10.5,
          10.516666666666667,
          10.533333333333333,
          10.55,
          10.566666666666666,
          10.583333333333334,
          10.6,
          10.616666666666667,
          10.633333333333333,
          10.65,
          10.666666666666666,
          10.683333333333334,
          10.7,
          10.716666666666667,
          10.733333333333333,
          10.75,
          10.766666666666667,
          10.783333333333333,
          10.8,
          10.816666666666666,
          10.833333333333334,
          10.85,
          10.866666666666667,
          10.883333333333333,
          10.9,
          10.916666666666666,
          10.933333333333334,
          10.95,
          10.966666666666667,
          10.983333333333333,
          11,
          11.016666666666667,
          11.033333333333333,
          11.05,
          11.066666666666666,
          11.083333333333334,
          11.1,
          11.116666666666667,
          11.133333333333333,
          11.15,
          11.166666666666666,
          11.183333333333334,
          11.2,
          11.216666666666667,
          11.233333333333333,
          11.25,
          11.266666666666667,
          11.283333333333333,
          11.3,
          11.316666666666666,
          11.333333333333334,
          11.35,
          11.366666666666667,
          11.383333333333333,
          11.4,
          11.416666666666666,
          11.433333333333334,
          11.45,
          11.466666666666667,
          11.483333333333333,
          11.5,
          11.516666666666667,
          11.533333333333333,
          11.55,
          11.566666666666666,
          11.583333333333334,
          11.6,
          11.616666666666667,
          11.633333333333333,
          11.666666666666666,
          11.683333333333334,
          11.7,
          11.716666666666667,
          11.733333333333333,
          11.75,
          11.766666666666667,
          11.783333333333333,
          11.816666666666666,
          11.833333333333334,
          11.85,
          11.866666666666667,
          11.883333333333333,
          11.9,
          11.916666666666666,
          11.933333333333334,
          11.95,
          11.966666666666667,
          11.983333333333333,
          12,
          12.016666666666667,
          12.033333333333333,
          12.05,
          12.066666666666666,
          12.083333333333334,
          12.1,
          12.116666666666667,
          12.133333333333333,
          12.15,
          12.166666666666666,
          12.183333333333334,
          12.2,
          12.216666666666667,
          12.233333333333333,
          12.25,
          12.266666666666667,
          12.283333333333333,
          12.333333333333334,
          12.35,
          12.366666666666667,
          12.383333333333333,
          12.4,
          12.416666666666666,
          12.433333333333334,
          12.45,
          12.466666666666667,
          12.5,
          12.516666666666667,
          12.533333333333333,
          12.55,
          12.566666666666666,
          12.583333333333334,
          12.6,
          12.616666666666667,
          12.633333333333333,
          12.666666666666666,
          12.683333333333334,
          12.7,
          12.716666666666667,
          12.75,
          12.766666666666667,
          12.783333333333333,
          12.8,
          12.816666666666666,
          12.833333333333334,
          12.85,
          12.883333333333333,
          12.9,
          12.933333333333334,
          12.95,
          12.966666666666667,
          13.016666666666667,
          13.033333333333333,
          13.05,
          13.066666666666666,
          13.083333333333334,
          13.116666666666667,
          13.133333333333333,
          13.15,
          13.166666666666666,
          13.183333333333334,
          13.2,
          13.216666666666667,
          13.233333333333333,
          13.25,
          13.266666666666667,
          13.283333333333333,
          13.3,
          13.316666666666666,
          13.333333333333334,
          13.366666666666667,
          13.4,
          13.416666666666666,
          13.466666666666667,
          13.483333333333333,
          13.533333333333333,
          13.566666666666666,
          13.583333333333334,
          13.6,
          13.616666666666667,
          13.633333333333333,
          13.65,
          13.683333333333334,
          13.716666666666667,
          13.75,
          13.766666666666667,
          13.8,
          13.816666666666666,
          13.833333333333334,
          13.916666666666666,
          13.95,
          13.983333333333333,
          14.033333333333333,
          14.05,
          14.083333333333334,
          14.1,
          14.116666666666667,
          14.133333333333333,
          14.15,
          14.166666666666666,
          14.2,
          14.266666666666667,
          14.283333333333333,
          14.316666666666666,
          14.35,
          14.366666666666667,
          14.383333333333333,
          14.416666666666666,
          14.45,
          14.466666666666667,
          14.516666666666667,
          14.533333333333333,
          14.566666666666666,
          14.6,
          14.716666666666667,
          14.733333333333333,
          14.75,
          14.783333333333333,
          14.8,
          14.816666666666666,
          14.883333333333333,
          14.9,
          14.916666666666666,
          15,
          15.066666666666666,
          15.133333333333333,
          15.15,
          15.166666666666666,
          15.183333333333334,
          15.2,
          15.266666666666667,
          15.283333333333333,
          15.3,
          15.316666666666666,
          15.35,
          15.383333333333333,
          15.4,
          15.45,
          15.466666666666667,
          15.516666666666667,
          15.533333333333333,
          15.55,
          15.6,
          15.633333333333333,
          15.7,
          15.733333333333333,
          15.783333333333333,
          15.833333333333334,
          15.85,
          15.866666666666667,
          15.916666666666666,
          15.95,
          15.983333333333333,
          16.05,
          16.066666666666666,
          16.083333333333332,
          16.133333333333333,
          16.183333333333334,
          16.266666666666666,
          16.3,
          16.35,
          16.433333333333334,
          16.55,
          16.616666666666667,
          16.633333333333333,
          16.716666666666665,
          16.75,
          16.816666666666666,
          16.9,
          17.033333333333335,
          17.1,
          17.166666666666668,
          17.216666666666665,
          17.233333333333334,
          17.283333333333335,
          17.366666666666667,
          17.383333333333333,
          17.4,
          17.416666666666668,
          17.433333333333334,
          17.5,
          17.516666666666666,
          17.65,
          17.833333333333332,
          17.883333333333333,
          18.066666666666666,
          18.133333333333333,
          18.15,
          18.466666666666665,
          18.5,
          18.533333333333335,
          18.866666666666667,
          19.133333333333333,
          19.4,
          19.45,
          19.466666666666665,
          19.516666666666666,
          19.55,
          19.566666666666666,
          19.583333333333332,
          19.616666666666667,
          19.733333333333334,
          20,
          20.033333333333335,
          20.183333333333334,
          20.25,
          20.3,
          20.433333333333334,
          20.45,
          20.5,
          21.083333333333332,
          21.433333333333334,
          21.55,
          21.65,
          21.7,
          21.866666666666667,
          21.883333333333333,
          22.566666666666666,
          23.433333333333334,
          23.933333333333334,
          23.966666666666665,
          24.133333333333333,
          24.35,
          24.45,
          25.333333333333332,
          25.916666666666668,
          26.616666666666667,
          27.833333333333332,
          29.583333333333332,
          31.2,
          31.566666666666666,
          31.633333333333333,
          31.75,
          32.86666666666667,
          34.9,
          36.766666666666666,
          40.016666666666666,
          46.333333333333336
         ],
         "xaxis": "x",
         "yaxis": "y"
        }
       ],
       "layout": {
        "barmode": "relative",
        "legend": {
         "tracegroupgap": 0
        },
        "template": {
         "data": {
          "bar": [
           {
            "error_x": {
             "color": "#2a3f5f"
            },
            "error_y": {
             "color": "#2a3f5f"
            },
            "marker": {
             "line": {
              "color": "#E5ECF6",
              "width": 0.5
             },
             "pattern": {
              "fillmode": "overlay",
              "size": 10,
              "solidity": 0.2
             }
            },
            "type": "bar"
           }
          ],
          "barpolar": [
           {
            "marker": {
             "line": {
              "color": "#E5ECF6",
              "width": 0.5
             },
             "pattern": {
              "fillmode": "overlay",
              "size": 10,
              "solidity": 0.2
             }
            },
            "type": "barpolar"
           }
          ],
          "carpet": [
           {
            "aaxis": {
             "endlinecolor": "#2a3f5f",
             "gridcolor": "white",
             "linecolor": "white",
             "minorgridcolor": "white",
             "startlinecolor": "#2a3f5f"
            },
            "baxis": {
             "endlinecolor": "#2a3f5f",
             "gridcolor": "white",
             "linecolor": "white",
             "minorgridcolor": "white",
             "startlinecolor": "#2a3f5f"
            },
            "type": "carpet"
           }
          ],
          "choropleth": [
           {
            "colorbar": {
             "outlinewidth": 0,
             "ticks": ""
            },
            "type": "choropleth"
           }
          ],
          "contour": [
           {
            "colorbar": {
             "outlinewidth": 0,
             "ticks": ""
            },
            "colorscale": [
             [
              0,
              "#0d0887"
             ],
             [
              0.1111111111111111,
              "#46039f"
             ],
             [
              0.2222222222222222,
              "#7201a8"
             ],
             [
              0.3333333333333333,
              "#9c179e"
             ],
             [
              0.4444444444444444,
              "#bd3786"
             ],
             [
              0.5555555555555556,
              "#d8576b"
             ],
             [
              0.6666666666666666,
              "#ed7953"
             ],
             [
              0.7777777777777778,
              "#fb9f3a"
             ],
             [
              0.8888888888888888,
              "#fdca26"
             ],
             [
              1,
              "#f0f921"
             ]
            ],
            "type": "contour"
           }
          ],
          "contourcarpet": [
           {
            "colorbar": {
             "outlinewidth": 0,
             "ticks": ""
            },
            "type": "contourcarpet"
           }
          ],
          "heatmap": [
           {
            "colorbar": {
             "outlinewidth": 0,
             "ticks": ""
            },
            "colorscale": [
             [
              0,
              "#0d0887"
             ],
             [
              0.1111111111111111,
              "#46039f"
             ],
             [
              0.2222222222222222,
              "#7201a8"
             ],
             [
              0.3333333333333333,
              "#9c179e"
             ],
             [
              0.4444444444444444,
              "#bd3786"
             ],
             [
              0.5555555555555556,
              "#d8576b"
             ],
             [
              0.6666666666666666,
              "#ed7953"
             ],
             [
              0.7777777777777778,
              "#fb9f3a"
             ],
             [
              0.8888888888888888,
              "#fdca26"
             ],
             [
              1,
              "#f0f921"
             ]
            ],
            "type": "heatmap"
           }
          ],
          "heatmapgl": [
           {
            "colorbar": {
             "outlinewidth": 0,
             "ticks": ""
            },
            "colorscale": [
             [
              0,
              "#0d0887"
             ],
             [
              0.1111111111111111,
              "#46039f"
             ],
             [
              0.2222222222222222,
              "#7201a8"
             ],
             [
              0.3333333333333333,
              "#9c179e"
             ],
             [
              0.4444444444444444,
              "#bd3786"
             ],
             [
              0.5555555555555556,
              "#d8576b"
             ],
             [
              0.6666666666666666,
              "#ed7953"
             ],
             [
              0.7777777777777778,
              "#fb9f3a"
             ],
             [
              0.8888888888888888,
              "#fdca26"
             ],
             [
              1,
              "#f0f921"
             ]
            ],
            "type": "heatmapgl"
           }
          ],
          "histogram": [
           {
            "marker": {
             "pattern": {
              "fillmode": "overlay",
              "size": 10,
              "solidity": 0.2
             }
            },
            "type": "histogram"
           }
          ],
          "histogram2d": [
           {
            "colorbar": {
             "outlinewidth": 0,
             "ticks": ""
            },
            "colorscale": [
             [
              0,
              "#0d0887"
             ],
             [
              0.1111111111111111,
              "#46039f"
             ],
             [
              0.2222222222222222,
              "#7201a8"
             ],
             [
              0.3333333333333333,
              "#9c179e"
             ],
             [
              0.4444444444444444,
              "#bd3786"
             ],
             [
              0.5555555555555556,
              "#d8576b"
             ],
             [
              0.6666666666666666,
              "#ed7953"
             ],
             [
              0.7777777777777778,
              "#fb9f3a"
             ],
             [
              0.8888888888888888,
              "#fdca26"
             ],
             [
              1,
              "#f0f921"
             ]
            ],
            "type": "histogram2d"
           }
          ],
          "histogram2dcontour": [
           {
            "colorbar": {
             "outlinewidth": 0,
             "ticks": ""
            },
            "colorscale": [
             [
              0,
              "#0d0887"
             ],
             [
              0.1111111111111111,
              "#46039f"
             ],
             [
              0.2222222222222222,
              "#7201a8"
             ],
             [
              0.3333333333333333,
              "#9c179e"
             ],
             [
              0.4444444444444444,
              "#bd3786"
             ],
             [
              0.5555555555555556,
              "#d8576b"
             ],
             [
              0.6666666666666666,
              "#ed7953"
             ],
             [
              0.7777777777777778,
              "#fb9f3a"
             ],
             [
              0.8888888888888888,
              "#fdca26"
             ],
             [
              1,
              "#f0f921"
             ]
            ],
            "type": "histogram2dcontour"
           }
          ],
          "mesh3d": [
           {
            "colorbar": {
             "outlinewidth": 0,
             "ticks": ""
            },
            "type": "mesh3d"
           }
          ],
          "parcoords": [
           {
            "line": {
             "colorbar": {
              "outlinewidth": 0,
              "ticks": ""
             }
            },
            "type": "parcoords"
           }
          ],
          "pie": [
           {
            "automargin": true,
            "type": "pie"
           }
          ],
          "scatter": [
           {
            "fillpattern": {
             "fillmode": "overlay",
             "size": 10,
             "solidity": 0.2
            },
            "type": "scatter"
           }
          ],
          "scatter3d": [
           {
            "line": {
             "colorbar": {
              "outlinewidth": 0,
              "ticks": ""
             }
            },
            "marker": {
             "colorbar": {
              "outlinewidth": 0,
              "ticks": ""
             }
            },
            "type": "scatter3d"
           }
          ],
          "scattercarpet": [
           {
            "marker": {
             "colorbar": {
              "outlinewidth": 0,
              "ticks": ""
             }
            },
            "type": "scattercarpet"
           }
          ],
          "scattergeo": [
           {
            "marker": {
             "colorbar": {
              "outlinewidth": 0,
              "ticks": ""
             }
            },
            "type": "scattergeo"
           }
          ],
          "scattergl": [
           {
            "marker": {
             "colorbar": {
              "outlinewidth": 0,
              "ticks": ""
             }
            },
            "type": "scattergl"
           }
          ],
          "scattermapbox": [
           {
            "marker": {
             "colorbar": {
              "outlinewidth": 0,
              "ticks": ""
             }
            },
            "type": "scattermapbox"
           }
          ],
          "scatterpolar": [
           {
            "marker": {
             "colorbar": {
              "outlinewidth": 0,
              "ticks": ""
             }
            },
            "type": "scatterpolar"
           }
          ],
          "scatterpolargl": [
           {
            "marker": {
             "colorbar": {
              "outlinewidth": 0,
              "ticks": ""
             }
            },
            "type": "scatterpolargl"
           }
          ],
          "scatterternary": [
           {
            "marker": {
             "colorbar": {
              "outlinewidth": 0,
              "ticks": ""
             }
            },
            "type": "scatterternary"
           }
          ],
          "surface": [
           {
            "colorbar": {
             "outlinewidth": 0,
             "ticks": ""
            },
            "colorscale": [
             [
              0,
              "#0d0887"
             ],
             [
              0.1111111111111111,
              "#46039f"
             ],
             [
              0.2222222222222222,
              "#7201a8"
             ],
             [
              0.3333333333333333,
              "#9c179e"
             ],
             [
              0.4444444444444444,
              "#bd3786"
             ],
             [
              0.5555555555555556,
              "#d8576b"
             ],
             [
              0.6666666666666666,
              "#ed7953"
             ],
             [
              0.7777777777777778,
              "#fb9f3a"
             ],
             [
              0.8888888888888888,
              "#fdca26"
             ],
             [
              1,
              "#f0f921"
             ]
            ],
            "type": "surface"
           }
          ],
          "table": [
           {
            "cells": {
             "fill": {
              "color": "#EBF0F8"
             },
             "line": {
              "color": "white"
             }
            },
            "header": {
             "fill": {
              "color": "#C8D4E3"
             },
             "line": {
              "color": "white"
             }
            },
            "type": "table"
           }
          ]
         },
         "layout": {
          "annotationdefaults": {
           "arrowcolor": "#2a3f5f",
           "arrowhead": 0,
           "arrowwidth": 1
          },
          "autotypenumbers": "strict",
          "coloraxis": {
           "colorbar": {
            "outlinewidth": 0,
            "ticks": ""
           }
          },
          "colorscale": {
           "diverging": [
            [
             0,
             "#8e0152"
            ],
            [
             0.1,
             "#c51b7d"
            ],
            [
             0.2,
             "#de77ae"
            ],
            [
             0.3,
             "#f1b6da"
            ],
            [
             0.4,
             "#fde0ef"
            ],
            [
             0.5,
             "#f7f7f7"
            ],
            [
             0.6,
             "#e6f5d0"
            ],
            [
             0.7,
             "#b8e186"
            ],
            [
             0.8,
             "#7fbc41"
            ],
            [
             0.9,
             "#4d9221"
            ],
            [
             1,
             "#276419"
            ]
           ],
           "sequential": [
            [
             0,
             "#0d0887"
            ],
            [
             0.1111111111111111,
             "#46039f"
            ],
            [
             0.2222222222222222,
             "#7201a8"
            ],
            [
             0.3333333333333333,
             "#9c179e"
            ],
            [
             0.4444444444444444,
             "#bd3786"
            ],
            [
             0.5555555555555556,
             "#d8576b"
            ],
            [
             0.6666666666666666,
             "#ed7953"
            ],
            [
             0.7777777777777778,
             "#fb9f3a"
            ],
            [
             0.8888888888888888,
             "#fdca26"
            ],
            [
             1,
             "#f0f921"
            ]
           ],
           "sequentialminus": [
            [
             0,
             "#0d0887"
            ],
            [
             0.1111111111111111,
             "#46039f"
            ],
            [
             0.2222222222222222,
             "#7201a8"
            ],
            [
             0.3333333333333333,
             "#9c179e"
            ],
            [
             0.4444444444444444,
             "#bd3786"
            ],
            [
             0.5555555555555556,
             "#d8576b"
            ],
            [
             0.6666666666666666,
             "#ed7953"
            ],
            [
             0.7777777777777778,
             "#fb9f3a"
            ],
            [
             0.8888888888888888,
             "#fdca26"
            ],
            [
             1,
             "#f0f921"
            ]
           ]
          },
          "colorway": [
           "#636efa",
           "#EF553B",
           "#00cc96",
           "#ab63fa",
           "#FFA15A",
           "#19d3f3",
           "#FF6692",
           "#B6E880",
           "#FF97FF",
           "#FECB52"
          ],
          "font": {
           "color": "#2a3f5f"
          },
          "geo": {
           "bgcolor": "white",
           "lakecolor": "white",
           "landcolor": "#E5ECF6",
           "showlakes": true,
           "showland": true,
           "subunitcolor": "white"
          },
          "hoverlabel": {
           "align": "left"
          },
          "hovermode": "closest",
          "mapbox": {
           "style": "light"
          },
          "paper_bgcolor": "white",
          "plot_bgcolor": "#E5ECF6",
          "polar": {
           "angularaxis": {
            "gridcolor": "white",
            "linecolor": "white",
            "ticks": ""
           },
           "bgcolor": "#E5ECF6",
           "radialaxis": {
            "gridcolor": "white",
            "linecolor": "white",
            "ticks": ""
           }
          },
          "scene": {
           "xaxis": {
            "backgroundcolor": "#E5ECF6",
            "gridcolor": "white",
            "gridwidth": 2,
            "linecolor": "white",
            "showbackground": true,
            "ticks": "",
            "zerolinecolor": "white"
           },
           "yaxis": {
            "backgroundcolor": "#E5ECF6",
            "gridcolor": "white",
            "gridwidth": 2,
            "linecolor": "white",
            "showbackground": true,
            "ticks": "",
            "zerolinecolor": "white"
           },
           "zaxis": {
            "backgroundcolor": "#E5ECF6",
            "gridcolor": "white",
            "gridwidth": 2,
            "linecolor": "white",
            "showbackground": true,
            "ticks": "",
            "zerolinecolor": "white"
           }
          },
          "shapedefaults": {
           "line": {
            "color": "#2a3f5f"
           }
          },
          "ternary": {
           "aaxis": {
            "gridcolor": "white",
            "linecolor": "white",
            "ticks": ""
           },
           "baxis": {
            "gridcolor": "white",
            "linecolor": "white",
            "ticks": ""
           },
           "bgcolor": "#E5ECF6",
           "caxis": {
            "gridcolor": "white",
            "linecolor": "white",
            "ticks": ""
           }
          },
          "title": {
           "x": 0.05
          },
          "xaxis": {
           "automargin": true,
           "gridcolor": "white",
           "linecolor": "white",
           "ticks": "",
           "title": {
            "standoff": 15
           },
           "zerolinecolor": "white",
           "zerolinewidth": 2
          },
          "yaxis": {
           "automargin": true,
           "gridcolor": "white",
           "linecolor": "white",
           "ticks": "",
           "title": {
            "standoff": 15
           },
           "zerolinecolor": "white",
           "zerolinewidth": 2
          }
         }
        },
        "title": {
         "text": "Histogram of Inbound Durations"
        },
        "xaxis": {
         "anchor": "y",
         "domain": [
          0,
          1
         ],
         "title": {
          "text": "TalkonMinutes"
         }
        },
        "yaxis": {
         "anchor": "x",
         "domain": [
          0,
          1
         ],
         "title": {
          "text": "count"
         }
        }
       }
      }
     },
     "metadata": {},
     "output_type": "display_data"
    }
   ],
   "source": [
    "# Assuming df1 is your DataFrame\n",
    "filtered_df = df1[df1['Communication Type'] == 'Inbound']\n",
    "tb = filtered_df.groupby('TalkonMinutes').size().reset_index(name='Count')\n",
    "\n",
    "# Create the histogram with Plotly Express\n",
    "fig = px.histogram(tb, x=\"TalkonMinutes\", nbins=100, title=\"Histogram of Inbound Durations\")\n",
    "fig.update_layout(title_text=\"Histogram of Inbound Durations\")\n",
    "\n",
    "# Show the plot\n",
    "fig.show()\n"
   ]
  },
  {
   "cell_type": "code",
   "execution_count": 132,
   "metadata": {},
   "outputs": [
    {
     "data": {
      "application/vnd.plotly.v1+json": {
       "config": {
        "plotlyServerURL": "https://plot.ly"
       },
       "data": [
        {
         "alignmentgroup": "True",
         "bingroup": "x",
         "hovertemplate": "TalkonMinutes=%{x}<br>count=%{y}<extra></extra>",
         "legendgroup": "",
         "marker": {
          "color": "#636efa",
          "pattern": {
           "shape": ""
          }
         },
         "name": "",
         "nbinsx": 100,
         "offsetgroup": "",
         "orientation": "v",
         "showlegend": false,
         "type": "histogram",
         "x": [
          0,
          0.016666666666666666,
          0.03333333333333333,
          0.05,
          0.06666666666666667,
          0.08333333333333333,
          0.1,
          0.11666666666666667,
          0.13333333333333333,
          0.15,
          0.16666666666666666,
          0.18333333333333332,
          0.2,
          0.21666666666666667,
          0.23333333333333334,
          0.25,
          0.26666666666666666,
          0.2833333333333333,
          0.3,
          0.31666666666666665,
          0.3333333333333333,
          0.35,
          0.36666666666666664,
          0.38333333333333336,
          0.4,
          0.4166666666666667,
          0.43333333333333335,
          0.45,
          0.4666666666666667,
          0.48333333333333334,
          0.5,
          0.5166666666666667,
          0.5333333333333333,
          0.55,
          0.5666666666666667,
          0.5833333333333334,
          0.6,
          0.6166666666666667,
          0.6333333333333333,
          0.65,
          0.6666666666666666,
          0.6833333333333333,
          0.7,
          0.7166666666666667,
          0.7333333333333333,
          0.75,
          0.7666666666666667,
          0.7833333333333333,
          0.8,
          0.8166666666666667,
          0.8333333333333334,
          0.85,
          0.8666666666666667,
          0.8833333333333333,
          0.9,
          0.9166666666666666,
          0.9333333333333333,
          0.95,
          0.9666666666666667,
          0.9833333333333333,
          1,
          1.0166666666666666,
          1.0333333333333334,
          1.05,
          1.0666666666666667,
          1.0833333333333333,
          1.1,
          1.1166666666666667,
          1.1333333333333333,
          1.15,
          1.1666666666666667,
          1.1833333333333333,
          1.2,
          1.2166666666666668,
          1.2333333333333334,
          1.25,
          1.2666666666666666,
          1.2833333333333332,
          1.3,
          1.3166666666666667,
          1.3333333333333333,
          1.35,
          1.3666666666666667,
          1.3833333333333333,
          1.4,
          1.4166666666666667,
          1.4333333333333333,
          1.45,
          1.4666666666666668,
          1.4833333333333334,
          1.5,
          1.5166666666666666,
          1.5333333333333332,
          1.55,
          1.5666666666666667,
          1.5833333333333335,
          1.6,
          1.6166666666666667,
          1.6333333333333333,
          1.65,
          1.6666666666666665,
          1.6833333333333333,
          1.7,
          1.7166666666666668,
          1.7333333333333334,
          1.75,
          1.7666666666666666,
          1.7833333333333332,
          1.8,
          1.8166666666666667,
          1.8333333333333335,
          1.85,
          1.8666666666666667,
          1.8833333333333333,
          1.9,
          1.9166666666666665,
          1.9333333333333333,
          1.95,
          1.9666666666666668,
          1.9833333333333334,
          2,
          2.0166666666666666,
          2.033333333333333,
          2.05,
          2.066666666666667,
          2.0833333333333335,
          2.1,
          2.1166666666666667,
          2.1333333333333333,
          2.15,
          2.1666666666666665,
          2.183333333333333,
          2.2,
          2.216666666666667,
          2.2333333333333334,
          2.25,
          2.2666666666666666,
          2.283333333333333,
          2.3,
          2.3166666666666664,
          2.3333333333333335,
          2.35,
          2.3666666666666667,
          2.3833333333333333,
          2.4,
          2.4166666666666665,
          2.4333333333333336,
          2.45,
          2.466666666666667,
          2.4833333333333334,
          2.5,
          2.5166666666666666,
          2.533333333333333,
          2.55,
          2.5666666666666664,
          2.5833333333333335,
          2.6,
          2.6166666666666667,
          2.6333333333333333,
          2.65,
          2.6666666666666665,
          2.6833333333333336,
          2.7,
          2.716666666666667,
          2.7333333333333334,
          2.75,
          2.7666666666666666,
          2.783333333333333,
          2.8,
          2.8166666666666664,
          2.8333333333333335,
          2.85,
          2.8666666666666667,
          2.8833333333333333,
          2.9,
          2.9166666666666665,
          2.9333333333333336,
          2.95,
          2.966666666666667,
          2.9833333333333334,
          3,
          3.0166666666666666,
          3.033333333333333,
          3.05,
          3.066666666666667,
          3.0833333333333335,
          3.1,
          3.1166666666666667,
          3.1333333333333333,
          3.15,
          3.1666666666666665,
          3.183333333333333,
          3.2,
          3.216666666666667,
          3.2333333333333334,
          3.25,
          3.2666666666666666,
          3.283333333333333,
          3.3,
          3.3166666666666664,
          3.3333333333333335,
          3.35,
          3.3666666666666667,
          3.3833333333333333,
          3.4,
          3.4166666666666665,
          3.4333333333333336,
          3.45,
          3.466666666666667,
          3.4833333333333334,
          3.5,
          3.5166666666666666,
          3.533333333333333,
          3.55,
          3.5666666666666664,
          3.5833333333333335,
          3.6,
          3.6166666666666667,
          3.6333333333333333,
          3.65,
          3.6666666666666665,
          3.6833333333333336,
          3.7,
          3.716666666666667,
          3.7333333333333334,
          3.75,
          3.7666666666666666,
          3.783333333333333,
          3.8,
          3.8166666666666664,
          3.8333333333333335,
          3.85,
          3.8666666666666667,
          3.8833333333333333,
          3.9,
          3.9166666666666665,
          3.9333333333333336,
          3.95,
          3.966666666666667,
          3.9833333333333334,
          4,
          4.016666666666667,
          4.033333333333333,
          4.05,
          4.066666666666666,
          4.083333333333333,
          4.1,
          4.116666666666666,
          4.133333333333334,
          4.15,
          4.166666666666667,
          4.183333333333334,
          4.2,
          4.216666666666667,
          4.233333333333333,
          4.25,
          4.266666666666667,
          4.283333333333333,
          4.3,
          4.316666666666666,
          4.333333333333333,
          4.35,
          4.366666666666666,
          4.383333333333334,
          4.4,
          4.416666666666667,
          4.433333333333334,
          4.45,
          4.466666666666667,
          4.483333333333333,
          4.5,
          4.516666666666667,
          4.533333333333333,
          4.55,
          4.566666666666666,
          4.583333333333333,
          4.6,
          4.616666666666667,
          4.633333333333333,
          4.65,
          4.666666666666667,
          4.683333333333334,
          4.7,
          4.716666666666667,
          4.733333333333333,
          4.75,
          4.766666666666667,
          4.783333333333333,
          4.8,
          4.816666666666666,
          4.833333333333333,
          4.85,
          4.866666666666667,
          4.883333333333333,
          4.9,
          4.916666666666667,
          4.933333333333334,
          4.95,
          4.966666666666667,
          4.983333333333333,
          5,
          5.016666666666667,
          5.033333333333333,
          5.05,
          5.066666666666666,
          5.083333333333333,
          5.1,
          5.116666666666666,
          5.133333333333334,
          5.15,
          5.166666666666667,
          5.183333333333334,
          5.2,
          5.216666666666667,
          5.233333333333333,
          5.25,
          5.266666666666667,
          5.283333333333333,
          5.3,
          5.316666666666666,
          5.333333333333333,
          5.35,
          5.366666666666666,
          5.383333333333334,
          5.4,
          5.416666666666667,
          5.433333333333334,
          5.45,
          5.466666666666667,
          5.483333333333333,
          5.5,
          5.516666666666667,
          5.533333333333333,
          5.55,
          5.566666666666666,
          5.583333333333333,
          5.6,
          5.616666666666667,
          5.633333333333333,
          5.65,
          5.666666666666667,
          5.683333333333334,
          5.7,
          5.716666666666667,
          5.733333333333333,
          5.75,
          5.766666666666667,
          5.783333333333333,
          5.8,
          5.816666666666666,
          5.833333333333333,
          5.85,
          5.866666666666667,
          5.883333333333333,
          5.9,
          5.916666666666667,
          5.933333333333334,
          5.95,
          5.966666666666667,
          5.983333333333333,
          6,
          6.016666666666667,
          6.033333333333333,
          6.05,
          6.066666666666666,
          6.083333333333333,
          6.1,
          6.116666666666666,
          6.133333333333334,
          6.15,
          6.166666666666667,
          6.183333333333334,
          6.2,
          6.216666666666667,
          6.233333333333333,
          6.25,
          6.266666666666667,
          6.283333333333333,
          6.3,
          6.316666666666666,
          6.333333333333333,
          6.35,
          6.366666666666666,
          6.383333333333334,
          6.4,
          6.416666666666667,
          6.433333333333334,
          6.45,
          6.466666666666667,
          6.483333333333333,
          6.5,
          6.516666666666667,
          6.533333333333333,
          6.55,
          6.566666666666666,
          6.583333333333333,
          6.6,
          6.616666666666667,
          6.633333333333333,
          6.65,
          6.666666666666667,
          6.683333333333334,
          6.7,
          6.716666666666667,
          6.733333333333333,
          6.75,
          6.766666666666667,
          6.783333333333333,
          6.8,
          6.816666666666666,
          6.833333333333333,
          6.85,
          6.866666666666667,
          6.883333333333333,
          6.9,
          6.916666666666667,
          6.933333333333334,
          6.95,
          6.966666666666667,
          6.983333333333333,
          7,
          7.016666666666667,
          7.033333333333333,
          7.05,
          7.066666666666666,
          7.083333333333333,
          7.1,
          7.116666666666666,
          7.133333333333334,
          7.15,
          7.166666666666667,
          7.183333333333334,
          7.2,
          7.216666666666667,
          7.233333333333333,
          7.25,
          7.266666666666667,
          7.283333333333333,
          7.3,
          7.316666666666666,
          7.333333333333333,
          7.35,
          7.366666666666666,
          7.383333333333334,
          7.4,
          7.416666666666667,
          7.433333333333334,
          7.45,
          7.466666666666667,
          7.483333333333333,
          7.5,
          7.516666666666667,
          7.533333333333333,
          7.55,
          7.566666666666666,
          7.583333333333333,
          7.6,
          7.616666666666667,
          7.633333333333333,
          7.65,
          7.666666666666667,
          7.683333333333334,
          7.7,
          7.716666666666667,
          7.733333333333333,
          7.75,
          7.766666666666667,
          7.783333333333333,
          7.8,
          7.816666666666666,
          7.833333333333333,
          7.85,
          7.866666666666667,
          7.883333333333333,
          7.9,
          7.916666666666667,
          7.933333333333334,
          7.95,
          7.966666666666667,
          7.983333333333333,
          8,
          8.016666666666667,
          8.033333333333333,
          8.05,
          8.066666666666666,
          8.083333333333334,
          8.1,
          8.116666666666667,
          8.133333333333333,
          8.15,
          8.166666666666666,
          8.183333333333334,
          8.2,
          8.216666666666667,
          8.233333333333333,
          8.25,
          8.266666666666667,
          8.283333333333333,
          8.3,
          8.316666666666666,
          8.333333333333334,
          8.35,
          8.366666666666667,
          8.383333333333333,
          8.4,
          8.416666666666666,
          8.433333333333334,
          8.45,
          8.466666666666667,
          8.483333333333333,
          8.5,
          8.516666666666667,
          8.533333333333333,
          8.55,
          8.566666666666666,
          8.583333333333334,
          8.6,
          8.616666666666667,
          8.633333333333333,
          8.65,
          8.666666666666666,
          8.7,
          8.716666666666667,
          8.733333333333333,
          8.75,
          8.766666666666667,
          8.783333333333333,
          8.8,
          8.816666666666666,
          8.833333333333334,
          8.85,
          8.866666666666667,
          8.883333333333333,
          8.916666666666666,
          8.933333333333334,
          8.95,
          8.966666666666667,
          8.983333333333333,
          9.016666666666667,
          9.033333333333333,
          9.05,
          9.066666666666666,
          9.083333333333334,
          9.1,
          9.116666666666667,
          9.133333333333333,
          9.15,
          9.166666666666666,
          9.183333333333334,
          9.2,
          9.233333333333333,
          9.25,
          9.266666666666667,
          9.283333333333333,
          9.3,
          9.316666666666666,
          9.333333333333334,
          9.35,
          9.366666666666667,
          9.383333333333333,
          9.4,
          9.416666666666666,
          9.433333333333334,
          9.45,
          9.466666666666667,
          9.483333333333333,
          9.5,
          9.533333333333333,
          9.55,
          9.566666666666666,
          9.583333333333334,
          9.6,
          9.616666666666667,
          9.633333333333333,
          9.65,
          9.666666666666666,
          9.683333333333334,
          9.7,
          9.716666666666667,
          9.733333333333333,
          9.75,
          9.783333333333333,
          9.8,
          9.816666666666666,
          9.833333333333334,
          9.85,
          9.866666666666667,
          9.883333333333333,
          9.9,
          9.916666666666666,
          9.933333333333334,
          9.966666666666667,
          9.983333333333333,
          10.016666666666667,
          10.033333333333333,
          10.05,
          10.066666666666666,
          10.083333333333334,
          10.1,
          10.116666666666667,
          10.133333333333333,
          10.15,
          10.166666666666666,
          10.183333333333334,
          10.2,
          10.216666666666667,
          10.233333333333333,
          10.25,
          10.266666666666667,
          10.283333333333333,
          10.3,
          10.316666666666666,
          10.333333333333334,
          10.366666666666667,
          10.4,
          10.416666666666666,
          10.433333333333334,
          10.45,
          10.466666666666667,
          10.483333333333333,
          10.5,
          10.516666666666667,
          10.533333333333333,
          10.55,
          10.566666666666666,
          10.583333333333334,
          10.6,
          10.616666666666667,
          10.633333333333333,
          10.65,
          10.683333333333334,
          10.7,
          10.716666666666667,
          10.75,
          10.766666666666667,
          10.783333333333333,
          10.8,
          10.816666666666666,
          10.833333333333334,
          10.85,
          10.866666666666667,
          10.883333333333333,
          10.916666666666666,
          10.95,
          10.966666666666667,
          10.983333333333333,
          11,
          11.016666666666667,
          11.033333333333333,
          11.05,
          11.083333333333334,
          11.1,
          11.133333333333333,
          11.15,
          11.166666666666666,
          11.183333333333334,
          11.2,
          11.233333333333333,
          11.25,
          11.266666666666667,
          11.316666666666666,
          11.333333333333334,
          11.35,
          11.366666666666667,
          11.416666666666666,
          11.433333333333334,
          11.45,
          11.466666666666667,
          11.483333333333333,
          11.5,
          11.516666666666667,
          11.533333333333333,
          11.55,
          11.566666666666666,
          11.583333333333334,
          11.6,
          11.616666666666667,
          11.633333333333333,
          11.65,
          11.666666666666666,
          11.683333333333334,
          11.7,
          11.716666666666667,
          11.75,
          11.766666666666667,
          11.783333333333333,
          11.8,
          11.833333333333334,
          11.85,
          11.866666666666667,
          11.9,
          11.916666666666666,
          11.933333333333334,
          11.966666666666667,
          11.983333333333333,
          12,
          12.016666666666667,
          12.05,
          12.083333333333334,
          12.1,
          12.116666666666667,
          12.133333333333333,
          12.15,
          12.166666666666666,
          12.2,
          12.25,
          12.283333333333333,
          12.316666666666666,
          12.35,
          12.366666666666667,
          12.383333333333333,
          12.4,
          12.416666666666666,
          12.45,
          12.483333333333333,
          12.5,
          12.516666666666667,
          12.533333333333333,
          12.566666666666666,
          12.583333333333334,
          12.616666666666667,
          12.666666666666666,
          12.7,
          12.716666666666667,
          12.733333333333333,
          12.75,
          12.8,
          12.816666666666666,
          12.866666666666667,
          12.883333333333333,
          12.916666666666666,
          12.966666666666667,
          12.983333333333333,
          13,
          13.016666666666667,
          13.033333333333333,
          13.05,
          13.066666666666666,
          13.1,
          13.116666666666667,
          13.133333333333333,
          13.166666666666666,
          13.2,
          13.216666666666667,
          13.233333333333333,
          13.266666666666667,
          13.283333333333333,
          13.316666666666666,
          13.366666666666667,
          13.433333333333334,
          13.45,
          13.466666666666667,
          13.516666666666667,
          13.566666666666666,
          13.583333333333334,
          13.633333333333333,
          13.666666666666666,
          13.75,
          13.766666666666667,
          13.8,
          13.833333333333334,
          13.85,
          13.866666666666667,
          13.9,
          13.916666666666666,
          13.966666666666667,
          13.983333333333333,
          14,
          14.016666666666667,
          14.033333333333333,
          14.05,
          14.083333333333334,
          14.116666666666667,
          14.216666666666667,
          14.233333333333333,
          14.25,
          14.266666666666667,
          14.283333333333333,
          14.383333333333333,
          14.4,
          14.533333333333333,
          14.55,
          14.633333333333333,
          14.666666666666666,
          14.683333333333334,
          14.7,
          14.766666666666667,
          14.783333333333333,
          14.866666666666667,
          14.883333333333333,
          14.9,
          14.916666666666666,
          14.933333333333334,
          14.966666666666667,
          15,
          15.066666666666666,
          15.116666666666667,
          15.15,
          15.216666666666667,
          15.25,
          15.283333333333333,
          15.3,
          15.35,
          15.366666666666667,
          15.4,
          15.416666666666666,
          15.483333333333333,
          15.5,
          15.533333333333333,
          15.683333333333334,
          15.8,
          15.816666666666666,
          15.85,
          15.9,
          15.933333333333334,
          15.966666666666667,
          16,
          16.033333333333335,
          16.15,
          16.2,
          16.266666666666666,
          16.283333333333335,
          16.366666666666667,
          16.416666666666668,
          16.433333333333334,
          16.483333333333334,
          16.5,
          16.583333333333332,
          16.666666666666668,
          16.733333333333334,
          16.8,
          16.816666666666666,
          16.866666666666667,
          16.916666666666668,
          16.95,
          17,
          17.05,
          17.066666666666666,
          17.1,
          17.116666666666667,
          17.316666666666666,
          17.35,
          17.383333333333333,
          17.433333333333334,
          17.666666666666668,
          17.75,
          17.783333333333335,
          17.95,
          17.966666666666665,
          18.05,
          18.216666666666665,
          18.233333333333334,
          18.35,
          18.633333333333333,
          18.75,
          18.866666666666667,
          18.916666666666668,
          19,
          19.083333333333332,
          19.116666666666667,
          19.133333333333333,
          19.45,
          19.616666666666667,
          20,
          20.366666666666667,
          20.916666666666668,
          20.933333333333334,
          21,
          21.316666666666666,
          21.55,
          22.2,
          22.35,
          22.716666666666665,
          22.883333333333333,
          23.05,
          23.15,
          23.416666666666668,
          23.483333333333334,
          23.533333333333335,
          23.6,
          24.183333333333334,
          24.866666666666667,
          24.933333333333334,
          25.166666666666668,
          27.05,
          27.816666666666666,
          42.333333333333336,
          44.75
         ],
         "xaxis": "x",
         "yaxis": "y"
        }
       ],
       "layout": {
        "barmode": "relative",
        "legend": {
         "tracegroupgap": 0
        },
        "template": {
         "data": {
          "bar": [
           {
            "error_x": {
             "color": "#2a3f5f"
            },
            "error_y": {
             "color": "#2a3f5f"
            },
            "marker": {
             "line": {
              "color": "#E5ECF6",
              "width": 0.5
             },
             "pattern": {
              "fillmode": "overlay",
              "size": 10,
              "solidity": 0.2
             }
            },
            "type": "bar"
           }
          ],
          "barpolar": [
           {
            "marker": {
             "line": {
              "color": "#E5ECF6",
              "width": 0.5
             },
             "pattern": {
              "fillmode": "overlay",
              "size": 10,
              "solidity": 0.2
             }
            },
            "type": "barpolar"
           }
          ],
          "carpet": [
           {
            "aaxis": {
             "endlinecolor": "#2a3f5f",
             "gridcolor": "white",
             "linecolor": "white",
             "minorgridcolor": "white",
             "startlinecolor": "#2a3f5f"
            },
            "baxis": {
             "endlinecolor": "#2a3f5f",
             "gridcolor": "white",
             "linecolor": "white",
             "minorgridcolor": "white",
             "startlinecolor": "#2a3f5f"
            },
            "type": "carpet"
           }
          ],
          "choropleth": [
           {
            "colorbar": {
             "outlinewidth": 0,
             "ticks": ""
            },
            "type": "choropleth"
           }
          ],
          "contour": [
           {
            "colorbar": {
             "outlinewidth": 0,
             "ticks": ""
            },
            "colorscale": [
             [
              0,
              "#0d0887"
             ],
             [
              0.1111111111111111,
              "#46039f"
             ],
             [
              0.2222222222222222,
              "#7201a8"
             ],
             [
              0.3333333333333333,
              "#9c179e"
             ],
             [
              0.4444444444444444,
              "#bd3786"
             ],
             [
              0.5555555555555556,
              "#d8576b"
             ],
             [
              0.6666666666666666,
              "#ed7953"
             ],
             [
              0.7777777777777778,
              "#fb9f3a"
             ],
             [
              0.8888888888888888,
              "#fdca26"
             ],
             [
              1,
              "#f0f921"
             ]
            ],
            "type": "contour"
           }
          ],
          "contourcarpet": [
           {
            "colorbar": {
             "outlinewidth": 0,
             "ticks": ""
            },
            "type": "contourcarpet"
           }
          ],
          "heatmap": [
           {
            "colorbar": {
             "outlinewidth": 0,
             "ticks": ""
            },
            "colorscale": [
             [
              0,
              "#0d0887"
             ],
             [
              0.1111111111111111,
              "#46039f"
             ],
             [
              0.2222222222222222,
              "#7201a8"
             ],
             [
              0.3333333333333333,
              "#9c179e"
             ],
             [
              0.4444444444444444,
              "#bd3786"
             ],
             [
              0.5555555555555556,
              "#d8576b"
             ],
             [
              0.6666666666666666,
              "#ed7953"
             ],
             [
              0.7777777777777778,
              "#fb9f3a"
             ],
             [
              0.8888888888888888,
              "#fdca26"
             ],
             [
              1,
              "#f0f921"
             ]
            ],
            "type": "heatmap"
           }
          ],
          "heatmapgl": [
           {
            "colorbar": {
             "outlinewidth": 0,
             "ticks": ""
            },
            "colorscale": [
             [
              0,
              "#0d0887"
             ],
             [
              0.1111111111111111,
              "#46039f"
             ],
             [
              0.2222222222222222,
              "#7201a8"
             ],
             [
              0.3333333333333333,
              "#9c179e"
             ],
             [
              0.4444444444444444,
              "#bd3786"
             ],
             [
              0.5555555555555556,
              "#d8576b"
             ],
             [
              0.6666666666666666,
              "#ed7953"
             ],
             [
              0.7777777777777778,
              "#fb9f3a"
             ],
             [
              0.8888888888888888,
              "#fdca26"
             ],
             [
              1,
              "#f0f921"
             ]
            ],
            "type": "heatmapgl"
           }
          ],
          "histogram": [
           {
            "marker": {
             "pattern": {
              "fillmode": "overlay",
              "size": 10,
              "solidity": 0.2
             }
            },
            "type": "histogram"
           }
          ],
          "histogram2d": [
           {
            "colorbar": {
             "outlinewidth": 0,
             "ticks": ""
            },
            "colorscale": [
             [
              0,
              "#0d0887"
             ],
             [
              0.1111111111111111,
              "#46039f"
             ],
             [
              0.2222222222222222,
              "#7201a8"
             ],
             [
              0.3333333333333333,
              "#9c179e"
             ],
             [
              0.4444444444444444,
              "#bd3786"
             ],
             [
              0.5555555555555556,
              "#d8576b"
             ],
             [
              0.6666666666666666,
              "#ed7953"
             ],
             [
              0.7777777777777778,
              "#fb9f3a"
             ],
             [
              0.8888888888888888,
              "#fdca26"
             ],
             [
              1,
              "#f0f921"
             ]
            ],
            "type": "histogram2d"
           }
          ],
          "histogram2dcontour": [
           {
            "colorbar": {
             "outlinewidth": 0,
             "ticks": ""
            },
            "colorscale": [
             [
              0,
              "#0d0887"
             ],
             [
              0.1111111111111111,
              "#46039f"
             ],
             [
              0.2222222222222222,
              "#7201a8"
             ],
             [
              0.3333333333333333,
              "#9c179e"
             ],
             [
              0.4444444444444444,
              "#bd3786"
             ],
             [
              0.5555555555555556,
              "#d8576b"
             ],
             [
              0.6666666666666666,
              "#ed7953"
             ],
             [
              0.7777777777777778,
              "#fb9f3a"
             ],
             [
              0.8888888888888888,
              "#fdca26"
             ],
             [
              1,
              "#f0f921"
             ]
            ],
            "type": "histogram2dcontour"
           }
          ],
          "mesh3d": [
           {
            "colorbar": {
             "outlinewidth": 0,
             "ticks": ""
            },
            "type": "mesh3d"
           }
          ],
          "parcoords": [
           {
            "line": {
             "colorbar": {
              "outlinewidth": 0,
              "ticks": ""
             }
            },
            "type": "parcoords"
           }
          ],
          "pie": [
           {
            "automargin": true,
            "type": "pie"
           }
          ],
          "scatter": [
           {
            "fillpattern": {
             "fillmode": "overlay",
             "size": 10,
             "solidity": 0.2
            },
            "type": "scatter"
           }
          ],
          "scatter3d": [
           {
            "line": {
             "colorbar": {
              "outlinewidth": 0,
              "ticks": ""
             }
            },
            "marker": {
             "colorbar": {
              "outlinewidth": 0,
              "ticks": ""
             }
            },
            "type": "scatter3d"
           }
          ],
          "scattercarpet": [
           {
            "marker": {
             "colorbar": {
              "outlinewidth": 0,
              "ticks": ""
             }
            },
            "type": "scattercarpet"
           }
          ],
          "scattergeo": [
           {
            "marker": {
             "colorbar": {
              "outlinewidth": 0,
              "ticks": ""
             }
            },
            "type": "scattergeo"
           }
          ],
          "scattergl": [
           {
            "marker": {
             "colorbar": {
              "outlinewidth": 0,
              "ticks": ""
             }
            },
            "type": "scattergl"
           }
          ],
          "scattermapbox": [
           {
            "marker": {
             "colorbar": {
              "outlinewidth": 0,
              "ticks": ""
             }
            },
            "type": "scattermapbox"
           }
          ],
          "scatterpolar": [
           {
            "marker": {
             "colorbar": {
              "outlinewidth": 0,
              "ticks": ""
             }
            },
            "type": "scatterpolar"
           }
          ],
          "scatterpolargl": [
           {
            "marker": {
             "colorbar": {
              "outlinewidth": 0,
              "ticks": ""
             }
            },
            "type": "scatterpolargl"
           }
          ],
          "scatterternary": [
           {
            "marker": {
             "colorbar": {
              "outlinewidth": 0,
              "ticks": ""
             }
            },
            "type": "scatterternary"
           }
          ],
          "surface": [
           {
            "colorbar": {
             "outlinewidth": 0,
             "ticks": ""
            },
            "colorscale": [
             [
              0,
              "#0d0887"
             ],
             [
              0.1111111111111111,
              "#46039f"
             ],
             [
              0.2222222222222222,
              "#7201a8"
             ],
             [
              0.3333333333333333,
              "#9c179e"
             ],
             [
              0.4444444444444444,
              "#bd3786"
             ],
             [
              0.5555555555555556,
              "#d8576b"
             ],
             [
              0.6666666666666666,
              "#ed7953"
             ],
             [
              0.7777777777777778,
              "#fb9f3a"
             ],
             [
              0.8888888888888888,
              "#fdca26"
             ],
             [
              1,
              "#f0f921"
             ]
            ],
            "type": "surface"
           }
          ],
          "table": [
           {
            "cells": {
             "fill": {
              "color": "#EBF0F8"
             },
             "line": {
              "color": "white"
             }
            },
            "header": {
             "fill": {
              "color": "#C8D4E3"
             },
             "line": {
              "color": "white"
             }
            },
            "type": "table"
           }
          ]
         },
         "layout": {
          "annotationdefaults": {
           "arrowcolor": "#2a3f5f",
           "arrowhead": 0,
           "arrowwidth": 1
          },
          "autotypenumbers": "strict",
          "coloraxis": {
           "colorbar": {
            "outlinewidth": 0,
            "ticks": ""
           }
          },
          "colorscale": {
           "diverging": [
            [
             0,
             "#8e0152"
            ],
            [
             0.1,
             "#c51b7d"
            ],
            [
             0.2,
             "#de77ae"
            ],
            [
             0.3,
             "#f1b6da"
            ],
            [
             0.4,
             "#fde0ef"
            ],
            [
             0.5,
             "#f7f7f7"
            ],
            [
             0.6,
             "#e6f5d0"
            ],
            [
             0.7,
             "#b8e186"
            ],
            [
             0.8,
             "#7fbc41"
            ],
            [
             0.9,
             "#4d9221"
            ],
            [
             1,
             "#276419"
            ]
           ],
           "sequential": [
            [
             0,
             "#0d0887"
            ],
            [
             0.1111111111111111,
             "#46039f"
            ],
            [
             0.2222222222222222,
             "#7201a8"
            ],
            [
             0.3333333333333333,
             "#9c179e"
            ],
            [
             0.4444444444444444,
             "#bd3786"
            ],
            [
             0.5555555555555556,
             "#d8576b"
            ],
            [
             0.6666666666666666,
             "#ed7953"
            ],
            [
             0.7777777777777778,
             "#fb9f3a"
            ],
            [
             0.8888888888888888,
             "#fdca26"
            ],
            [
             1,
             "#f0f921"
            ]
           ],
           "sequentialminus": [
            [
             0,
             "#0d0887"
            ],
            [
             0.1111111111111111,
             "#46039f"
            ],
            [
             0.2222222222222222,
             "#7201a8"
            ],
            [
             0.3333333333333333,
             "#9c179e"
            ],
            [
             0.4444444444444444,
             "#bd3786"
            ],
            [
             0.5555555555555556,
             "#d8576b"
            ],
            [
             0.6666666666666666,
             "#ed7953"
            ],
            [
             0.7777777777777778,
             "#fb9f3a"
            ],
            [
             0.8888888888888888,
             "#fdca26"
            ],
            [
             1,
             "#f0f921"
            ]
           ]
          },
          "colorway": [
           "#636efa",
           "#EF553B",
           "#00cc96",
           "#ab63fa",
           "#FFA15A",
           "#19d3f3",
           "#FF6692",
           "#B6E880",
           "#FF97FF",
           "#FECB52"
          ],
          "font": {
           "color": "#2a3f5f"
          },
          "geo": {
           "bgcolor": "white",
           "lakecolor": "white",
           "landcolor": "#E5ECF6",
           "showlakes": true,
           "showland": true,
           "subunitcolor": "white"
          },
          "hoverlabel": {
           "align": "left"
          },
          "hovermode": "closest",
          "mapbox": {
           "style": "light"
          },
          "paper_bgcolor": "white",
          "plot_bgcolor": "#E5ECF6",
          "polar": {
           "angularaxis": {
            "gridcolor": "white",
            "linecolor": "white",
            "ticks": ""
           },
           "bgcolor": "#E5ECF6",
           "radialaxis": {
            "gridcolor": "white",
            "linecolor": "white",
            "ticks": ""
           }
          },
          "scene": {
           "xaxis": {
            "backgroundcolor": "#E5ECF6",
            "gridcolor": "white",
            "gridwidth": 2,
            "linecolor": "white",
            "showbackground": true,
            "ticks": "",
            "zerolinecolor": "white"
           },
           "yaxis": {
            "backgroundcolor": "#E5ECF6",
            "gridcolor": "white",
            "gridwidth": 2,
            "linecolor": "white",
            "showbackground": true,
            "ticks": "",
            "zerolinecolor": "white"
           },
           "zaxis": {
            "backgroundcolor": "#E5ECF6",
            "gridcolor": "white",
            "gridwidth": 2,
            "linecolor": "white",
            "showbackground": true,
            "ticks": "",
            "zerolinecolor": "white"
           }
          },
          "shapedefaults": {
           "line": {
            "color": "#2a3f5f"
           }
          },
          "ternary": {
           "aaxis": {
            "gridcolor": "white",
            "linecolor": "white",
            "ticks": ""
           },
           "baxis": {
            "gridcolor": "white",
            "linecolor": "white",
            "ticks": ""
           },
           "bgcolor": "#E5ECF6",
           "caxis": {
            "gridcolor": "white",
            "linecolor": "white",
            "ticks": ""
           }
          },
          "title": {
           "x": 0.05
          },
          "xaxis": {
           "automargin": true,
           "gridcolor": "white",
           "linecolor": "white",
           "ticks": "",
           "title": {
            "standoff": 15
           },
           "zerolinecolor": "white",
           "zerolinewidth": 2
          },
          "yaxis": {
           "automargin": true,
           "gridcolor": "white",
           "linecolor": "white",
           "ticks": "",
           "title": {
            "standoff": 15
           },
           "zerolinecolor": "white",
           "zerolinewidth": 2
          }
         }
        },
        "title": {
         "text": "Histogram of Outbound Durations"
        },
        "xaxis": {
         "anchor": "y",
         "domain": [
          0,
          1
         ],
         "title": {
          "text": "TalkonMinutes"
         }
        },
        "yaxis": {
         "anchor": "x",
         "domain": [
          0,
          1
         ],
         "title": {
          "text": "count"
         }
        }
       }
      }
     },
     "metadata": {},
     "output_type": "display_data"
    }
   ],
   "source": [
    "# Assuming df1 is your DataFrame\n",
    "filtered_df = df1[df1['Communication Type'] == 'Outbound']\n",
    "tb = filtered_df.groupby('TalkonMinutes').size().reset_index(name='Count')\n",
    "\n",
    "# Create the histogram with Plotly Express\n",
    "fig = px.histogram(tb, x=\"TalkonMinutes\", nbins=100, title=\"Histogram of Outbound Durations\")\n",
    "fig.update_layout(title_text=\"Histogram of Outbound Durations\")\n",
    "\n",
    "# Show the plot\n",
    "fig.show()\n"
   ]
  },
  {
   "cell_type": "code",
   "execution_count": 121,
   "metadata": {},
   "outputs": [
    {
     "data": {
      "text/plain": [
       "array(['Inbound', 'Outbound'], dtype=object)"
      ]
     },
     "execution_count": 121,
     "metadata": {},
     "output_type": "execute_result"
    }
   ],
   "source": [
    "df1['Communication Type'].unique()"
   ]
  },
  {
   "cell_type": "code",
   "execution_count": null,
   "metadata": {},
   "outputs": [],
   "source": []
  }
 ],
 "metadata": {
  "kernelspec": {
   "display_name": "base",
   "language": "python",
   "name": "python3"
  },
  "language_info": {
   "codemirror_mode": {
    "name": "ipython",
    "version": 3
   },
   "file_extension": ".py",
   "mimetype": "text/x-python",
   "name": "python",
   "nbconvert_exporter": "python",
   "pygments_lexer": "ipython3",
   "version": "3.11.4"
  }
 },
 "nbformat": 4,
 "nbformat_minor": 2
}
